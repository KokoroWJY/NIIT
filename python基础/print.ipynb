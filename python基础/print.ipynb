{
 "cells": [
  {
   "cell_type": "markdown",
   "id": "29873746",
   "metadata": {},
   "source": [
    "### 4.1 分隔符 sep"
   ]
  },
  {
   "cell_type": "code",
   "execution_count": 2,
   "id": "b0c2c99e",
   "metadata": {},
   "outputs": [],
   "source": [
    "print?"
   ]
  },
  {
   "cell_type": "code",
   "execution_count": 5,
   "id": "91ffa9d0",
   "metadata": {},
   "outputs": [
    {
     "name": "stdout",
     "output_type": "stream",
     "text": [
      "2022-2-21\n"
     ]
    }
   ],
   "source": [
    "print(2022,2,21,sep='-')"
   ]
  },
  {
   "cell_type": "code",
   "execution_count": 6,
   "id": "0624310d",
   "metadata": {},
   "outputs": [
    {
     "name": "stdout",
     "output_type": "stream",
     "text": [
      "2022-02-21\n"
     ]
    }
   ],
   "source": [
    "print(2022,'02',21,sep='-')"
   ]
  },
  {
   "cell_type": "markdown",
   "id": "dd062ff1",
   "metadata": {},
   "source": [
    "###  4.2 结束符 end"
   ]
  },
  {
   "cell_type": "code",
   "execution_count": 10,
   "id": "32a21d11",
   "metadata": {},
   "outputs": [
    {
     "name": "stdout",
     "output_type": "stream",
     "text": [
      "姓名: 张三\n",
      "年龄: 18\n"
     ]
    }
   ],
   "source": [
    "print('姓名:', \"张三\")\n",
    "print('年龄:', 18)"
   ]
  },
  {
   "cell_type": "code",
   "execution_count": 12,
   "id": "7b1797b9",
   "metadata": {},
   "outputs": [
    {
     "name": "stdout",
     "output_type": "stream",
     "text": [
      "姓名: 张三 年龄: 18\n"
     ]
    }
   ],
   "source": [
    "print('姓名:', \"张三\", end=' ')\n",
    "print('年龄:', 18)"
   ]
  },
  {
   "cell_type": "markdown",
   "id": "fe9f3ba7",
   "metadata": {},
   "source": [
    "## 5 print 格式化输出"
   ]
  },
  {
   "cell_type": "code",
   "execution_count": 13,
   "id": "ec39f9e1",
   "metadata": {},
   "outputs": [],
   "source": [
    "#  格式控制部分 % 输出项列表\n",
    "#  字符串"
   ]
  },
  {
   "cell_type": "code",
   "execution_count": 19,
   "id": "d0ae5451",
   "metadata": {},
   "outputs": [
    {
     "name": "stdout",
     "output_type": "stream",
     "text": [
      "姓名: 张三, 年龄: 19\n"
     ]
    }
   ],
   "source": [
    "print('姓名: %s, 年龄: %d' % ('张三', 19)) # %s(str),%d() 占位符"
   ]
  },
  {
   "cell_type": "code",
   "execution_count": 21,
   "id": "2fd6695d",
   "metadata": {},
   "outputs": [
    {
     "name": "stdout",
     "output_type": "stream",
     "text": [
      "姓名: 张三, 年龄: 19\n"
     ]
    }
   ],
   "source": [
    "print('姓名: {}, 年龄: {}'.format('张三', 19))"
   ]
  },
  {
   "cell_type": "code",
   "execution_count": null,
   "id": "1c26ed36",
   "metadata": {},
   "outputs": [],
   "source": []
  }
 ],
 "metadata": {
  "kernelspec": {
   "display_name": "Python 3 (ipykernel)",
   "language": "python",
   "name": "python3"
  },
  "language_info": {
   "codemirror_mode": {
    "name": "ipython",
    "version": 3
   },
   "file_extension": ".py",
   "mimetype": "text/x-python",
   "name": "python",
   "nbconvert_exporter": "python",
   "pygments_lexer": "ipython3",
   "version": "3.9.7"
  }
 },
 "nbformat": 4,
 "nbformat_minor": 5
}
