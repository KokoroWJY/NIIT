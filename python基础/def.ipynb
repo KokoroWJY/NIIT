{
 "cells": [
  {
   "cell_type": "markdown",
   "id": "69fb872d",
   "metadata": {},
   "source": [
    "### map"
   ]
  },
  {
   "cell_type": "code",
   "execution_count": 2,
   "id": "7df196df",
   "metadata": {},
   "outputs": [
    {
     "data": {
      "text/plain": [
       "[2, 3, 4, 5, 6, 7, 8, 9, 10, 11]"
      ]
     },
     "execution_count": 2,
     "metadata": {},
     "output_type": "execute_result"
    }
   ],
   "source": [
    "list(map(lambda a:a + 1 , [1, 2, 3, 4, 5, 6, 7, 8, 9, 10]))"
   ]
  },
  {
   "cell_type": "code",
   "execution_count": 6,
   "id": "aebb4818",
   "metadata": {},
   "outputs": [
    {
     "data": {
      "text/plain": [
       "(2, 3, 4, 5, 6, 7, 8, 9, 10, 11)"
      ]
     },
     "execution_count": 6,
     "metadata": {},
     "output_type": "execute_result"
    }
   ],
   "source": [
    "tuple(map(lambda a:a + 1 , [1, 2, 3, 4, 5, 6, 7, 8, 9, 10]))"
   ]
  },
  {
   "cell_type": "markdown",
   "id": "9dc75fc8",
   "metadata": {},
   "source": [
    "### fillter"
   ]
  },
  {
   "cell_type": "code",
   "execution_count": 8,
   "id": "7c927945",
   "metadata": {},
   "outputs": [
    {
     "data": {
      "text/plain": [
       "[1, 3, 5, 7, 9]"
      ]
     },
     "execution_count": 8,
     "metadata": {},
     "output_type": "execute_result"
    }
   ],
   "source": [
    "list(filter(lambda a:a % 2 == 1, [1,2,3,4,5,6,7,8,9,10]))"
   ]
  },
  {
   "cell_type": "markdown",
   "id": "f3b6e76f",
   "metadata": {},
   "source": [
    "### reduce"
   ]
  },
  {
   "cell_type": "code",
   "execution_count": 9,
   "id": "38f5c107",
   "metadata": {},
   "outputs": [],
   "source": [
    "from functools import reduce"
   ]
  },
  {
   "cell_type": "code",
   "execution_count": 10,
   "id": "ae03481f",
   "metadata": {},
   "outputs": [],
   "source": [
    "f = lambda x,y:x+y"
   ]
  },
  {
   "cell_type": "code",
   "execution_count": 11,
   "id": "359b9deb",
   "metadata": {},
   "outputs": [],
   "source": [
    "res = reduce(f, [1,2,3,4,5], 100) # 默认从零开始, 100设置初始值"
   ]
  },
  {
   "cell_type": "code",
   "execution_count": 12,
   "id": "b280cb9c",
   "metadata": {},
   "outputs": [
    {
     "data": {
      "text/plain": [
       "115"
      ]
     },
     "execution_count": 12,
     "metadata": {},
     "output_type": "execute_result"
    }
   ],
   "source": [
    "res"
   ]
  },
  {
   "cell_type": "code",
   "execution_count": 13,
   "id": "719f6983",
   "metadata": {},
   "outputs": [
    {
     "data": {
      "text/plain": [
       "15"
      ]
     },
     "execution_count": 13,
     "metadata": {},
     "output_type": "execute_result"
    }
   ],
   "source": [
    "res = reduce(f, [1,2,3,4,5])\n",
    "res"
   ]
  },
  {
   "cell_type": "code",
   "execution_count": 15,
   "id": "ee4cf823",
   "metadata": {},
   "outputs": [
    {
     "data": {
      "text/plain": [
       "1200"
      ]
     },
     "execution_count": 15,
     "metadata": {},
     "output_type": "execute_result"
    }
   ],
   "source": [
    "fun = lambda x,y:x * y\n",
    "res = reduce(fun, [1,2,3,4,5], 10)\n",
    "res"
   ]
  },
  {
   "cell_type": "markdown",
   "id": "4fe3c050",
   "metadata": {},
   "source": [
    "# 面向对象"
   ]
  },
  {
   "cell_type": "markdown",
   "id": "feed12b9",
   "metadata": {},
   "source": [
    "## 类及对象"
   ]
  },
  {
   "cell_type": "code",
   "execution_count": 17,
   "id": "7d80b459",
   "metadata": {},
   "outputs": [],
   "source": [
    "class MyClass:\n",
    "    class_room = 301\n",
    "    def fun(self):\n",
    "        return '我在认真听课'"
   ]
  },
  {
   "cell_type": "code",
   "execution_count": 20,
   "id": "46980e7d",
   "metadata": {},
   "outputs": [],
   "source": [
    "obj = MyClass()"
   ]
  },
  {
   "cell_type": "code",
   "execution_count": 22,
   "id": "518d7d22",
   "metadata": {},
   "outputs": [
    {
     "data": {
      "text/plain": [
       "301"
      ]
     },
     "execution_count": 22,
     "metadata": {},
     "output_type": "execute_result"
    }
   ],
   "source": [
    "obj.class_room"
   ]
  },
  {
   "cell_type": "code",
   "execution_count": 23,
   "id": "3a8d458f",
   "metadata": {},
   "outputs": [
    {
     "data": {
      "text/plain": [
       "'我在认真听课'"
      ]
     },
     "execution_count": 23,
     "metadata": {},
     "output_type": "execute_result"
    }
   ],
   "source": [
    "obj.fun()"
   ]
  },
  {
   "cell_type": "markdown",
   "id": "43806ba5",
   "metadata": {},
   "source": [
    "## 构造方法"
   ]
  },
  {
   "cell_type": "code",
   "execution_count": 33,
   "id": "a7fa0cd3",
   "metadata": {},
   "outputs": [],
   "source": [
    "import math\n",
    "class Circle:\n",
    "    def __init__(self, r): # 构造方法\n",
    "        self.r = r\n",
    "    def erea(self):\n",
    "        return math.pi * self.r ** 2\n",
    "    def perimeter(self):\n",
    "        return 2 * math.pi * self.r"
   ]
  },
  {
   "cell_type": "code",
   "execution_count": 34,
   "id": "374bc33f",
   "metadata": {},
   "outputs": [],
   "source": [
    "c1 = Circle(2)\n",
    "c2 = Circle(3)"
   ]
  },
  {
   "cell_type": "code",
   "execution_count": 36,
   "id": "8a3532a7",
   "metadata": {},
   "outputs": [
    {
     "data": {
      "text/plain": [
       "12.566370614359172"
      ]
     },
     "execution_count": 36,
     "metadata": {},
     "output_type": "execute_result"
    }
   ],
   "source": [
    "c1.erea()"
   ]
  },
  {
   "cell_type": "code",
   "execution_count": 37,
   "id": "403436d5",
   "metadata": {},
   "outputs": [
    {
     "data": {
      "text/plain": [
       "12.566370614359172"
      ]
     },
     "execution_count": 37,
     "metadata": {},
     "output_type": "execute_result"
    }
   ],
   "source": [
    "c1.perimeter()"
   ]
  },
  {
   "cell_type": "markdown",
   "id": "3c06e2ac",
   "metadata": {},
   "source": [
    "# 类变量, 实例变量"
   ]
  },
  {
   "cell_type": "markdown",
   "id": "f31885f7",
   "metadata": {},
   "source": [
    "##  5.3"
   ]
  },
  {
   "cell_type": "code",
   "execution_count": 38,
   "id": "7fac7805",
   "metadata": {},
   "outputs": [],
   "source": [
    "# 定义矩形类\n",
    "class Rect:\n",
    "    cnt = 0\n",
    "    def __init__(self, w, h):\n",
    "        self.w = w\n",
    "        self.h = h\n",
    "        Rect.cnt += 1\n",
    "        print(\"第{}个矩形\".format(Rect.cnt))\n",
    "    def area(self):\n",
    "        return self.w * self.h\n",
    "    def perimeter(self):\n",
    "        return 2 * (self.w + self.h)"
   ]
  },
  {
   "cell_type": "code",
   "execution_count": 39,
   "id": "7d8c3e12",
   "metadata": {},
   "outputs": [
    {
     "name": "stdout",
     "output_type": "stream",
     "text": [
      "第1个矩形\n"
     ]
    }
   ],
   "source": [
    "r1 = Rect(3, 2)"
   ]
  },
  {
   "cell_type": "code",
   "execution_count": 40,
   "id": "6c120d2d",
   "metadata": {},
   "outputs": [
    {
     "name": "stdout",
     "output_type": "stream",
     "text": [
      "第2个矩形\n"
     ]
    }
   ],
   "source": [
    "r2 = Rect(5.7, 2.5)"
   ]
  },
  {
   "cell_type": "code",
   "execution_count": 41,
   "id": "78c55912",
   "metadata": {},
   "outputs": [
    {
     "data": {
      "text/plain": [
       "6"
      ]
     },
     "execution_count": 41,
     "metadata": {},
     "output_type": "execute_result"
    }
   ],
   "source": [
    "r1.area()"
   ]
  },
  {
   "cell_type": "code",
   "execution_count": 44,
   "id": "299fbd74",
   "metadata": {},
   "outputs": [
    {
     "data": {
      "text/plain": [
       "16.4"
      ]
     },
     "execution_count": 44,
     "metadata": {},
     "output_type": "execute_result"
    }
   ],
   "source": [
    "r2.perimeter()"
   ]
  },
  {
   "cell_type": "code",
   "execution_count": null,
   "id": "27f2c82c",
   "metadata": {},
   "outputs": [],
   "source": [
    "# 通过 对象.类变量 访问公共空间"
   ]
  },
  {
   "cell_type": "code",
   "execution_count": 45,
   "id": "38730899",
   "metadata": {},
   "outputs": [
    {
     "data": {
      "text/plain": [
       "2"
      ]
     },
     "execution_count": 45,
     "metadata": {},
     "output_type": "execute_result"
    }
   ],
   "source": [
    "r2.cnt"
   ]
  },
  {
   "cell_type": "code",
   "execution_count": 47,
   "id": "04e13bb8",
   "metadata": {},
   "outputs": [
    {
     "data": {
      "text/plain": [
       "2"
      ]
     },
     "execution_count": 47,
     "metadata": {},
     "output_type": "execute_result"
    }
   ],
   "source": [
    "# 通过 类.类变量 来访问公共空间\n",
    "Rect.cnt # 推荐"
   ]
  },
  {
   "cell_type": "code",
   "execution_count": 48,
   "id": "d3742a2c",
   "metadata": {},
   "outputs": [],
   "source": [
    "# 家庭类"
   ]
  },
  {
   "cell_type": "code",
   "execution_count": 58,
   "id": "e8812e95",
   "metadata": {},
   "outputs": [],
   "source": [
    "class Family:\n",
    "    total = 10000 # 类变量\n",
    "    def __init__(self, name):\n",
    "        self.name = name\n",
    "    def spend(self, n):\n",
    "        print('{}花了{}元'.format(self.name, n))\n",
    "        Family.total -= n\n",
    "    def earn(self, n):\n",
    "        print(\"{}赚了{}元\".format(self.name, n))\n",
    "        Family.total += n\n",
    "    def show(self):\n",
    "        print(\"还剩{}\".format(Family.total))"
   ]
  },
  {
   "cell_type": "code",
   "execution_count": 60,
   "id": "673a4db8",
   "metadata": {},
   "outputs": [],
   "source": [
    "p1 = Family('张三')\n",
    "p2 = Family(\"李四\")"
   ]
  },
  {
   "cell_type": "code",
   "execution_count": 61,
   "id": "acaa58c0",
   "metadata": {},
   "outputs": [
    {
     "name": "stdout",
     "output_type": "stream",
     "text": [
      "张三花了100元\n"
     ]
    }
   ],
   "source": [
    "p1.spend(100)"
   ]
  },
  {
   "cell_type": "code",
   "execution_count": 62,
   "id": "6fee721c",
   "metadata": {},
   "outputs": [
    {
     "name": "stdout",
     "output_type": "stream",
     "text": [
      "李四赚了1500元\n"
     ]
    }
   ],
   "source": [
    "p2.earn(1500)"
   ]
  },
  {
   "cell_type": "code",
   "execution_count": 63,
   "id": "2dc17c9e",
   "metadata": {},
   "outputs": [
    {
     "data": {
      "text/plain": [
       "11400"
      ]
     },
     "execution_count": 63,
     "metadata": {},
     "output_type": "execute_result"
    }
   ],
   "source": [
    "Family.total"
   ]
  },
  {
   "cell_type": "code",
   "execution_count": 65,
   "id": "a65c89fd",
   "metadata": {},
   "outputs": [
    {
     "name": "stdout",
     "output_type": "stream",
     "text": [
      "还剩11400\n"
     ]
    }
   ],
   "source": [
    "p1.show()"
   ]
  },
  {
   "cell_type": "markdown",
   "id": "988669a5",
   "metadata": {},
   "source": [
    "## 私有属性及访问"
   ]
  },
  {
   "cell_type": "code",
   "execution_count": 78,
   "id": "ef00b213",
   "metadata": {},
   "outputs": [],
   "source": [
    "class Family:\n",
    "    __total = 10000 # 私有的\n",
    "    def __init__(self, name):\n",
    "        self.name = name\n",
    "    def spend(self, n):\n",
    "        print('{}花了{}元'.format(self.name, n))\n",
    "        Family.__total -= n\n",
    "    def earn(self, n):\n",
    "        print(\"{}赚了{}元\".format(self.name, n))\n",
    "        Family.__total += n\n",
    "    def show(self):\n",
    "        print(\"还剩{}\".format(Family.__total))"
   ]
  },
  {
   "cell_type": "code",
   "execution_count": 79,
   "id": "ff422550",
   "metadata": {},
   "outputs": [],
   "source": [
    "p1 = Family(\"张三\")\n",
    "p2 = Family(\"李四\")"
   ]
  },
  {
   "cell_type": "code",
   "execution_count": 80,
   "id": "03cd952c",
   "metadata": {},
   "outputs": [
    {
     "name": "stdout",
     "output_type": "stream",
     "text": [
      "张三花了100元\n"
     ]
    }
   ],
   "source": [
    "p1.spend(100)"
   ]
  },
  {
   "cell_type": "code",
   "execution_count": 81,
   "id": "e8c3cb5c",
   "metadata": {},
   "outputs": [
    {
     "name": "stdout",
     "output_type": "stream",
     "text": [
      "还剩9900\n"
     ]
    }
   ],
   "source": [
    "p1.show()"
   ]
  },
  {
   "cell_type": "code",
   "execution_count": 84,
   "id": "a23299f1",
   "metadata": {},
   "outputs": [],
   "source": [
    "class Person:\n",
    "    def __init__(self, name, age, sc):\n",
    "        self.name = name\n",
    "        self.__age = age\n",
    "        self.__sc = sc\n",
    "    def speak(self):\n",
    "        print(\"我是谁{}现在年龄是{}\".format(self.name, self.__age))\n",
    "    def getAge(self):\n",
    "        return self.__age\n",
    "    def setAge(self, newAge):\n",
    "        self.__age = newAge"
   ]
  },
  {
   "cell_type": "code",
   "execution_count": 87,
   "id": "1345faf7",
   "metadata": {},
   "outputs": [],
   "source": [
    "p1 = Person(\"张三\", 19, 97)\n",
    "p2 = Person(\"李四\", 31, 99)"
   ]
  },
  {
   "cell_type": "code",
   "execution_count": 88,
   "id": "14cc55a9",
   "metadata": {},
   "outputs": [
    {
     "name": "stdout",
     "output_type": "stream",
     "text": [
      "我是谁张三现在年龄是19\n"
     ]
    }
   ],
   "source": [
    "p1.speak()"
   ]
  },
  {
   "cell_type": "code",
   "execution_count": 89,
   "id": "1bf033c7",
   "metadata": {},
   "outputs": [
    {
     "name": "stdout",
     "output_type": "stream",
     "text": [
      "我是谁李四现在年龄是31\n"
     ]
    }
   ],
   "source": [
    "p2.speak()"
   ]
  },
  {
   "cell_type": "code",
   "execution_count": 90,
   "id": "245a0c46",
   "metadata": {},
   "outputs": [
    {
     "data": {
      "text/plain": [
       "19"
      ]
     },
     "execution_count": 90,
     "metadata": {},
     "output_type": "execute_result"
    }
   ],
   "source": [
    "p1.getAge()"
   ]
  },
  {
   "cell_type": "markdown",
   "id": "eded41c1",
   "metadata": {},
   "source": [
    "## 继承"
   ]
  },
  {
   "cell_type": "code",
   "execution_count": null,
   "id": "df2550a2",
   "metadata": {},
   "outputs": [],
   "source": [
    "# 代码复用"
   ]
  },
  {
   "cell_type": "code",
   "execution_count": 97,
   "id": "173ea6a0",
   "metadata": {},
   "outputs": [],
   "source": [
    "class Person:\n",
    "    def __init__(self, name, age):\n",
    "        self.name = name\n",
    "        self.age = age\n",
    "    def speak(self):\n",
    "        print(\"我是{}, 今年{}岁了\".format(self.name, self.age))"
   ]
  },
  {
   "cell_type": "code",
   "execution_count": 98,
   "id": "e354a76b",
   "metadata": {},
   "outputs": [],
   "source": [
    "class Stu(Person):\n",
    "    def __init__(self, name, age, grade, sc):\n",
    "        Person.__init__(self, name, age)\n",
    "        self.grade = grade\n",
    "        self.sc = sc"
   ]
  },
  {
   "cell_type": "code",
   "execution_count": 99,
   "id": "a3c01056",
   "metadata": {},
   "outputs": [],
   "source": [
    "s1 = Stu(\"张三\", 18, 2, 98)"
   ]
  },
  {
   "cell_type": "code",
   "execution_count": 100,
   "id": "6bb3839e",
   "metadata": {},
   "outputs": [
    {
     "name": "stdout",
     "output_type": "stream",
     "text": [
      "我是张三, 今年18岁了\n"
     ]
    }
   ],
   "source": [
    "s1.speak()"
   ]
  },
  {
   "cell_type": "code",
   "execution_count": null,
   "id": "1047fa00",
   "metadata": {},
   "outputs": [],
   "source": []
  },
  {
   "cell_type": "code",
   "execution_count": 101,
   "id": "b28c25e7",
   "metadata": {},
   "outputs": [],
   "source": [
    "# 方法重写"
   ]
  },
  {
   "cell_type": "code",
   "execution_count": 108,
   "id": "529cacf6",
   "metadata": {},
   "outputs": [],
   "source": [
    "class Student(Person):\n",
    "    def __init__(self, name, age, grade, sc):\n",
    "        Person.__init__(self, name, age)\n",
    "        self.grade = grade\n",
    "        self.sc = sc\n",
    "    def speak(self):\n",
    "#             print(\"I am {}, age{}\".format(self.name, self.age))\n",
    "        super().speak()\n",
    "        print(\"{}年级, 成绩{}分\".format(self.name, self.sc))"
   ]
  },
  {
   "cell_type": "code",
   "execution_count": 110,
   "id": "0acd2700",
   "metadata": {},
   "outputs": [],
   "source": [
    "p3 = Student(\"王五\", 19, 20, 77)"
   ]
  },
  {
   "cell_type": "code",
   "execution_count": 111,
   "id": "c79cf281",
   "metadata": {},
   "outputs": [
    {
     "name": "stdout",
     "output_type": "stream",
     "text": [
      "我是王五, 今年19岁了\n",
      "王五年级, 成绩77分\n"
     ]
    }
   ],
   "source": [
    "p3.speak()"
   ]
  },
  {
   "cell_type": "code",
   "execution_count": null,
   "id": "0eb1dd11",
   "metadata": {},
   "outputs": [],
   "source": []
  },
  {
   "cell_type": "markdown",
   "id": "4ecad28c",
   "metadata": {},
   "source": [
    "### 字典"
   ]
  },
  {
   "cell_type": "code",
   "execution_count": 112,
   "id": "81fd20cc",
   "metadata": {},
   "outputs": [],
   "source": [
    "# 数字类型: 数值型, 字符串型, 列表, 元祖, 字典, 集合"
   ]
  },
  {
   "cell_type": "code",
   "execution_count": 113,
   "id": "84206600",
   "metadata": {},
   "outputs": [],
   "source": [
    "# 字典 dict = {key1: value1, key2: value2, ...}"
   ]
  },
  {
   "cell_type": "code",
   "execution_count": 134,
   "id": "d0f2d00c",
   "metadata": {},
   "outputs": [
    {
     "data": {
      "text/plain": [
       "{'name': '张三', 'Age': 18, 'Sex': 'M'}"
      ]
     },
     "execution_count": 134,
     "metadata": {},
     "output_type": "execute_result"
    }
   ],
   "source": [
    "d = {'name': \"张三\", 'Age': 18, 'Sex': 'M'}\n",
    "d"
   ]
  },
  {
   "cell_type": "code",
   "execution_count": 135,
   "id": "32b64687",
   "metadata": {},
   "outputs": [
    {
     "name": "stdout",
     "output_type": "stream",
     "text": [
      "{'name': '张三', 'Age': 18, 'Sex': 'M'}\n"
     ]
    }
   ],
   "source": [
    "print(d)"
   ]
  },
  {
   "cell_type": "code",
   "execution_count": 136,
   "id": "86f242be",
   "metadata": {},
   "outputs": [
    {
     "data": {
      "text/plain": [
       "{'name': '张三', 'Age': 18, 'Sex': 'M', 'score': 99}"
      ]
     },
     "execution_count": 136,
     "metadata": {},
     "output_type": "execute_result"
    }
   ],
   "source": [
    "# 增加\n",
    "d['score'] = 99\n",
    "d"
   ]
  },
  {
   "cell_type": "code",
   "execution_count": 137,
   "id": "b2642e47",
   "metadata": {},
   "outputs": [
    {
     "data": {
      "text/plain": [
       "{'name': '张三', 'Age': 18, 'score': 99}"
      ]
     },
     "execution_count": 137,
     "metadata": {},
     "output_type": "execute_result"
    }
   ],
   "source": [
    "# 删除\n",
    "del d['Sex']\n",
    "d"
   ]
  },
  {
   "cell_type": "code",
   "execution_count": 138,
   "id": "4f2550d9",
   "metadata": {},
   "outputs": [
    {
     "data": {
      "text/plain": [
       "{'name': '张三', 'Age': 17, 'score': 99}"
      ]
     },
     "execution_count": 138,
     "metadata": {},
     "output_type": "execute_result"
    }
   ],
   "source": [
    "# 改\n",
    "d['Age'] = 17\n",
    "d"
   ]
  },
  {
   "cell_type": "code",
   "execution_count": 139,
   "id": "b633384c",
   "metadata": {},
   "outputs": [
    {
     "data": {
      "text/plain": [
       "99"
      ]
     },
     "execution_count": 139,
     "metadata": {},
     "output_type": "execute_result"
    }
   ],
   "source": [
    "# 查\n",
    "d['score']"
   ]
  },
  {
   "cell_type": "code",
   "execution_count": 141,
   "id": "af267fda",
   "metadata": {},
   "outputs": [
    {
     "data": {
      "text/plain": [
       "True"
      ]
     },
     "execution_count": 141,
     "metadata": {},
     "output_type": "execute_result"
    }
   ],
   "source": [
    "'name' in d"
   ]
  },
  {
   "cell_type": "code",
   "execution_count": 143,
   "id": "85cd65cd",
   "metadata": {},
   "outputs": [
    {
     "data": {
      "text/plain": [
       "False"
      ]
     },
     "execution_count": 143,
     "metadata": {},
     "output_type": "execute_result"
    }
   ],
   "source": [
    "'score' not in d"
   ]
  },
  {
   "cell_type": "code",
   "execution_count": 145,
   "id": "9427c6ca",
   "metadata": {},
   "outputs": [
    {
     "data": {
      "text/plain": [
       "False"
      ]
     },
     "execution_count": 145,
     "metadata": {},
     "output_type": "execute_result"
    }
   ],
   "source": [
    "'张三' in d # 看的是 key 不看value"
   ]
  },
  {
   "cell_type": "code",
   "execution_count": null,
   "id": "4b511073",
   "metadata": {},
   "outputs": [],
   "source": [
    "d.clear() # 清空字典, 删除所有元素"
   ]
  }
 ],
 "metadata": {
  "kernelspec": {
   "display_name": "Python 3 (ipykernel)",
   "language": "python",
   "name": "python3"
  },
  "language_info": {
   "codemirror_mode": {
    "name": "ipython",
    "version": 3
   },
   "file_extension": ".py",
   "mimetype": "text/x-python",
   "name": "python",
   "nbconvert_exporter": "python",
   "pygments_lexer": "ipython3",
   "version": "3.9.7"
  }
 },
 "nbformat": 4,
 "nbformat_minor": 5
}
