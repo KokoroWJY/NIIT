{
 "cells": [
  {
   "cell_type": "markdown",
   "id": "137cb5be",
   "metadata": {},
   "source": [
    "# 二.输入input"
   ]
  },
  {
   "cell_type": "code",
   "execution_count": 11,
   "id": "588c6ce4",
   "metadata": {},
   "outputs": [],
   "source": [
    "input?"
   ]
  },
  {
   "cell_type": "markdown",
   "id": "e153b161",
   "metadata": {},
   "source": [
    "## 4.1 不带提示信息"
   ]
  },
  {
   "cell_type": "code",
   "execution_count": 5,
   "id": "14f8b18a",
   "metadata": {},
   "outputs": [
    {
     "name": "stdout",
     "output_type": "stream",
     "text": [
      "请输入内容5\n",
      "5\n"
     ]
    }
   ],
   "source": [
    "a = input(\"请输入内容\")\n",
    "print(a)"
   ]
  },
  {
   "cell_type": "code",
   "execution_count": 9,
   "id": "b42057a9",
   "metadata": {},
   "outputs": [
    {
     "name": "stdout",
     "output_type": "stream",
     "text": [
      "23\n",
      "age=23\n"
     ]
    },
    {
     "data": {
      "text/plain": [
       "str"
      ]
     },
     "execution_count": 9,
     "metadata": {},
     "output_type": "execute_result"
    }
   ],
   "source": [
    "age = input()\n",
    "print('age=', age, sep='')\n",
    "type(age)"
   ]
  },
  {
   "cell_type": "code",
   "execution_count": 12,
   "id": "318f092e",
   "metadata": {},
   "outputs": [],
   "source": [
    "# input 函数返回值是字符串类型"
   ]
  },
  {
   "cell_type": "markdown",
   "id": "b99b632c",
   "metadata": {},
   "source": [
    " ##  4.2 带提示信息"
   ]
  },
  {
   "cell_type": "code",
   "execution_count": 13,
   "id": "2a36e7e7",
   "metadata": {},
   "outputs": [
    {
     "name": "stdout",
     "output_type": "stream",
     "text": [
      "成绩:2\n"
     ]
    }
   ],
   "source": [
    "sc = input(\"成绩:\")"
   ]
  },
  {
   "cell_type": "code",
   "execution_count": 15,
   "id": "49574efb",
   "metadata": {},
   "outputs": [
    {
     "name": "stdout",
     "output_type": "stream",
     "text": [
      "1\n",
      "姓名: 23\n"
     ]
    }
   ],
   "source": [
    "a = input()\n",
    "b = input(\"姓名: \")"
   ]
  },
  {
   "cell_type": "markdown",
   "id": "b5a6a979",
   "metadata": {},
   "source": [
    "# 2.3 类型函数type"
   ]
  },
  {
   "cell_type": "code",
   "execution_count": 16,
   "id": "5c865e26",
   "metadata": {},
   "outputs": [],
   "source": [
    "# input 函数返回字符串"
   ]
  },
  {
   "cell_type": "code",
   "execution_count": 17,
   "id": "a0e329cf",
   "metadata": {},
   "outputs": [
    {
     "data": {
      "text/plain": [
       "int"
      ]
     },
     "execution_count": 17,
     "metadata": {},
     "output_type": "execute_result"
    }
   ],
   "source": [
    "type(2)"
   ]
  },
  {
   "cell_type": "code",
   "execution_count": 18,
   "id": "bb430e63",
   "metadata": {},
   "outputs": [
    {
     "data": {
      "text/plain": [
       "float"
      ]
     },
     "execution_count": 18,
     "metadata": {},
     "output_type": "execute_result"
    }
   ],
   "source": [
    "a=3.14\n",
    "type(a)"
   ]
  },
  {
   "cell_type": "code",
   "execution_count": 27,
   "id": "dfab158c",
   "metadata": {},
   "outputs": [
    {
     "name": "stdout",
     "output_type": "stream",
     "text": [
      "age: 3\n"
     ]
    }
   ],
   "source": [
    "age = input(\"age: \")"
   ]
  },
  {
   "cell_type": "code",
   "execution_count": 23,
   "id": "34098778",
   "metadata": {},
   "outputs": [
    {
     "data": {
      "text/plain": [
       "str"
      ]
     },
     "execution_count": 23,
     "metadata": {},
     "output_type": "execute_result"
    }
   ],
   "source": [
    "type(age)"
   ]
  },
  {
   "cell_type": "code",
   "execution_count": 29,
   "id": "d10049d2",
   "metadata": {},
   "outputs": [
    {
     "name": "stdout",
     "output_type": "stream",
     "text": [
      "得分: 58\n",
      "60\n"
     ]
    }
   ],
   "source": [
    "score = int(input(\"得分: \"))\n",
    "print(score + 2)"
   ]
  },
  {
   "cell_type": "code",
   "execution_count": 1,
   "id": "6f451472",
   "metadata": {},
   "outputs": [
    {
     "name": "stdout",
     "output_type": "stream",
     "text": [
      "得分: 58\n",
      "60\n"
     ]
    }
   ],
   "source": [
    "score = eval(input(\"得分: \"))\n",
    "print(score + 2)"
   ]
  },
  {
   "cell_type": "code",
   "execution_count": 6,
   "id": "484d780c",
   "metadata": {},
   "outputs": [
    {
     "data": {
      "text/plain": [
       "2.8284271247461903"
      ]
     },
     "execution_count": 6,
     "metadata": {},
     "output_type": "execute_result"
    }
   ],
   "source": [
    "from math import sqrt\n",
    "sqrt(8)"
   ]
  },
  {
   "cell_type": "code",
   "execution_count": null,
   "id": "704c2450",
   "metadata": {},
   "outputs": [],
   "source": []
  },
  {
   "cell_type": "code",
   "execution_count": null,
   "id": "ae02e15c",
   "metadata": {},
   "outputs": [],
   "source": []
  }
 ],
 "metadata": {
  "kernelspec": {
   "display_name": "Python 3 (ipykernel)",
   "language": "python",
   "name": "python3"
  },
  "language_info": {
   "codemirror_mode": {
    "name": "ipython",
    "version": 3
   },
   "file_extension": ".py",
   "mimetype": "text/x-python",
   "name": "python",
   "nbconvert_exporter": "python",
   "pygments_lexer": "ipython3",
   "version": "3.9.7"
  }
 },
 "nbformat": 4,
 "nbformat_minor": 5
}