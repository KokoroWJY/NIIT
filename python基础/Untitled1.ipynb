{
 "cells": [
  {
   "cell_type": "markdown",
   "id": "2db396b9",
   "metadata": {
    "pycharm": {
     "name": "#%% md\n"
    }
   },
   "source": [
    "# Panda"
   ]
  },
  {
   "cell_type": "markdown",
   "id": "e20875b2",
   "metadata": {
    "pycharm": {
     "name": "#%% md\n"
    }
   },
   "source": [
    "## Serives系列"
   ]
  },
  {
   "cell_type": "code",
   "execution_count": 1,
   "id": "5bf2be4a",
   "metadata": {
    "pycharm": {
     "name": "#%%\n"
    }
   },
   "outputs": [],
   "source": [
    "import pandas as pd\n",
    "import numpy as np"
   ]
  },
  {
   "cell_type": "code",
   "execution_count": 2,
   "id": "665c648d",
   "metadata": {
    "pycharm": {
     "name": "#%%\n"
    }
   },
   "outputs": [
    {
     "name": "stdout",
     "output_type": "stream",
     "text": [
      "101    a\n",
      "102    b\n",
      "103    c\n",
      "104    d\n",
      "dtype: object\n"
     ]
    }
   ],
   "source": [
    "d = np.array(['a','b','c','d'])\n",
    "index = [101, 102, 103, 104]\n",
    "obj = pd.Series(data=d, index=index)\n",
    "print(obj)"
   ]
  },
  {
   "cell_type": "code",
   "execution_count": 4,
   "id": "21c994a6",
   "metadata": {
    "pycharm": {
     "name": "#%%\n"
    }
   },
   "outputs": [
    {
     "name": "stdout",
     "output_type": "stream",
     "text": [
      "A    a\n",
      "B    b\n",
      "C    c\n",
      "D    d\n",
      "dtype: object\n"
     ]
    }
   ],
   "source": [
    "d = np.array(['a','b','c','d'])\n",
    "index = ['A','B','C','D']\n",
    "obj = pd.Series(data=d, index=index)\n",
    "print(obj)"
   ]
  },
  {
   "cell_type": "markdown",
   "id": "d063553a",
   "metadata": {
    "pycharm": {
     "name": "#%% md\n"
    }
   },
   "source": [
    "## DataFrame系列"
   ]
  },
  {
   "cell_type": "code",
   "execution_count": 5,
   "id": "c6cf9bbe",
   "metadata": {
    "pycharm": {
     "name": "#%%\n"
    }
   },
   "outputs": [
    {
     "data": {
      "text/html": [
       "<div>\n",
       "<style scoped>\n",
       "    .dataframe tbody tr th:only-of-type {\n",
       "        vertical-align: middle;\n",
       "    }\n",
       "\n",
       "    .dataframe tbody tr th {\n",
       "        vertical-align: top;\n",
       "    }\n",
       "\n",
       "    .dataframe thead th {\n",
       "        text-align: right;\n",
       "    }\n",
       "</style>\n",
       "<table border=\"1\" class=\"dataframe\">\n",
       "  <thead>\n",
       "    <tr style=\"text-align: right;\">\n",
       "      <th></th>\n",
       "      <th>Name</th>\n",
       "      <th>Age</th>\n",
       "    </tr>\n",
       "  </thead>\n",
       "  <tbody>\n",
       "    <tr>\n",
       "      <th>0</th>\n",
       "      <td>Tom</td>\n",
       "      <td>28</td>\n",
       "    </tr>\n",
       "    <tr>\n",
       "      <th>1</th>\n",
       "      <td>Jack</td>\n",
       "      <td>39</td>\n",
       "    </tr>\n",
       "    <tr>\n",
       "      <th>2</th>\n",
       "      <td>Steve</td>\n",
       "      <td>29</td>\n",
       "    </tr>\n",
       "    <tr>\n",
       "      <th>3</th>\n",
       "      <td>Ricky</td>\n",
       "      <td>12</td>\n",
       "    </tr>\n",
       "  </tbody>\n",
       "</table>\n",
       "</div>"
      ],
      "text/plain": [
       "    Name  Age\n",
       "0    Tom   28\n",
       "1   Jack   39\n",
       "2  Steve   29\n",
       "3  Ricky   12"
      ]
     },
     "execution_count": 5,
     "metadata": {},
     "output_type": "execute_result"
    }
   ],
   "source": [
    "d = {'Name':['Tom','Jack','Steve','Ricky'], 'Age':[28, 39, 29, 12]}\n",
    "df = pd.DataFrame(data=d)\n",
    "df"
   ]
  },
  {
   "cell_type": "code",
   "execution_count": 6,
   "id": "ffa4ee93",
   "metadata": {
    "pycharm": {
     "name": "#%%\n"
    }
   },
   "outputs": [
    {
     "data": {
      "text/html": [
       "<div>\n",
       "<style scoped>\n",
       "    .dataframe tbody tr th:only-of-type {\n",
       "        vertical-align: middle;\n",
       "    }\n",
       "\n",
       "    .dataframe tbody tr th {\n",
       "        vertical-align: top;\n",
       "    }\n",
       "\n",
       "    .dataframe thead th {\n",
       "        text-align: right;\n",
       "    }\n",
       "</style>\n",
       "<table border=\"1\" class=\"dataframe\">\n",
       "  <thead>\n",
       "    <tr style=\"text-align: right;\">\n",
       "      <th></th>\n",
       "      <th>Name</th>\n",
       "      <th>Age</th>\n",
       "    </tr>\n",
       "  </thead>\n",
       "  <tbody>\n",
       "    <tr>\n",
       "      <th>A</th>\n",
       "      <td>Tom</td>\n",
       "      <td>28</td>\n",
       "    </tr>\n",
       "    <tr>\n",
       "      <th>B</th>\n",
       "      <td>Jack</td>\n",
       "      <td>39</td>\n",
       "    </tr>\n",
       "    <tr>\n",
       "      <th>C</th>\n",
       "      <td>Steve</td>\n",
       "      <td>29</td>\n",
       "    </tr>\n",
       "    <tr>\n",
       "      <th>D</th>\n",
       "      <td>Ricky</td>\n",
       "      <td>12</td>\n",
       "    </tr>\n",
       "  </tbody>\n",
       "</table>\n",
       "</div>"
      ],
      "text/plain": [
       "    Name  Age\n",
       "A    Tom   28\n",
       "B   Jack   39\n",
       "C  Steve   29\n",
       "D  Ricky   12"
      ]
     },
     "execution_count": 6,
     "metadata": {},
     "output_type": "execute_result"
    }
   ],
   "source": [
    "d = {'Name':['Tom','Jack','Steve','Ricky'], 'Age':[28, 39, 29, 12]}\n",
    "df = pd.DataFrame(data=d, index=['A','B','C','D'])\n",
    "df"
   ]
  },
  {
   "cell_type": "code",
   "execution_count": 7,
   "id": "e645fc86",
   "metadata": {
    "pycharm": {
     "name": "#%%\n"
    }
   },
   "outputs": [
    {
     "data": {
      "text/html": [
       "<div>\n",
       "<style scoped>\n",
       "    .dataframe tbody tr th:only-of-type {\n",
       "        vertical-align: middle;\n",
       "    }\n",
       "\n",
       "    .dataframe tbody tr th {\n",
       "        vertical-align: top;\n",
       "    }\n",
       "\n",
       "    .dataframe thead th {\n",
       "        text-align: right;\n",
       "    }\n",
       "</style>\n",
       "<table border=\"1\" class=\"dataframe\">\n",
       "  <thead>\n",
       "    <tr style=\"text-align: right;\">\n",
       "      <th></th>\n",
       "      <th>0</th>\n",
       "      <th>1</th>\n",
       "    </tr>\n",
       "  </thead>\n",
       "  <tbody>\n",
       "    <tr>\n",
       "      <th>张三</th>\n",
       "      <td>95</td>\n",
       "      <td>92</td>\n",
       "    </tr>\n",
       "    <tr>\n",
       "      <th>李四</th>\n",
       "      <td>88</td>\n",
       "      <td>91</td>\n",
       "    </tr>\n",
       "  </tbody>\n",
       "</table>\n",
       "</div>"
      ],
      "text/plain": [
       "     0   1\n",
       "张三  95  92\n",
       "李四  88  91"
      ]
     },
     "execution_count": 7,
     "metadata": {},
     "output_type": "execute_result"
    }
   ],
   "source": [
    "data = [[95,92],[88, 91]]\n",
    "index = (\"张三\", \"李四\")\n",
    "columns = [\"语文\", \"数学\"]\n",
    "df = pd.DataFrame(data=data\n",
    "                  , index=index)\n",
    "# 注释快捷键: Ctrl + ?/\n",
    "df"
   ]
  },
  {
   "cell_type": "markdown",
   "id": "054102b5",
   "metadata": {
    "pycharm": {
     "name": "#%% md\n"
    }
   },
   "source": [
    "## 第七章 正则表达式"
   ]
  },
  {
   "cell_type": "markdown",
   "id": "d587cf98",
   "metadata": {
    "pycharm": {
     "name": "#%% md\n"
    }
   },
   "source": [
    "## 1.match匹配"
   ]
  },
  {
   "cell_type": "markdown",
   "id": "4ac27346",
   "metadata": {
    "pycharm": {
     "name": "#%% md\n"
    }
   },
   "source": [
    "### 1.1匹配字符串"
   ]
  },
  {
   "cell_type": "code",
   "execution_count": 3,
   "id": "ff6aba25",
   "metadata": {
    "pycharm": {
     "name": "#%%\n"
    }
   },
   "outputs": [
    {
     "data": {
      "text/plain": [
       "<re.Match object; span=(0, 3), match='www'>"
      ]
     },
     "execution_count": 3,
     "metadata": {},
     "output_type": "execute_result"
    }
   ],
   "source": [
    "import re\n",
    "\n",
    "rst = re.match('www', 'www.baidu.com')\n",
    "rst"
   ]
  },
  {
   "cell_type": "code",
   "execution_count": 4,
   "id": "52084dca",
   "metadata": {
    "pycharm": {
     "name": "#%%\n"
    }
   },
   "outputs": [
    {
     "data": {
      "text/plain": [
       "(0, 3)"
      ]
     },
     "execution_count": 4,
     "metadata": {},
     "output_type": "execute_result"
    }
   ],
   "source": [
    "rst.span()"
   ]
  },
  {
   "cell_type": "code",
   "execution_count": 5,
   "id": "d56db71e",
   "metadata": {
    "pycharm": {
     "name": "#%%\n"
    }
   },
   "outputs": [
    {
     "data": {
      "text/plain": [
       "'www'"
      ]
     },
     "execution_count": 5,
     "metadata": {},
     "output_type": "execute_result"
    }
   ],
   "source": [
    "rst.group()"
   ]
  },
  {
   "cell_type": "code",
   "execution_count": 6,
   "id": "11cba4d6",
   "metadata": {
    "pycharm": {
     "name": "#%%\n"
    }
   },
   "outputs": [
    {
     "name": "stdout",
     "output_type": "stream",
     "text": [
      "匹配成功\n"
     ]
    }
   ],
   "source": [
    "if rst:\n",
    "    print(\"匹配成功\")\n",
    "else:\n",
    "    print(\"匹配失败\")"
   ]
  },
  {
   "cell_type": "code",
   "execution_count": 12,
   "id": "2f637216",
   "metadata": {
    "pycharm": {
     "name": "#%%\n"
    }
   },
   "outputs": [
    {
     "name": "stdout",
     "output_type": "stream",
     "text": [
      "h\n",
      "(0, 1)\n"
     ]
    }
   ],
   "source": [
    "import re\n",
    "rst = re.match('[Hh]', 'hello world.')\n",
    "if rst:\n",
    "    print(rst.group())\n",
    "    print(rst.span())\n",
    "else:\n",
    "    print(\"匹配失败\")"
   ]
  },
  {
   "cell_type": "code",
   "execution_count": 14,
   "id": "90bb22a4",
   "metadata": {
    "pycharm": {
     "name": "#%%\n"
    }
   },
   "outputs": [
    {
     "name": "stdout",
     "output_type": "stream",
     "text": [
      "hello python\n"
     ]
    }
   ],
   "source": [
    "import re\n",
    "rst = re.match('Hello Python', 'hello python123', re.I) # re.I忽略大小写\n",
    "if rst:\n",
    "    print(rst.group())\n",
    "else:\n",
    "    print(\"匹配失败\")"
   ]
  },
  {
   "cell_type": "markdown",
   "id": "1532ed13",
   "metadata": {
    "pycharm": {
     "name": "#%% md\n"
    }
   },
   "source": [
    "###  1.2 匹配数字"
   ]
  },
  {
   "cell_type": "code",
   "execution_count": 21,
   "id": "5eb9dc39",
   "metadata": {
    "pycharm": {
     "name": "#%%\n"
    }
   },
   "outputs": [
    {
     "name": "stdout",
     "output_type": "stream",
     "text": [
      "713213213Hello\n",
      "(0, 14)\n"
     ]
    }
   ],
   "source": [
    "import re\n",
    "rst = re.match('[0-9]*Hello', '713213213Hello python') # 星号*表示前面的模式出现任意多个,0,1,2,3,...\n",
    "print(rst.group())\n",
    "print(rst.span())"
   ]
  },
  {
   "cell_type": "code",
   "execution_count": 23,
   "id": "57b3dad8",
   "metadata": {
    "pycharm": {
     "name": "#%%\n"
    }
   },
   "outputs": [
    {
     "name": "stdout",
     "output_type": "stream",
     "text": [
      "222Hello\n",
      "(0, 8)\n"
     ]
    }
   ],
   "source": [
    "import re\n",
    "rst = re.match('[\\d]*Hello', '222Hello python') # '\\d' 代表一个数字\n",
    "print(rst.group())\n",
    "print(rst.span())"
   ]
  },
  {
   "cell_type": "code",
   "execution_count": 27,
   "id": "80caa213",
   "metadata": {
    "pycharm": {
     "name": "#%%\n"
    }
   },
   "outputs": [
    {
     "name": "stdout",
     "output_type": "stream",
     "text": [
      "None\n"
     ]
    }
   ],
   "source": [
    "import re\n",
    "rst = re.match('[0-47-9]*Hello', '2052Hello Python')\n",
    "print(rst)"
   ]
  },
  {
   "cell_type": "code",
   "execution_count": 28,
   "id": "621d5ec8",
   "metadata": {
    "pycharm": {
     "name": "#%%\n"
    }
   },
   "outputs": [
    {
     "name": "stdout",
     "output_type": "stream",
     "text": [
      "神州123号\n"
     ]
    }
   ],
   "source": [
    "# +表示至少一次, 1,2,3,4,5......\n",
    "rst = re.match(\"神州\\d+号\", '神州123号发射')\n",
    "print(rst.group())"
   ]
  },
  {
   "cell_type": "code",
   "execution_count": 29,
   "id": "891b6e70",
   "metadata": {
    "pycharm": {
     "name": "#%%\n"
    }
   },
   "outputs": [
    {
     "data": {
      "text/plain": [
       "'\\n?   0或1次\\n(m)   m次\\n(m, n) m到n次\\n'"
      ]
     },
     "execution_count": 29,
     "metadata": {},
     "output_type": "execute_result"
    }
   ],
   "source": [
    "'''\n",
    "?   0或1次\n",
    "(m)   m次\n",
    "(m, n) m到n次\n",
    "'''"
   ]
  },
  {
   "cell_type": "markdown",
   "id": "54d0051a",
   "metadata": {
    "pycharm": {
     "name": "#%% md\n"
    }
   },
   "source": [
    "#### 匹配多个字符\n",
    "匹配多个字符的相关格式：\n",
    "字符 功能\n",
    "* 匹配前一个字符出现0次或者无限次，即可有可无\n",
    "+ 匹配前一个字符出现1次或者无限次，即至少有1次\n",
    "? 匹配前一个字符出现1次或者0次，即要么有1次，要么没有\n",
    "\n",
    "{m} 匹配前一个字符出现m次\n",
    "{m,n} 匹配前一个字符出现从m到n次"
   ]
  },
  {
   "cell_type": "code",
   "execution_count": 32,
   "id": "c13f9a7c",
   "metadata": {
    "pycharm": {
     "name": "#%%\n"
    }
   },
   "outputs": [
    {
     "name": "stdout",
     "output_type": "stream",
     "text": [
      "<re.Match object; span=(0, 3), match='213'>\n",
      "213\n"
     ]
    }
   ],
   "source": [
    "import re\n",
    "rst = re.match('[1-9]?[\\d]?[\\d]', '21333')\n",
    "print(rst)\n",
    "print(rst.group())"
   ]
  },
  {
   "cell_type": "code",
   "execution_count": 35,
   "id": "0862e0e1",
   "metadata": {
    "pycharm": {
     "name": "#%%\n"
    }
   },
   "outputs": [
    {
     "name": "stdout",
     "output_type": "stream",
     "text": [
      "83\n",
      "95\n",
      "92\n",
      "61\n"
     ]
    }
   ],
   "source": [
    "import re\n",
    "ls = [58, 83, 95, 92, 61]\n",
    "for sc in ls:\n",
    "    rst = re.match('[6-9][0-9]', str(sc))\n",
    "    if rst:\n",
    "        print(sc)\n",
    "    "
   ]
  },
  {
   "cell_type": "code",
   "execution_count": 37,
   "id": "7c665937",
   "metadata": {
    "pycharm": {
     "name": "#%%\n"
    }
   },
   "outputs": [
    {
     "name": "stdout",
     "output_type": "stream",
     "text": [
      "<re.Match object; span=(0, 6), match='123dda'>\n"
     ]
    }
   ],
   "source": [
    "rst = re.match('[a-zA-Z0-9_]{6}', '123ddadASD312')\n",
    "print(rst)"
   ]
  },
  {
   "cell_type": "markdown",
   "id": "7a1f8a1d",
   "metadata": {
    "pycharm": {
     "name": "#%% md\n"
    }
   },
   "source": [
    "## "
   ]
  },
  {
   "cell_type": "markdown",
   "id": "4c5474e5",
   "metadata": {
    "pycharm": {
     "name": "#%% md\n"
    }
   },
   "source": [
    "## complie"
   ]
  },
  {
   "cell_type": "code",
   "execution_count": 44,
   "id": "0dd3fc54",
   "metadata": {
    "pycharm": {
     "name": "#%%\n"
    }
   },
   "outputs": [
    {
     "name": "stdout",
     "output_type": "stream",
     "text": [
      "注册成功\n"
     ]
    }
   ],
   "source": [
    "import re\n",
    "p = re.compile('\\w{4,20}@(163|126|qq)\\.com$') # $表示以...结尾\n",
    "rst = p.match('test1234@163.com')\n",
    "if rst:\n",
    "    print('注册成功')\n",
    "else:\n",
    "    print(\"失败\")"
   ]
  },
  {
   "cell_type": "code",
   "execution_count": 46,
   "id": "3ecdf55b",
   "metadata": {
    "pycharm": {
     "name": "#%%\n"
    }
   },
   "outputs": [
    {
     "name": "stdout",
     "output_type": "stream",
     "text": [
      "<built-in method group of re.Match object at 0x0000014D36477390>\n"
     ]
    }
   ],
   "source": [
    "import re\n",
    "rst = re.match('(\\d)+-(\\d)+', '026-123123')\n",
    "if rst:\n",
    "    print(rst.group)\n",
    "else:\n",
    "    print(\"失败\")"
   ]
  },
  {
   "cell_type": "code",
   "execution_count": 6,
   "id": "576accc3",
   "metadata": {
    "pycharm": {
     "name": "#%%\n"
    }
   },
   "outputs": [
    {
     "name": "stdout",
     "output_type": "stream",
     "text": [
      "87\n",
      "92\n",
      "95\n",
      "61\n",
      "100\n"
     ]
    }
   ],
   "source": [
    "import re\n",
    "ls = [58, 87, 92, 95, 61, 49, 100]\n",
    "for item in ls:\n",
    "    rst = re.match('100|[6-9][0-9]', str(item))\n",
    "    if rst:\n",
    "        print(item)"
   ]
  },
  {
   "cell_type": "code",
   "execution_count": 7,
   "id": "f125c6bc",
   "metadata": {
    "pycharm": {
     "name": "#%%\n"
    }
   },
   "outputs": [
    {
     "name": "stdout",
     "output_type": "stream",
     "text": [
      "匹配成功 1ad1afede\n"
     ]
    }
   ],
   "source": [
    "rst = re.match(\"[a-zA-Z0-9_]{8,10}\",\"1ad1afede\")#？\n",
    "if rst:\n",
    "    print('匹配成功',rst.group())\n",
    "else:\n",
    "    print('不符合要求')"
   ]
  },
  {
   "cell_type": "code",
   "execution_count": 8,
   "id": "c1d6a1f9",
   "metadata": {
    "pycharm": {
     "name": "#%%\n"
    }
   },
   "outputs": [
    {
     "name": "stdout",
     "output_type": "stream",
     "text": [
      "test1234@163.com符合要求\n",
      "249971862@qq.com不符合要求\n",
      "sunhy_niit@163.com符合要求\n"
     ]
    }
   ],
   "source": [
    "import re\n",
    "email_ls = ['test1234@163.com','249971862@qq.com','sunhy_niit@163.com']\n",
    "for email in email_ls:\n",
    "    rst = re.match('\\w{4,20}@163\\.com$',email) #\\w 表示 a-z或者A-z或者0-9\n",
    "    if rst:\n",
    "        print('{}符合要求'.format(email))\n",
    "    else:\n",
    "        print('{}不符合要求'.format(email))"
   ]
  },
  {
   "cell_type": "code",
   "execution_count": 9,
   "id": "27d54ee6",
   "metadata": {
    "pycharm": {
     "name": "#%%\n"
    }
   },
   "outputs": [
    {
     "name": "stdout",
     "output_type": "stream",
     "text": [
      "8\n",
      "78\n",
      "8.0\n"
     ]
    }
   ],
   "source": [
    "import re  \n",
    "rst = re.match(\"[1-9]?\\d\",\"8\")\n",
    "print(rst.group())  # 8\n",
    "     \n",
    "rst = re.match(\"[1-9]?\\d\",\"78\")\n",
    "print(rst.group())  # 78\n",
    "     \n",
    "rst = re.match(\"[1-9]?\\.\\d$\",\"8.0\")\n",
    "if rst:\n",
    "    print(rst.group())\n",
    "else:\n",
    "    print(\"不匹配\")"
   ]
  },
  {
   "cell_type": "code",
   "execution_count": 10,
   "id": "7d58f30c",
   "metadata": {
    "pycharm": {
     "name": "#%%\n"
    }
   },
   "outputs": [
    {
     "name": "stdout",
     "output_type": "stream",
     "text": [
      "100\n",
      "78\n"
     ]
    }
   ],
   "source": [
    "# 添加|\n",
    "rst = re.match(\"[1-9]?\\d$|100\",\"1002\")\n",
    "print(rst.group())  \n",
    "     \n",
    "rst = re.match(\"[1-9]?\\d$\",\"78\")\n",
    "print(rst.group())  # 78"
   ]
  },
  {
   "cell_type": "code",
   "execution_count": null,
   "id": "e4eda8d0",
   "metadata": {
    "pycharm": {
     "name": "#%%\n"
    }
   },
   "outputs": [],
   "source": []
  },
  {
   "cell_type": "code",
   "execution_count": 11,
   "id": "eceedbd8",
   "metadata": {
    "pycharm": {
     "name": "#%%\n"
    }
   },
   "outputs": [
    {
     "name": "stdout",
     "output_type": "stream",
     "text": [
      "变量名 name1 符合要求\n",
      "变量名 _name 符合要求\n",
      "变量名 2_name 非法\n",
      "变量名 __name__ 符合要求\n"
     ]
    }
   ],
   "source": [
    "# +匹配\n",
    "import re\n",
    "names = [\"name1\", \"_name\", \"2_name\", \"__name__\"]\n",
    "for name in names:\n",
    "    rst = re.match(\"[a-zA-Z_]+[\\w]*\",name)  #name1 _name  2_name   __name__\n",
    "    if rst:\n",
    "        print(\"变量名 %s 符合要求\" % name)\n",
    "    else:\n",
    "        print(\"变量名 %s 非法\" % name)"
   ]
  },
  {
   "cell_type": "code",
   "execution_count": 12,
   "id": "84f2d9ef",
   "metadata": {
    "pycharm": {
     "name": "#%%\n"
    }
   },
   "outputs": [
    {
     "name": "stdout",
     "output_type": "stream",
     "text": [
      "合法的标识符\n",
      "非法\n",
      "合法的标识符\n",
      "合法的标识符\n"
     ]
    }
   ],
   "source": [
    "import re\n",
    "names = ['test1234','123a','_a3','testa123']\n",
    "# patten = re.compile('[a-zA-Z_]+[\\d]*')\n",
    "patten = re.compile('^[a-zA-Z_]\\w+')\n",
    "for name in names:\n",
    "    rst = patten.match(name)\n",
    "    if rst:\n",
    "        print('合法的标识符')\n",
    "    else:\n",
    "        print('非法')"
   ]
  },
  {
   "cell_type": "code",
   "execution_count": 13,
   "id": "ea2fd855",
   "metadata": {
    "pycharm": {
     "name": "#%%\n"
    }
   },
   "outputs": [
    {
     "name": "stdout",
     "output_type": "stream",
     "text": [
      "电话号码 :  2004-959-559 *\n"
     ]
    }
   ],
   "source": [
    "import re\n",
    "\n",
    "phone = \"2004-959-559 #   这是一个电话号码\"\n",
    "\n",
    "# 删除注释\n",
    "num = re.sub(r'#.*', \"*\", phone)\n",
    "print (\"电话号码 : \", num)\n"
   ]
  },
  {
   "cell_type": "code",
   "execution_count": 14,
   "id": "9116f7e7",
   "metadata": {
    "pycharm": {
     "name": "#%%\n"
    }
   },
   "outputs": [
    {
     "name": "stdout",
     "output_type": "stream",
     "text": [
      "电话号码 :  2004959559\n"
     ]
    }
   ],
   "source": [
    "# 移除非数字的内容\n",
    "num = re.sub(r'\\D', \"\", phone)\n",
    "print (\"电话号码 : \", num)"
   ]
  },
  {
   "cell_type": "code",
   "execution_count": 15,
   "id": "1619ee18",
   "metadata": {
    "pycharm": {
     "name": "#%%\n"
    }
   },
   "outputs": [
    {
     "name": "stdout",
     "output_type": "stream",
     "text": [
      "['info', 'xiaoZhang', '33', 'shandong']\n"
     ]
    }
   ],
   "source": [
    "import re\n",
    "ret = re.split(\":| \",\"info:xiaoZhang 33 shandong\")\n",
    "print(ret)"
   ]
  },
  {
   "cell_type": "code",
   "execution_count": null,
   "id": "e961ec1d",
   "metadata": {
    "pycharm": {
     "name": "#%%\n"
    }
   },
   "outputs": [],
   "source": []
  },
  {
   "cell_type": "code",
   "execution_count": 16,
   "id": "fe0cbc3a",
   "metadata": {
    "pycharm": {
     "name": "#%%\n"
    }
   },
   "outputs": [
    {
     "name": "stdout",
     "output_type": "stream",
     "text": [
      "[1 2 3 4 5]\n"
     ]
    }
   ],
   "source": [
    "import numpy as np\n",
    "a = np.array([1,2,3,4,5])\n",
    "print(a)"
   ]
  },
  {
   "cell_type": "code",
   "execution_count": null,
   "id": "728dadab",
   "metadata": {
    "pycharm": {
     "name": "#%%\n"
    }
   },
   "outputs": [],
   "source": []
  },
  {
   "cell_type": "markdown",
   "id": "ee48c3ad",
   "metadata": {
    "pycharm": {
     "name": "#%% md\n"
    }
   },
   "source": [
    "### 数组切片"
   ]
  },
  {
   "cell_type": "code",
   "execution_count": 17,
   "id": "1fefeffd",
   "metadata": {
    "pycharm": {
     "name": "#%%\n"
    }
   },
   "outputs": [
    {
     "name": "stdout",
     "output_type": "stream",
     "text": [
      "[1 2 3 4 5]\n"
     ]
    }
   ],
   "source": [
    "import numpy as np\n",
    "a = np.array([1,2,3,4,5])\n",
    "print(a)"
   ]
  },
  {
   "cell_type": "code",
   "execution_count": 18,
   "id": "f75d8f1d",
   "metadata": {
    "pycharm": {
     "name": "#%%\n"
    }
   },
   "outputs": [
    {
     "data": {
      "text/plain": [
       "slice(3, 8, 2)"
      ]
     },
     "execution_count": 18,
     "metadata": {},
     "output_type": "execute_result"
    }
   ],
   "source": [
    "s = slice(3,8,2)\n",
    "s"
   ]
  },
  {
   "cell_type": "code",
   "execution_count": 19,
   "id": "e21e638f",
   "metadata": {
    "pycharm": {
     "name": "#%%\n"
    }
   },
   "outputs": [
    {
     "name": "stdout",
     "output_type": "stream",
     "text": [
      "[7 4 8 0 2 5 1]\n",
      "[0 1 2 4 5 7 8]\n"
     ]
    }
   ],
   "source": [
    "# 排序\n",
    "a = np.array([7,4,8,0,2,5,1])\n",
    "print(a)\n",
    "a.sort()\n",
    "print(a)"
   ]
  },
  {
   "cell_type": "code",
   "execution_count": 20,
   "id": "3288f9d2",
   "metadata": {
    "pycharm": {
     "name": "#%%\n"
    }
   },
   "outputs": [
    {
     "name": "stdout",
     "output_type": "stream",
     "text": [
      "[7 4 8 0 2 5 1]\n",
      "[0 1 2 4 5 7 8]\n",
      "[8 7 5 4 2 1 0]\n"
     ]
    }
   ],
   "source": [
    "a = np.array([7,4,8,0,2,5,1])\n",
    "print(a)\n",
    "a.sort()\n",
    "print(a)\n",
    "b = a[::-1]\n",
    "print(b)\n"
   ]
  },
  {
   "cell_type": "markdown",
   "id": "37fd1556",
   "metadata": {
    "pycharm": {
     "name": "#%% md\n"
    }
   },
   "source": [
    "### 常见的统计函数"
   ]
  },
  {
   "cell_type": "code",
   "execution_count": 21,
   "id": "163f080d",
   "metadata": {
    "pycharm": {
     "name": "#%%\n"
    }
   },
   "outputs": [
    {
     "name": "stdout",
     "output_type": "stream",
     "text": [
      "8\n",
      "95\n",
      "95\n",
      "50\n",
      "50\n",
      "78.25\n",
      "78.25\n",
      "82.5\n",
      "15.213070038621396\n",
      "231.4375\n"
     ]
    }
   ],
   "source": [
    "import numpy as np\n",
    "a = np.array([82,79,57,92,50,83,95,88])\n",
    "print(len(a)) #len()求长度\n",
    "print(np.max(a))  #求最大值\n",
    "print(a.max())\n",
    "print(np.min(a))  #求最小值\n",
    "print(a.min())\n",
    "print(np.mean(a))\n",
    "print(a.mean())\n",
    "print(np.median(a))  #中位数\n",
    "print(np.std(a))     #标准差\n",
    "print(np.var(a))"
   ]
  },
  {
   "cell_type": "code",
   "execution_count": 24,
   "id": "e1c8d031",
   "metadata": {
    "pycharm": {
     "name": "#%%\n"
    }
   },
   "outputs": [
    {
     "data": {
      "image/png": "[encoded data removed]",
      "text/plain": [
       "<Figure size 432x288 with 1 Axes>"
      ]
     },
     "metadata": {
      "needs_background": "light"
     },
     "output_type": "display_data"
    }
   ],
   "source": [
    "import matplotlib.pyplot as plt\n",
    "plt.rcParams['font.family'] = 'SimHei'\n",
    "#plt.rcParams['font.sans-serif'] = 'SimHei'\n",
    "age = [7,10,13,15,18,20]\n",
    "height = [130,145,163,170,178,182]\n",
    "plt.plot(age,height,marker='o')\n",
    "plt.xlabel('Age(岁)')\n",
    "plt.ylabel('Height(cm)')\n",
    "plt.title('图 1：Age-Height')\n",
    "plt.show()"
   ]
  },
  {
   "cell_type": "code",
   "execution_count": 25,
   "id": "905f3f9f",
   "metadata": {
    "pycharm": {
     "name": "#%%\n"
    }
   },
   "outputs": [
    {
     "data": {
      "image/png": "[encoded data removed]",
      "text/plain": [
       "<Figure size 432x288 with 1 Axes>"
      ]
     },
     "metadata": {
      "needs_background": "light"
     },
     "output_type": "display_data"
    }
   ],
   "source": [
    "import matplotlib.pyplot as plt\n",
    "y = [5,7,4,9,17]\n",
    "plt.plot(y,marker='*')  #也可以只传y\n",
    "plt.show()"
   ]
  },
  {
   "cell_type": "code",
   "execution_count": 26,
   "id": "53e8da36",
   "metadata": {
    "pycharm": {
     "name": "#%%\n"
    }
   },
   "outputs": [
    {
     "data": {
      "image/png": "[encoded data removed]",
      "text/plain": [
       "<Figure size 432x288 with 1 Axes>"
      ]
     },
     "metadata": {
      "needs_background": "light"
     },
     "output_type": "display_data"
    }
   ],
   "source": [
    "import matplotlib.pyplot as plt\n",
    "fruit_name = ['Apple','Orange','Banana','Pear','Peach']\n",
    "fruit_weight = [210,180,50,135,230]\n",
    "plt.bar(fruit_name,fruit_weight,width=0.2)\n",
    "plt.ylabel('重量(kg)')\n",
    "plt.show()"
   ]
  },
  {
   "cell_type": "code",
   "execution_count": null,
   "id": "3f3b0fed",
   "metadata": {
    "pycharm": {
     "name": "#%%\n"
    }
   },
   "outputs": [],
   "source": []
  },
  {
   "cell_type": "code",
   "execution_count": 1,
   "id": "647eab32",
   "metadata": {
    "pycharm": {
     "name": "#%%\n"
    }
   },
   "outputs": [
    {
     "data": {
      "image/png": "[encoded data removed]",
      "text/plain": [
       "<Figure size 432x288 with 1 Axes>"
      ]
     },
     "metadata": {
      "needs_background": "light"
     },
     "output_type": "display_data"
    }
   ],
   "source": [
    "from matplotlib import pyplot as plt\n",
    "# import matplotlib.pyplot as plt\n",
    "plt.rcParams['font.family'] = 'SimHei'\n",
    "# plt.rcParams['font.sans-serif'] = 'SimHei'\n",
    "water_name = ['奶茶','果汁','绿茶','矿泉水']      #元组()也可以\n",
    "num_boy = [7,10,5,25]\n",
    "num_girl = [35,6,3,5]\n",
    "bar_width = 0.3\n",
    "index_boy = range(len(water_name))                #[0,1,2,3]\n",
    "index_girl = [x + bar_width  for x in index_boy]  #[0.3,1.3,2.3,3.3]\n",
    "plt.bar(index_boy,num_boy,width = bar_width,color='blue',label='男生')\n",
    "plt.bar(index_girl,num_girl,width = bar_width,color='red',label='女生')\n",
    "plt.xticks([x + bar_width / 2 for x in index_boy],water_name)\n",
    "plt.ylabel('消费数量(瓶)')\n",
    "plt.title('男女生月消费饮料种类及数量')\n",
    "plt.legend() #打上图例  对应plt.bar中的label值\n",
    "plt.show()"
   ]
  },
  {
   "cell_type": "code",
   "execution_count": 2,
   "id": "86935db4",
   "metadata": {
    "pycharm": {
     "name": "#%%\n"
    }
   },
   "outputs": [
    {
     "data": {
      "image/png": "[encoded data removed]",
      "text/plain": [
       "<Figure size 432x288 with 1 Axes>"
      ]
     },
     "metadata": {
      "needs_background": "light"
     },
     "output_type": "display_data"
    }
   ],
   "source": [
    "## 9.3 一图中绘制多条曲线\n",
    "\n",
    "import matplotlib.pyplot as plt\n",
    "import numpy as np\n",
    "plt.rcParams['font.family'] = 'SimHei'\n",
    "x = np.linspace(0,2,100)\n",
    "y1 = x\n",
    "y2 = x ** 2\n",
    "y3 = x ** 3\n",
    "plt.plot(x,y1,color='r',label='linear')\n",
    "plt.plot(x,y2,color='b',label='qaudratic')\n",
    "plt.plot(x,y3,color='g',label='cubic')\n",
    "plt.xlabel('x轴')\n",
    "plt.ylabel('y轴')\n",
    "plt.legend()\n",
    "plt.show()"
   ]
  },
  {
   "cell_type": "code",
   "execution_count": null,
   "id": "f1b867e9",
   "metadata": {
    "pycharm": {
     "name": "#%%\n"
    }
   },
   "outputs": [],
   "source": []
  }
 ],
 "metadata": {
  "kernelspec": {
   "display_name": "Python 3 (ipykernel)",
   "language": "python",
   "name": "python3"
  },
  "language_info": {
   "codemirror_mode": {
    "name": "ipython",
    "version": 3
   },
   "file_extension": ".py",
   "mimetype": "text/x-python",
   "name": "python",
   "nbconvert_exporter": "python",
   "pygments_lexer": "ipython3",
   "version": "3.9.7"
  }
 },
 "nbformat": 4,
 "nbformat_minor": 5
}