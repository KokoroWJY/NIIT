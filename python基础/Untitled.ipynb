{
 "cells": [
  {
   "cell_type": "markdown",
   "id": "c72d5715",
   "metadata": {},
   "source": [
    "# 流程控制"
   ]
  },
  {
   "cell_type": "markdown",
   "id": "939be1ee",
   "metadata": {},
   "source": [
    "## 3.1 if 分支"
   ]
  },
  {
   "cell_type": "code",
   "execution_count": 1,
   "id": "8f29d00e",
   "metadata": {},
   "outputs": [
    {
     "name": "stdout",
     "output_type": "stream",
     "text": [
      "成绩: 90\n",
      "优秀!\n"
     ]
    }
   ],
   "source": [
    "sc = eval(input('成绩: '))\n",
    "if sc >= 90:\n",
    "    print('优秀!')"
   ]
  },
  {
   "cell_type": "code",
   "execution_count": 3,
   "id": "46754ae2",
   "metadata": {},
   "outputs": [
    {
     "name": "stdout",
     "output_type": "stream",
     "text": [
      "请输入年龄:80\n",
      "40.0\n"
     ]
    }
   ],
   "source": [
    "price = 80.0\n",
    "age = eval(input('请输入年龄:'))\n",
    "if age >= 60 or age <= 10:\n",
    "    print(price / 2)\n",
    "else:\n",
    "    print(price)"
   ]
  },
  {
   "cell_type": "markdown",
   "id": "24526fae",
   "metadata": {},
   "source": [
    "## 3.2 if-else 分支"
   ]
  },
  {
   "cell_type": "code",
   "execution_count": 5,
   "id": "8f87704a",
   "metadata": {},
   "outputs": [
    {
     "name": "stdout",
     "output_type": "stream",
     "text": [
      "成绩: 90\n",
      "祝贺通过考试\n",
      "继续努力\n"
     ]
    }
   ],
   "source": [
    "sc = eval(input('成绩: '))\n",
    "if sc >= 60:\n",
    "    print('祝贺通过考试')\n",
    "else:\n",
    "    print('很遗憾!')\n",
    "print('继续努力')"
   ]
  },
  {
   "cell_type": "code",
   "execution_count": 3,
   "id": "d66b4e2b",
   "metadata": {},
   "outputs": [
    {
     "name": "stdout",
     "output_type": "stream",
     "text": [
      "*\n",
      "**\n",
      "***\n",
      "****\n",
      "*****\n"
     ]
    }
   ],
   "source": [
    "for i in range(1, 6):\n",
    "    print(\"*\" * i)"
   ]
  },
  {
   "cell_type": "code",
   "execution_count": 15,
   "id": "5a2dbb7b",
   "metadata": {},
   "outputs": [
    {
     "name": "stdout",
     "output_type": "stream",
     "text": [
      "1\t2\t3\t4\t\n",
      "2\t4\t6\t8\t\n",
      "3\t6\t9\t12\t\n",
      "4\t8\t12\t16\t\n",
      "5\t10\t15\t20\t\n"
     ]
    }
   ],
   "source": [
    "for i in range(1, 6):  # 外层循环控制行\n",
    "    for j in range(1, 5): # 内层循环控制列\n",
    "        print(i * j, end='\\t')\n",
    "    print()"
   ]
  },
  {
   "cell_type": "code",
   "execution_count": 23,
   "id": "2f9670ba",
   "metadata": {},
   "outputs": [
    {
     "name": "stdout",
     "output_type": "stream",
     "text": [
      "九九乘法表: \n",
      "1*1=1\t\n",
      "2*1=2\t2*2=4\t\n",
      "3*1=3\t3*2=6\t3*3=9\t\n",
      "4*1=4\t4*2=8\t4*3=12\t4*4=16\t\n",
      "5*1=5\t5*2=10\t5*3=15\t5*4=20\t5*5=25\t\n",
      "6*1=6\t6*2=12\t6*3=18\t6*4=24\t6*5=30\t6*6=36\t\n",
      "7*1=7\t7*2=14\t7*3=21\t7*4=28\t7*5=35\t7*6=42\t7*7=49\t\n",
      "8*1=8\t8*2=16\t8*3=24\t8*4=32\t8*5=40\t8*6=48\t8*7=56\t8*8=64\t\n",
      "9*1=9\t9*2=18\t9*3=27\t9*4=36\t9*5=45\t9*6=54\t9*7=63\t9*8=72\t9*9=81\t\n"
     ]
    }
   ],
   "source": [
    "print(\"九九乘法表: \")\n",
    "for i in range(1, 10):\n",
    "    for j in range(1, i + 1):\n",
    "        print(\"{}*{}={}\".format(i, j, i*j), end='\\t')\n",
    "    print()"
   ]
  },
  {
   "cell_type": "code",
   "execution_count": 28,
   "id": "c0c135d1",
   "metadata": {},
   "outputs": [
    {
     "name": "stdout",
     "output_type": "stream",
     "text": [
      "******\n",
      "******\n",
      "\n",
      "******\n"
     ]
    }
   ],
   "source": [
    "for i in range(4):\n",
    "    if i == 2:\n",
    "        print()\n",
    "        continue\n",
    "    for j in range(6):\n",
    "        print(\"*\", end='')\n",
    "    print()"
   ]
  },
  {
   "cell_type": "code",
   "execution_count": 3,
   "id": "09d619d1",
   "metadata": {},
   "outputs": [
    {
     "name": "stdout",
     "output_type": "stream",
     "text": [
      "******\n",
      "******\n",
      "\n",
      "******\n"
     ]
    }
   ],
   "source": [
    "for i in range(4):\n",
    "    for j in range(6):\n",
    "        if i == 2:\n",
    "            break\n",
    "        print(\"*\", end='')\n",
    "    print()"
   ]
  },
  {
   "cell_type": "code",
   "execution_count": 7,
   "id": "ba2a944b",
   "metadata": {},
   "outputs": [
    {
     "name": "stdout",
     "output_type": "stream",
     "text": [
      "******\n",
      "******\n",
      "**  **\n",
      "******\n"
     ]
    }
   ],
   "source": [
    "for i in range(4):\n",
    "    for j in range(6):\n",
    "        if i == 2 and (j == 2 or j == 3):\n",
    "            print(end=' ')\n",
    "            continue\n",
    "        print(\"*\", end='')\n",
    "    print()"
   ]
  },
  {
   "cell_type": "code",
   "execution_count": 11,
   "id": "da759b7a",
   "metadata": {},
   "outputs": [
    {
     "name": "stdout",
     "output_type": "stream",
     "text": [
      "******\n",
      "\n",
      "***  *\n",
      "******\n"
     ]
    }
   ],
   "source": [
    "for i in range(4):\n",
    "    for j in range(6):\n",
    "        if i == 1:\n",
    "            break\n",
    "        if i == 2 and (j == 3 or j == 4):\n",
    "            print(end=' ')\n",
    "            continue\n",
    "        print(\"*\", end='')\n",
    "    print()"
   ]
  },
  {
   "cell_type": "code",
   "execution_count": 21,
   "id": "8569a670",
   "metadata": {},
   "outputs": [
    {
     "ename": "TypeError",
     "evalue": "tuple expected at most 1 argument, got 3",
     "output_type": "error",
     "traceback": [
      "\u001b[1;31m---------------------------------------------------------------------------\u001b[0m",
      "\u001b[1;31mTypeError\u001b[0m                                 Traceback (most recent call last)",
      "\u001b[1;32m~\\AppData\\Local\\Temp/ipykernel_15128/1656526362.py\u001b[0m in \u001b[0;36m<module>\u001b[1;34m\u001b[0m\n\u001b[1;32m----> 1\u001b[1;33m \u001b[0mtup\u001b[0m \u001b[1;33m=\u001b[0m \u001b[0mtuple\u001b[0m\u001b[1;33m(\u001b[0m\u001b[1;36m1\u001b[0m\u001b[1;33m,\u001b[0m\u001b[1;36m2\u001b[0m\u001b[1;33m,\u001b[0m\u001b[1;36m3\u001b[0m\u001b[1;33m)\u001b[0m\u001b[1;33m\u001b[0m\u001b[1;33m\u001b[0m\u001b[0m\n\u001b[0m\u001b[0;32m      2\u001b[0m \u001b[0mtup\u001b[0m \u001b[1;33m=\u001b[0m \u001b[1;36m1\u001b[0m\u001b[1;33m,\u001b[0m\u001b[1;36m2\u001b[0m\u001b[1;33m,\u001b[0m\u001b[1;36m3\u001b[0m\u001b[1;33m,\u001b[0m\u001b[1;36m4\u001b[0m\u001b[1;33m\u001b[0m\u001b[1;33m\u001b[0m\u001b[0m\n\u001b[0;32m      3\u001b[0m \u001b[1;33m\u001b[0m\u001b[0m\n\u001b[0;32m      4\u001b[0m \u001b[0mtup\u001b[0m \u001b[1;33m=\u001b[0m \u001b[1;33m(\u001b[0m\u001b[1;36m2\u001b[0m\u001b[1;33m)\u001b[0m\u001b[1;33m\u001b[0m\u001b[1;33m\u001b[0m\u001b[0m\n\u001b[0;32m      5\u001b[0m \u001b[0mprint\u001b[0m\u001b[1;33m(\u001b[0m\u001b[0mtup\u001b[0m\u001b[1;33m)\u001b[0m\u001b[1;33m\u001b[0m\u001b[1;33m\u001b[0m\u001b[0m\n",
      "\u001b[1;31mTypeError\u001b[0m: tuple expected at most 1 argument, got 3"
     ]
    }
   ],
   "source": [
    "tup = tuple([1,2,3]) \n",
    "tup = 1,2,3,4\n",
    "\n",
    "tup = (2)\n",
    "print(tup)\n",
    "print(type(tup))\n",
    "\n",
    "tup = (2,) \n",
    "print(tup)\n",
    "print(type(tup))"
   ]
  },
  {
   "cell_type": "code",
   "execution_count": 20,
   "id": "a701d363",
   "metadata": {},
   "outputs": [
    {
     "name": "stdout",
     "output_type": "stream",
     "text": [
      "6\n"
     ]
    }
   ],
   "source": [
    "tup = (1,2,6,3,4)\n",
    "print(tup[2])"
   ]
  },
  {
   "cell_type": "markdown",
   "id": "94908bb7",
   "metadata": {},
   "source": [
    "## 函数"
   ]
  },
  {
   "cell_type": "code",
   "execution_count": 28,
   "id": "f086cd9e",
   "metadata": {},
   "outputs": [],
   "source": [
    "def nine_multiplication():\n",
    "    for i in range(1,10):\n",
    "        for j in range(1, i + 1):\n",
    "            print(\"{}*{}={}\".format(i, j, i * j), end='\\t')\n",
    "        print()"
   ]
  },
  {
   "cell_type": "code",
   "execution_count": 27,
   "id": "3921e4f0",
   "metadata": {},
   "outputs": [
    {
     "name": "stdout",
     "output_type": "stream",
     "text": [
      "1*1=1\t\n",
      "2*1=2\t2*2=4\t\n",
      "3*1=3\t3*2=6\t3*3=9\t\n",
      "4*1=4\t4*2=8\t4*3=12\t4*4=16\t\n",
      "5*1=5\t5*2=10\t5*3=15\t5*4=20\t5*5=25\t\n",
      "6*1=6\t6*2=12\t6*3=18\t6*4=24\t6*5=30\t6*6=36\t\n",
      "7*1=7\t7*2=14\t7*3=21\t7*4=28\t7*5=35\t7*6=42\t7*7=49\t\n",
      "8*1=8\t8*2=16\t8*3=24\t8*4=32\t8*5=40\t8*6=48\t8*7=56\t8*8=64\t\n",
      "9*1=9\t9*2=18\t9*3=27\t9*4=36\t9*5=45\t9*6=54\t9*7=63\t9*8=72\t9*9=81\t\n"
     ]
    }
   ],
   "source": [
    "if __name__ == \"__main__\":\n",
    "    nine_multiplication()"
   ]
  },
  {
   "cell_type": "code",
   "execution_count": 29,
   "id": "0f676f3f",
   "metadata": {},
   "outputs": [
    {
     "name": "stdout",
     "output_type": "stream",
     "text": [
      "welcom 张三\n"
     ]
    }
   ],
   "source": [
    "def Welcome(name):\n",
    "    print(\"welcom {}\".format(name))\n",
    "Welcome(\"张三\")"
   ]
  },
  {
   "cell_type": "code",
   "execution_count": 32,
   "id": "4e7d7a18",
   "metadata": {},
   "outputs": [
    {
     "name": "stdout",
     "output_type": "stream",
     "text": [
      "3\n"
     ]
    }
   ],
   "source": [
    "def Sum(n):\n",
    "    sum = 0\n",
    "    for i in range(1, n + 1):\n",
    "        sum += i\n",
    "    print(sum)\n",
    "Sum(2)"
   ]
  },
  {
   "cell_type": "code",
   "execution_count": 52,
   "id": "24364660",
   "metadata": {},
   "outputs": [
    {
     "data": {
      "text/plain": [
       "2"
      ]
     },
     "execution_count": 52,
     "metadata": {},
     "output_type": "execute_result"
    }
   ],
   "source": [
    "def Rabbit(n):\n",
    "    ls = [1,1]\n",
    "    for i in range(2, n):\n",
    "        t = ls[i - 2] + l[i - 1]\n",
    "        l.append(t)\n",
    "        return l[n]\n",
    "Rabbit(3)"
   ]
  },
  {
   "cell_type": "markdown",
   "id": "bd6f8359",
   "metadata": {},
   "source": [
    "### 带返回值的函数定义和调用"
   ]
  },
  {
   "cell_type": "code",
   "execution_count": 5,
   "id": "e74a514c",
   "metadata": {},
   "outputs": [],
   "source": [
    "def eara(w, h):\n",
    "    if w < 0 or h < 0:\n",
    "        print('参数输入错误')\n",
    "        return -1\n",
    "    s = w * h\n",
    "    return s"
   ]
  },
  {
   "cell_type": "code",
   "execution_count": 6,
   "id": "86d4700e",
   "metadata": {},
   "outputs": [
    {
     "name": "stdout",
     "output_type": "stream",
     "text": [
      "参数输入错误\n",
      "面积为: -1\n"
     ]
    }
   ],
   "source": [
    "s = eara(-2,3)\n",
    "print(\"面积为: {}\".format(s))"
   ]
  },
  {
   "cell_type": "code",
   "execution_count": 7,
   "id": "f11eb4f5",
   "metadata": {},
   "outputs": [],
   "source": [
    "def add(n):\n",
    "    s = 0\n",
    "    for i in range(1, n+1):\n",
    "        s += i\n",
    "    return s"
   ]
  },
  {
   "cell_type": "code",
   "execution_count": 8,
   "id": "de6cbd43",
   "metadata": {},
   "outputs": [],
   "source": [
    "s = add(100)"
   ]
  },
  {
   "cell_type": "code",
   "execution_count": 9,
   "id": "76811e74",
   "metadata": {},
   "outputs": [
    {
     "name": "stdout",
     "output_type": "stream",
     "text": [
      "5050\n"
     ]
    }
   ],
   "source": [
    "print(s)"
   ]
  },
  {
   "cell_type": "code",
   "execution_count": 10,
   "id": "37f32e2e",
   "metadata": {},
   "outputs": [],
   "source": [
    "# 定义并调用求绝对值\n",
    "def fun(n):\n",
    "    if n >= 0:\n",
    "        return n\n",
    "    return -n"
   ]
  },
  {
   "cell_type": "code",
   "execution_count": 11,
   "id": "a07a2653",
   "metadata": {},
   "outputs": [
    {
     "data": {
      "text/plain": [
       "6"
      ]
     },
     "execution_count": 11,
     "metadata": {},
     "output_type": "execute_result"
    }
   ],
   "source": [
    "fun(-6)"
   ]
  },
  {
   "cell_type": "markdown",
   "id": "70bcfbff",
   "metadata": {},
   "source": [
    "### 带默认参数的函数"
   ]
  },
  {
   "cell_type": "code",
   "execution_count": 14,
   "id": "8a522cec",
   "metadata": {},
   "outputs": [],
   "source": [
    "def print_info(name, age=18):\n",
    "    print(\"姓名: {}, 年龄: {}\".format(name, age))"
   ]
  },
  {
   "cell_type": "code",
   "execution_count": 15,
   "id": "1bdd3fc6",
   "metadata": {},
   "outputs": [
    {
     "name": "stdout",
     "output_type": "stream",
     "text": [
      "姓名: 张三, 年龄: 18\n"
     ]
    }
   ],
   "source": [
    "print_info(\"张三\")"
   ]
  },
  {
   "cell_type": "code",
   "execution_count": 16,
   "id": "fb7f1c31",
   "metadata": {},
   "outputs": [
    {
     "name": "stdout",
     "output_type": "stream",
     "text": [
      "姓名: 20, 年龄: 张三\n"
     ]
    }
   ],
   "source": [
    "print_info(name=20, age=\"张三\") # 函数调用时 指定参数名可以改变"
   ]
  },
  {
   "cell_type": "code",
   "execution_count": 17,
   "id": "de4d1209",
   "metadata": {},
   "outputs": [
    {
     "name": "stdout",
     "output_type": "stream",
     "text": [
      "3.142\n"
     ]
    }
   ],
   "source": [
    "print(\"%.3f\" % 3.1415926)"
   ]
  },
  {
   "cell_type": "code",
   "execution_count": 19,
   "id": "762906e9",
   "metadata": {},
   "outputs": [
    {
     "name": "stdout",
     "output_type": "stream",
     "text": [
      "3.142\n"
     ]
    }
   ],
   "source": [
    "print(\"{:.3f}\".format(3.1415926))"
   ]
  },
  {
   "cell_type": "markdown",
   "id": "65c8a38c",
   "metadata": {},
   "source": [
    "### 参数值可变的函数"
   ]
  },
  {
   "cell_type": "code",
   "execution_count": 21,
   "id": "34ee592f",
   "metadata": {},
   "outputs": [],
   "source": [
    "def change(lst): # 参数为列表类型\n",
    "    lst.append(2022)\n",
    "    print(\"函数内的列表值: \", lst)"
   ]
  },
  {
   "cell_type": "code",
   "execution_count": 22,
   "id": "9aad1548",
   "metadata": {},
   "outputs": [
    {
     "name": "stdout",
     "output_type": "stream",
     "text": [
      "函数内的列表值:  [10, 20, 30, 2022]\n"
     ]
    }
   ],
   "source": [
    "mylist = [10, 20, 30]\n",
    "change(mylist)"
   ]
  },
  {
   "cell_type": "code",
   "execution_count": 24,
   "id": "58984c40",
   "metadata": {},
   "outputs": [
    {
     "name": "stdout",
     "output_type": "stream",
     "text": [
      "函数外列表的值:  [10, 20, 30, 2022]\n"
     ]
    }
   ],
   "source": [
    "print(\"函数外列表的值: \", mylist)"
   ]
  },
  {
   "cell_type": "markdown",
   "id": "11b0cec9",
   "metadata": {},
   "source": [
    "## 函数的作用域"
   ]
  },
  {
   "cell_type": "code",
   "execution_count": 26,
   "id": "3c48f312",
   "metadata": {},
   "outputs": [
    {
     "name": "stdout",
     "output_type": "stream",
     "text": [
      "a = 10\n"
     ]
    }
   ],
   "source": [
    "a = 2 # 全局变量\n",
    "def change():\n",
    "    a = 10 # 局部变量\n",
    "    print(\"a = {}\".format(a))"
   ]
  },
  {
   "cell_type": "code",
   "execution_count": 27,
   "id": "1a0e5603",
   "metadata": {},
   "outputs": [
    {
     "name": "stdout",
     "output_type": "stream",
     "text": [
      "a = 10\n",
      "a = 2\n"
     ]
    }
   ],
   "source": [
    "change()\n",
    "print(\"a = {}\".format(a))"
   ]
  },
  {
   "cell_type": "code",
   "execution_count": 31,
   "id": "6d236ae2",
   "metadata": {},
   "outputs": [],
   "source": [
    "a = 2\n",
    "def change():\n",
    "    global a\n",
    "    a = 10\n",
    "    print(\"a = {}\".format(a))"
   ]
  },
  {
   "cell_type": "code",
   "execution_count": 32,
   "id": "65e4509b",
   "metadata": {},
   "outputs": [
    {
     "name": "stdout",
     "output_type": "stream",
     "text": [
      "a = 10\n",
      "a = 10\n"
     ]
    }
   ],
   "source": [
    "change()\n",
    "print(\"a = {}\".format(a))"
   ]
  },
  {
   "cell_type": "markdown",
   "id": "9131ac8b",
   "metadata": {},
   "source": [
    "### lambda 表达式"
   ]
  },
  {
   "cell_type": "code",
   "execution_count": 35,
   "id": "8fcdcc69",
   "metadata": {},
   "outputs": [],
   "source": [
    "f = lambda a,b:a + b"
   ]
  },
  {
   "cell_type": "code",
   "execution_count": 36,
   "id": "cf9ba073",
   "metadata": {},
   "outputs": [
    {
     "data": {
      "text/plain": [
       "5"
      ]
     },
     "execution_count": 36,
     "metadata": {},
     "output_type": "execute_result"
    }
   ],
   "source": [
    "f(2,3)"
   ]
  },
  {
   "cell_type": "code",
   "execution_count": 5,
   "id": "03f53af2",
   "metadata": {},
   "outputs": [
    {
     "data": {
      "text/plain": [
       "[1, 4, 9, 16, 25]"
      ]
     },
     "execution_count": 5,
     "metadata": {},
     "output_type": "execute_result"
    }
   ],
   "source": [
    "f = lambda a:a ** 2\n",
    "ls = [1,2,3,4,5]\n",
    "map(f, ls)\n",
    "list(map(f, ls))"
   ]
  },
  {
   "cell_type": "code",
   "execution_count": 50,
   "id": "4e165e17",
   "metadata": {},
   "outputs": [
    {
     "data": {
      "text/plain": [
       "(1, 4, 9, 16, 25)"
      ]
     },
     "execution_count": 50,
     "metadata": {},
     "output_type": "execute_result"
    }
   ],
   "source": [
    "tuple(map(f, ls))"
   ]
  },
  {
   "cell_type": "code",
   "execution_count": 3,
   "id": "ef3855e4",
   "metadata": {},
   "outputs": [
    {
     "data": {
      "text/plain": [
       "[2, 4, 6, 8]"
      ]
     },
     "execution_count": 3,
     "metadata": {},
     "output_type": "execute_result"
    }
   ],
   "source": [
    "la = lambda a: a * 2\n",
    "ls = [1, 2, 3, 4]\n",
    "m = map(la, ls)\n",
    "list(m)"
   ]
  },
  {
   "cell_type": "markdown",
   "id": "4edf5ca0",
   "metadata": {},
   "source": [
    "### filter函数"
   ]
  },
  {
   "cell_type": "code",
   "execution_count": 6,
   "id": "edc94286",
   "metadata": {},
   "outputs": [],
   "source": [
    "func = lambda x:x % 2 == 1"
   ]
  },
  {
   "cell_type": "code",
   "execution_count": 8,
   "id": "604687d6",
   "metadata": {},
   "outputs": [
    {
     "data": {
      "text/plain": [
       "True"
      ]
     },
     "execution_count": 8,
     "metadata": {},
     "output_type": "execute_result"
    }
   ],
   "source": [
    "func(3)"
   ]
  },
  {
   "cell_type": "code",
   "execution_count": 13,
   "id": "d43a2a03",
   "metadata": {},
   "outputs": [],
   "source": [
    "f = filter(func, [1, 2, 3, 4, 5, 6, 7, 8, 9, 10]) # 筛选出所有为True的值"
   ]
  },
  {
   "cell_type": "code",
   "execution_count": 14,
   "id": "b3e8e6ec",
   "metadata": {},
   "outputs": [
    {
     "data": {
      "text/plain": [
       "[1, 3, 5, 7, 9]"
      ]
     },
     "execution_count": 14,
     "metadata": {},
     "output_type": "execute_result"
    }
   ],
   "source": [
    "list(f)"
   ]
  },
  {
   "cell_type": "code",
   "execution_count": 16,
   "id": "db5fd6e0",
   "metadata": {},
   "outputs": [
    {
     "data": {
      "text/plain": [
       "[53, 49]"
      ]
     },
     "execution_count": 16,
     "metadata": {},
     "output_type": "execute_result"
    }
   ],
   "source": [
    "lamb = lambda x: x < 60\n",
    "sc = [92, 95, 67, 53, 49, 87]\n",
    "list(filter(lamb, sc))"
   ]
  },
  {
   "cell_type": "code",
   "execution_count": 6,
   "id": "8c1ebea4",
   "metadata": {},
   "outputs": [
    {
     "name": "stdout",
     "output_type": "stream",
     "text": [
      "c1面积12.566370614359172, c1周长12.566370614359172\n"
     ]
    }
   ],
   "source": [
    "import numpy as np\n",
    "class Circle:\n",
    "    def __init__(self, r):\n",
    "        self.r = r\n",
    "\n",
    "    def erea(self):\n",
    "        return (self.r ** 2) * np.pi\n",
    "\n",
    "    def Perimeter(self):\n",
    "        return np.pi * 2 * self.r\n",
    "c1 = Circle(2)\n",
    "print(\"c1面积{}, c1周长{}\".format(c1.erea(), c1.Perimeter()))"
   ]
  },
  {
   "cell_type": "code",
   "execution_count": 4,
   "id": "b48a3e43",
   "metadata": {},
   "outputs": [
    {
     "ename": "TypeError",
     "evalue": "'int' object is not iterable",
     "output_type": "error",
     "traceback": [
      "\u001b[1;31m---------------------------------------------------------------------------\u001b[0m",
      "\u001b[1;31mTypeError\u001b[0m                                 Traceback (most recent call last)",
      "\u001b[1;32m~\\AppData\\Local\\Temp/ipykernel_7340/3127323827.py\u001b[0m in \u001b[0;36m<module>\u001b[1;34m\u001b[0m\n\u001b[0;32m      6\u001b[0m         \u001b[0mprint\u001b[0m\u001b[1;33m(\u001b[0m\u001b[0ms\u001b[0m\u001b[1;33m)\u001b[0m\u001b[1;33m\u001b[0m\u001b[1;33m\u001b[0m\u001b[0m\n\u001b[0;32m      7\u001b[0m     \u001b[0mprint\u001b[0m\u001b[1;33m(\u001b[0m\u001b[0ms\u001b[0m\u001b[1;33m)\u001b[0m\u001b[1;33m\u001b[0m\u001b[1;33m\u001b[0m\u001b[0m\n\u001b[1;32m----> 8\u001b[1;33m \u001b[0mLs\u001b[0m\u001b[1;33m(\u001b[0m\u001b[0mls\u001b[0m\u001b[1;33m)\u001b[0m\u001b[1;33m\u001b[0m\u001b[1;33m\u001b[0m\u001b[0m\n\u001b[0m",
      "\u001b[1;32m~\\AppData\\Local\\Temp/ipykernel_7340/3127323827.py\u001b[0m in \u001b[0;36mLs\u001b[1;34m(ls)\u001b[0m\n\u001b[0;32m      3\u001b[0m     \u001b[0ms\u001b[0m \u001b[1;33m=\u001b[0m \u001b[1;33m[\u001b[0m\u001b[1;33m]\u001b[0m\u001b[1;33m\u001b[0m\u001b[1;33m\u001b[0m\u001b[0m\n\u001b[0;32m      4\u001b[0m     \u001b[1;32mfor\u001b[0m \u001b[0mi\u001b[0m \u001b[1;32min\u001b[0m \u001b[0mrange\u001b[0m\u001b[1;33m(\u001b[0m\u001b[0mlen\u001b[0m\u001b[1;33m(\u001b[0m\u001b[0mls\u001b[0m\u001b[1;33m)\u001b[0m\u001b[1;33m)\u001b[0m\u001b[1;33m:\u001b[0m\u001b[1;33m\u001b[0m\u001b[1;33m\u001b[0m\u001b[0m\n\u001b[1;32m----> 5\u001b[1;33m         \u001b[0ms\u001b[0m \u001b[1;33m+=\u001b[0m \u001b[0mls\u001b[0m\u001b[1;33m[\u001b[0m\u001b[0mlen\u001b[0m\u001b[1;33m(\u001b[0m\u001b[0mls\u001b[0m\u001b[1;33m)\u001b[0m \u001b[1;33m-\u001b[0m \u001b[1;36m1\u001b[0m \u001b[1;33m-\u001b[0m \u001b[0mi\u001b[0m\u001b[1;33m]\u001b[0m\u001b[1;33m\u001b[0m\u001b[1;33m\u001b[0m\u001b[0m\n\u001b[0m\u001b[0;32m      6\u001b[0m         \u001b[0mprint\u001b[0m\u001b[1;33m(\u001b[0m\u001b[0ms\u001b[0m\u001b[1;33m)\u001b[0m\u001b[1;33m\u001b[0m\u001b[1;33m\u001b[0m\u001b[0m\n\u001b[0;32m      7\u001b[0m     \u001b[0mprint\u001b[0m\u001b[1;33m(\u001b[0m\u001b[0ms\u001b[0m\u001b[1;33m)\u001b[0m\u001b[1;33m\u001b[0m\u001b[1;33m\u001b[0m\u001b[0m\n",
      "\u001b[1;31mTypeError\u001b[0m: 'int' object is not iterable"
     ]
    }
   ],
   "source": []
  },
  {
   "cell_type": "code",
   "execution_count": null,
   "id": "7fcf9d80",
   "metadata": {},
   "outputs": [],
   "source": []
  }
 ],
 "metadata": {
  "kernelspec": {
   "display_name": "Python 3 (ipykernel)",
   "language": "python",
   "name": "python3"
  },
  "language_info": {
   "codemirror_mode": {
    "name": "ipython",
    "version": 3
   },
   "file_extension": ".py",
   "mimetype": "text/x-python",
   "name": "python",
   "nbconvert_exporter": "python",
   "pygments_lexer": "ipython3",
   "version": "3.9.7"
  }
 },
 "nbformat": 4,
 "nbformat_minor": 5
}
