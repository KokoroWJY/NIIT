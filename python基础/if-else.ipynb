{
 "cells": [
  {
   "cell_type": "markdown",
   "id": "3baae530",
   "metadata": {},
   "source": [
    "# 第三章 流程控制"
   ]
  },
  {
   "cell_type": "code",
   "execution_count": 5,
   "id": "70d2f0f4",
   "metadata": {},
   "outputs": [
    {
     "name": "stdout",
     "output_type": "stream",
     "text": [
      "成绩: 6\n",
      "再接再厉!\n"
     ]
    }
   ],
   "source": [
    "sc = eval(input(\"成绩: \"))\n",
    "if sc >= 90:\n",
    "    print(\"祝贺\")\n",
    "print(\"再接再厉!\")"
   ]
  },
  {
   "cell_type": "code",
   "execution_count": 9,
   "id": "4fe2af6e",
   "metadata": {},
   "outputs": [
    {
     "name": "stdout",
     "output_type": "stream",
     "text": [
      "1\n",
      "2\n",
      "3\n",
      "4\n",
      "5\n",
      "6\n",
      "7\n",
      "8\n",
      "9\n",
      "10\n"
     ]
    }
   ],
   "source": [
    "i = 0\n",
    "for i in range(10):\n",
    "    print(i + 1)"
   ]
  },
  {
   "cell_type": "markdown",
   "id": "9dd94d6c",
   "metadata": {},
   "source": [
    "## 3.2 if-else分支"
   ]
  },
  {
   "cell_type": "code",
   "execution_count": 12,
   "id": "b11a6fc0",
   "metadata": {},
   "outputs": [
    {
     "name": "stdout",
     "output_type": "stream",
     "text": [
      "成绩: 77\n",
      "祝贺\n",
      "通过考试\n"
     ]
    }
   ],
   "source": [
    "sc = eval(input(\"成绩: \"))\n",
    "if sc >= 60:\n",
    "    print(\"祝贺\\n通过考试\")\n",
    "else:\n",
    "    print(\"很遗憾\")"
   ]
  },
  {
   "cell_type": "code",
   "execution_count": 16,
   "id": "29909a31",
   "metadata": {},
   "outputs": [
    {
     "name": "stdout",
     "output_type": "stream",
     "text": [
      "年龄11\n",
      "未成年\n"
     ]
    }
   ],
   "source": [
    "age = eval(input(\"年龄\"))\n",
    "if age < 18:\n",
    "    print(\"未成年\")\n",
    "else:\n",
    "    print(\"成年\")"
   ]
  },
  {
   "cell_type": "code",
   "execution_count": 17,
   "id": "8dc3bdd4",
   "metadata": {},
   "outputs": [
    {
     "name": "stdout",
     "output_type": "stream",
     "text": [
      "成绩90\n",
      "优秀\n"
     ]
    }
   ],
   "source": [
    "sc = eval(input(\"成绩\"))\n",
    "if sc < 0 or sc > 100:\n",
    "    print(\"输入有错误\")\n",
    "elif sc >= 90:\n",
    "    print(\"优秀\")\n",
    "else:\n",
    "    print(\"合格\")"
   ]
  },
  {
   "cell_type": "code",
   "execution_count": 18,
   "id": "d941d91e",
   "metadata": {},
   "outputs": [
    {
     "name": "stdout",
     "output_type": "stream",
     "text": [
      "输入你的成绩: 99\n",
      "优秀\n"
     ]
    }
   ],
   "source": [
    "sc = eval(input(\"输入你的成绩: \"))\n",
    "if sc > 100 or sc < 0:\n",
    "    print(\"输入成绩超出范围\")\n",
    "elif sc < 60:\n",
    "    print('不及格')\n",
    "elif sc < 70:\n",
    "    print('及格')\n",
    "elif sc < 80:\n",
    "    print('良好')\n",
    "else:\n",
    "    print(\"优秀\")"
   ]
  },
  {
   "cell_type": "code",
   "execution_count": 20,
   "id": "f1d60ae1",
   "metadata": {},
   "outputs": [
    {
     "name": "stdout",
     "output_type": "stream",
     "text": [
      "输入你的成绩: 1\n",
      "不合格\n"
     ]
    }
   ],
   "source": [
    "sc = eval(input(\"输入你的成绩: \"))\n",
    "if sc > 100 or sc < 0:\n",
    "    print(\"输入成绩超出范围\")\n",
    "elif sc >= 80:\n",
    "    print('优秀')\n",
    "elif sc >= 70:\n",
    "    print('良好')\n",
    "elif sc >= 60:\n",
    "    print('合格')\n",
    "else:\n",
    "    print(\"不合格\")"
   ]
  },
  {
   "cell_type": "code",
   "execution_count": null,
   "id": "711acc87",
   "metadata": {},
   "outputs": [],
   "source": [
    "n = 123\n",
    "n = float(n / 10)\n",
    "print(n)"
   ]
  },
  {
   "cell_type": "code",
   "execution_count": 27,
   "id": "192660cb",
   "metadata": {},
   "outputs": [
    {
     "name": "stdout",
     "output_type": "stream",
     "text": [
      "请输入一个三位数: 153\n",
      "是水仙花数\n"
     ]
    }
   ],
   "source": [
    "# 水仙花数\n",
    "number = eval(input(\"请输入一个三位数: \"))\n",
    "g = number % 10\n",
    "s = number % 100 // 10\n",
    "b = number // 100\n",
    "if (g ** 3 + s ** 3 + b ** 3) == number:\n",
    "    print(\"是水仙花数\")\n",
    "else:\n",
    "    print(\"不是水仙花数\")"
   ]
  },
  {
   "cell_type": "markdown",
   "id": "28876d0a",
   "metadata": {},
   "source": [
    "# 第四章 循环"
   ]
  },
  {
   "cell_type": "code",
   "execution_count": 1,
   "id": "8722c0d9",
   "metadata": {},
   "outputs": [
    {
     "name": "stdout",
     "output_type": "stream",
     "text": [
      "2500\n"
     ]
    }
   ],
   "source": [
    "sum = 0\n",
    "i = 0\n",
    "while(i <= 100):\n",
    "    if i % 2 != 0:\n",
    "        sum += i\n",
    "    i += 1\n",
    "print(sum)"
   ]
  },
  {
   "cell_type": "code",
   "execution_count": 3,
   "id": "b4259a05",
   "metadata": {},
   "outputs": [
    {
     "name": "stdout",
     "output_type": "stream",
     "text": [
      "153\n",
      "370\n",
      "371\n",
      "407\n"
     ]
    }
   ],
   "source": [
    "number = 100\n",
    "while(number < 1000):\n",
    "    g = number % 10\n",
    "    s = number % 100 // 10\n",
    "    b = number // 100\n",
    "    sum = pow(g, 3) + s ** 3 + pow(b, 3)\n",
    "    if sum == number:\n",
    "        print(number)\n",
    "    number += 1"
   ]
  },
  {
   "cell_type": "code",
   "execution_count": 4,
   "id": "53e19734",
   "metadata": {},
   "outputs": [
    {
     "name": "stdout",
     "output_type": "stream",
     "text": [
      "1 小于5\n",
      "2 小于5\n",
      "3 小于5\n",
      "4 小于5\n",
      "5 不再小于5\n",
      "last:  6\n"
     ]
    }
   ],
   "source": [
    "n = 1\n",
    "while n < 5:\n",
    "    print(n, \"小于5\")\n",
    "    n += 1\n",
    "else:\n",
    "    print(n, \"不再小于5\")\n",
    "    n += 1\n",
    "print(\"last: \", n)"
   ]
  },
  {
   "cell_type": "markdown",
   "id": "c37ccc81",
   "metadata": {},
   "source": [
    "## range() 函数"
   ]
  },
  {
   "cell_type": "code",
   "execution_count": 5,
   "id": "9e67e093",
   "metadata": {},
   "outputs": [
    {
     "data": {
      "text/plain": [
       "range(1, 101, 2)"
      ]
     },
     "execution_count": 5,
     "metadata": {},
     "output_type": "execute_result"
    }
   ],
   "source": [
    "range(1, 101, 2) # [1, 101), 步长: 2  默认从0开始,步长为1"
   ]
  },
  {
   "cell_type": "code",
   "execution_count": 6,
   "id": "2ed527c3",
   "metadata": {},
   "outputs": [],
   "source": [
    "range?"
   ]
  },
  {
   "cell_type": "code",
   "execution_count": 7,
   "id": "a0816ff5",
   "metadata": {
    "scrolled": true
   },
   "outputs": [
    {
     "data": {
      "text/plain": [
       "(2,\n",
       " 4,\n",
       " 6,\n",
       " 8,\n",
       " 10,\n",
       " 12,\n",
       " 14,\n",
       " 16,\n",
       " 18,\n",
       " 20,\n",
       " 22,\n",
       " 24,\n",
       " 26,\n",
       " 28,\n",
       " 30,\n",
       " 32,\n",
       " 34,\n",
       " 36,\n",
       " 38,\n",
       " 40,\n",
       " 42,\n",
       " 44,\n",
       " 46,\n",
       " 48,\n",
       " 50,\n",
       " 52,\n",
       " 54,\n",
       " 56,\n",
       " 58,\n",
       " 60,\n",
       " 62,\n",
       " 64,\n",
       " 66,\n",
       " 68,\n",
       " 70,\n",
       " 72,\n",
       " 74,\n",
       " 76,\n",
       " 78,\n",
       " 80,\n",
       " 82,\n",
       " 84,\n",
       " 86,\n",
       " 88,\n",
       " 90,\n",
       " 92,\n",
       " 94,\n",
       " 96,\n",
       " 98)"
      ]
     },
     "execution_count": 7,
     "metadata": {},
     "output_type": "execute_result"
    }
   ],
   "source": [
    "tuple(range(2, 100, 2)) # tuple 元组"
   ]
  },
  {
   "cell_type": "markdown",
   "id": "18761f15",
   "metadata": {},
   "source": [
    "## for 循环"
   ]
  },
  {
   "cell_type": "code",
   "execution_count": 1,
   "id": "d6ab951c",
   "metadata": {},
   "outputs": [
    {
     "name": "stdout",
     "output_type": "stream",
     "text": [
      "5050\n"
     ]
    }
   ],
   "source": [
    "s = 0\n",
    "for i in range(1, 101):\n",
    "    s += i\n",
    "print(s)"
   ]
  },
  {
   "cell_type": "code",
   "execution_count": 5,
   "id": "35af57e4",
   "metadata": {},
   "outputs": [
    {
     "name": "stdout",
     "output_type": "stream",
     "text": [
      "2208\n"
     ]
    }
   ],
   "source": [
    "s = 0\n",
    "for i in range(100):\n",
    "    if i % 3 == 0 or i % 7 == 0:\n",
    "        s += i\n",
    "print(s)"
   ]
  },
  {
   "cell_type": "code",
   "execution_count": 6,
   "id": "d5c782a5",
   "metadata": {},
   "outputs": [
    {
     "name": "stdout",
     "output_type": "stream",
     "text": [
      "153\n",
      "370\n",
      "371\n",
      "407\n"
     ]
    }
   ],
   "source": [
    "for number in range(100, 1000):\n",
    "    g = number % 10\n",
    "    s = number % 100 // 10\n",
    "    b = number // 100\n",
    "    sum = g ** 3 + s ** 3 + b ** 3\n",
    "    if sum == number:\n",
    "        print(number)"
   ]
  },
  {
   "cell_type": "code",
   "execution_count": null,
   "id": "bba9d3ff",
   "metadata": {},
   "outputs": [],
   "source": []
  }
 ],
 "metadata": {
  "kernelspec": {
   "display_name": "Python 3 (ipykernel)",
   "language": "python",
   "name": "python3"
  },
  "language_info": {
   "codemirror_mode": {
    "name": "ipython",
    "version": 3
   },
   "file_extension": ".py",
   "mimetype": "text/x-python",
   "name": "python",
   "nbconvert_exporter": "python",
   "pygments_lexer": "ipython3",
   "version": "3.9.7"
  }
 },
 "nbformat": 4,
 "nbformat_minor": 5
}
