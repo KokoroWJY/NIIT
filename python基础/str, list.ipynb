{
 "cells": [
  {
   "cell_type": "markdown",
   "id": "95daf030",
   "metadata": {},
   "source": [
    "# 字符串及处理函数"
   ]
  },
  {
   "cell_type": "markdown",
   "id": "4a97c22d",
   "metadata": {},
   "source": [
    "## 1.字符串切片"
   ]
  },
  {
   "cell_type": "code",
   "execution_count": 1,
   "id": "73bfee72",
   "metadata": {},
   "outputs": [
    {
     "data": {
      "text/plain": [
       "'h'"
      ]
     },
     "execution_count": 1,
     "metadata": {},
     "output_type": "execute_result"
    }
   ],
   "source": [
    "s = 'hello,word.'\n",
    "s[0]"
   ]
  },
  {
   "cell_type": "code",
   "execution_count": 2,
   "id": "f9799031",
   "metadata": {},
   "outputs": [
    {
     "data": {
      "text/plain": [
       "'he'"
      ]
     },
     "execution_count": 2,
     "metadata": {},
     "output_type": "execute_result"
    }
   ],
   "source": [
    "s[0:2]"
   ]
  },
  {
   "cell_type": "code",
   "execution_count": 3,
   "id": "94324834",
   "metadata": {},
   "outputs": [
    {
     "data": {
      "text/plain": [
       "'r'"
      ]
     },
     "execution_count": 3,
     "metadata": {},
     "output_type": "execute_result"
    }
   ],
   "source": [
    "s[-2]"
   ]
  },
  {
   "cell_type": "code",
   "execution_count": 4,
   "id": "35fbb44a",
   "metadata": {},
   "outputs": [
    {
     "data": {
      "text/plain": [
       "'l'"
      ]
     },
     "execution_count": 4,
     "metadata": {},
     "output_type": "execute_result"
    }
   ],
   "source": [
    "s[3:5:2]"
   ]
  },
  {
   "cell_type": "code",
   "execution_count": 5,
   "id": "f8f75f0d",
   "metadata": {},
   "outputs": [
    {
     "data": {
      "text/plain": [
       "'o wor'"
      ]
     },
     "execution_count": 5,
     "metadata": {},
     "output_type": "execute_result"
    }
   ],
   "source": [
    "# s[start: end: steps] start:开始, end:结束, steps:步数\n",
    "s[4:9:1]"
   ]
  },
  {
   "cell_type": "code",
   "execution_count": 6,
   "id": "50f0ea9c",
   "metadata": {},
   "outputs": [
    {
     "data": {
      "text/plain": [
       "'owr'"
      ]
     },
     "execution_count": 6,
     "metadata": {},
     "output_type": "execute_result"
    }
   ],
   "source": [
    "s[4:9:2]"
   ]
  },
  {
   "cell_type": "code",
   "execution_count": 7,
   "id": "946c381a",
   "metadata": {},
   "outputs": [
    {
     "data": {
      "text/plain": [
       "'hlowr'"
      ]
     },
     "execution_count": 7,
     "metadata": {},
     "output_type": "execute_result"
    }
   ],
   "source": [
    "s[::2]"
   ]
  },
  {
   "cell_type": "code",
   "execution_count": 8,
   "id": "df971544",
   "metadata": {},
   "outputs": [
    {
     "data": {
      "text/plain": [
       "'llo word'"
      ]
     },
     "execution_count": 8,
     "metadata": {},
     "output_type": "execute_result"
    }
   ],
   "source": [
    "s[2:]"
   ]
  },
  {
   "cell_type": "code",
   "execution_count": 9,
   "id": "f4b7ce84",
   "metadata": {},
   "outputs": [
    {
     "data": {
      "text/plain": [
       "'he'"
      ]
     },
     "execution_count": 9,
     "metadata": {},
     "output_type": "execute_result"
    }
   ],
   "source": [
    "s[:2]"
   ]
  },
  {
   "cell_type": "markdown",
   "id": "0d91aed0",
   "metadata": {},
   "source": [
    "### find"
   ]
  },
  {
   "cell_type": "code",
   "execution_count": 18,
   "id": "44ef526d",
   "metadata": {},
   "outputs": [
    {
     "data": {
      "text/plain": [
       "2"
      ]
     },
     "execution_count": 18,
     "metadata": {},
     "output_type": "execute_result"
    }
   ],
   "source": [
    "s = 'hello,word.'\n",
    "s.find('l') # 找到返回第一个下标"
   ]
  },
  {
   "cell_type": "code",
   "execution_count": 16,
   "id": "e0623bc4",
   "metadata": {},
   "outputs": [
    {
     "data": {
      "text/plain": [
       "-1"
      ]
     },
     "execution_count": 16,
     "metadata": {},
     "output_type": "execute_result"
    }
   ],
   "source": [
    "s.find('g') # 找不到返回-1"
   ]
  },
  {
   "cell_type": "markdown",
   "id": "8ee8f624",
   "metadata": {},
   "source": [
    "### count"
   ]
  },
  {
   "cell_type": "code",
   "execution_count": 11,
   "id": "99ce70c4",
   "metadata": {},
   "outputs": [],
   "source": [
    "s = 'Hello,word.'"
   ]
  },
  {
   "cell_type": "code",
   "execution_count": 19,
   "id": "beb30cdc",
   "metadata": {},
   "outputs": [
    {
     "data": {
      "text/plain": [
       "1"
      ]
     },
     "execution_count": 19,
     "metadata": {},
     "output_type": "execute_result"
    }
   ],
   "source": [
    "s.count('or') # 计算数目"
   ]
  },
  {
   "cell_type": "code",
   "execution_count": 20,
   "id": "84c19c47",
   "metadata": {},
   "outputs": [
    {
     "data": {
      "text/plain": [
       "0"
      ]
     },
     "execution_count": 20,
     "metadata": {},
     "output_type": "execute_result"
    }
   ],
   "source": [
    "s.count('g')"
   ]
  },
  {
   "cell_type": "markdown",
   "id": "a29172d3",
   "metadata": {},
   "source": [
    "###  index"
   ]
  },
  {
   "cell_type": "code",
   "execution_count": 21,
   "id": "9084c4b7",
   "metadata": {},
   "outputs": [
    {
     "data": {
      "text/plain": [
       "7"
      ]
     },
     "execution_count": 21,
     "metadata": {},
     "output_type": "execute_result"
    }
   ],
   "source": [
    "s = 'hello,word.'\n",
    "s.index('or') # 返回子串在原串中出现的位置"
   ]
  },
  {
   "cell_type": "code",
   "execution_count": 22,
   "id": "4d1c5f50",
   "metadata": {},
   "outputs": [
    {
     "ename": "ValueError",
     "evalue": "substring not found",
     "output_type": "error",
     "traceback": [
      "\u001b[1;31m---------------------------------------------------------------------------\u001b[0m",
      "\u001b[1;31mValueError\u001b[0m                                Traceback (most recent call last)",
      "\u001b[1;32m~\\AppData\\Local\\Temp/ipykernel_9488/1146720654.py\u001b[0m in \u001b[0;36m<module>\u001b[1;34m\u001b[0m\n\u001b[1;32m----> 1\u001b[1;33m \u001b[0ms\u001b[0m\u001b[1;33m.\u001b[0m\u001b[0mindex\u001b[0m\u001b[1;33m(\u001b[0m\u001b[1;34m'g'\u001b[0m\u001b[1;33m)\u001b[0m\u001b[1;33m\u001b[0m\u001b[1;33m\u001b[0m\u001b[0m\n\u001b[0m",
      "\u001b[1;31mValueError\u001b[0m: substring not found"
     ]
    }
   ],
   "source": [
    "s.index('g') # 不存在报错"
   ]
  },
  {
   "cell_type": "markdown",
   "id": "8b519f68",
   "metadata": {},
   "source": [
    "###  in , not in"
   ]
  },
  {
   "cell_type": "code",
   "execution_count": 24,
   "id": "af4ccab2",
   "metadata": {},
   "outputs": [
    {
     "data": {
      "text/plain": [
       "True"
      ]
     },
     "execution_count": 24,
     "metadata": {},
     "output_type": "execute_result"
    }
   ],
   "source": [
    "s = 'hello,word.'\n",
    "'or' in s #"
   ]
  },
  {
   "cell_type": "code",
   "execution_count": 25,
   "id": "77153ec1",
   "metadata": {},
   "outputs": [
    {
     "data": {
      "text/plain": [
       "False"
      ]
     },
     "execution_count": 25,
     "metadata": {},
     "output_type": "execute_result"
    }
   ],
   "source": [
    "'or' not in s"
   ]
  },
  {
   "cell_type": "markdown",
   "id": "a52800a5",
   "metadata": {},
   "source": [
    "# 列表"
   ]
  },
  {
   "cell_type": "code",
   "execution_count": 26,
   "id": "67363494",
   "metadata": {},
   "outputs": [],
   "source": [
    "# python 基本数据类型: 字符串,数值,列表,元组,字典,集合"
   ]
  },
  {
   "cell_type": "markdown",
   "id": "587d7fd0",
   "metadata": {},
   "source": [
    "## 2.1 列表的创建"
   ]
  },
  {
   "cell_type": "code",
   "execution_count": 28,
   "id": "e45e1c10",
   "metadata": {},
   "outputs": [
    {
     "data": {
      "text/plain": [
       "[]"
      ]
     },
     "execution_count": 28,
     "metadata": {},
     "output_type": "execute_result"
    }
   ],
   "source": [
    "# list函数创建列表\n",
    "list()"
   ]
  },
  {
   "cell_type": "code",
   "execution_count": 31,
   "id": "810050dd",
   "metadata": {
    "scrolled": true
   },
   "outputs": [
    {
     "data": {
      "text/plain": [
       "[1, 2, 3, 4, 5]"
      ]
     },
     "execution_count": 31,
     "metadata": {},
     "output_type": "execute_result"
    }
   ],
   "source": [
    "list((1,2,3,4,5)) # 数据提前打好包, 形成一个整体存入  数值必须可迭代"
   ]
  },
  {
   "cell_type": "code",
   "execution_count": 34,
   "id": "9b3a171e",
   "metadata": {},
   "outputs": [
    {
     "name": "stdout",
     "output_type": "stream",
     "text": [
      "['hello', 'world', 2022]\n"
     ]
    }
   ],
   "source": [
    "# 字符串列表\n",
    "ls = ['hello','world', 2022]\n",
    "print(ls)"
   ]
  },
  {
   "cell_type": "code",
   "execution_count": 35,
   "id": "f3620b5f",
   "metadata": {},
   "outputs": [
    {
     "data": {
      "text/plain": [
       "'hello'"
      ]
     },
     "execution_count": 35,
     "metadata": {},
     "output_type": "execute_result"
    }
   ],
   "source": [
    "ls[0]"
   ]
  },
  {
   "cell_type": "markdown",
   "id": "9dfd53d6",
   "metadata": {},
   "source": [
    "##  2.2 常见内置函数"
   ]
  },
  {
   "cell_type": "markdown",
   "id": "f67cd759",
   "metadata": {},
   "source": [
    "### 2.2.1 append"
   ]
  },
  {
   "cell_type": "code",
   "execution_count": 37,
   "id": "3e2e7e79",
   "metadata": {},
   "outputs": [
    {
     "name": "stdout",
     "output_type": "stream",
     "text": [
      "[1, 2, 3, 4, [5, 6, 7]]\n"
     ]
    }
   ],
   "source": [
    "a = [1,2,3,4]\n",
    "b = [5,6,7]\n",
    "a.append(b)\n",
    "print(a)"
   ]
  },
  {
   "cell_type": "markdown",
   "id": "7ddf9fe0",
   "metadata": {},
   "source": [
    "### 2.2.2 extend"
   ]
  },
  {
   "cell_type": "code",
   "execution_count": 38,
   "id": "17eece6f",
   "metadata": {},
   "outputs": [
    {
     "name": "stdout",
     "output_type": "stream",
     "text": [
      "[1, 2, 3, 4, 5, 6, 7]\n"
     ]
    }
   ],
   "source": [
    "a = [1,2,3,4]\n",
    "b = [5,6,7]\n",
    "a.extend(b)\n",
    "print(a)"
   ]
  },
  {
   "cell_type": "markdown",
   "id": "1fa50ca1",
   "metadata": {},
   "source": [
    "### 2.2.3 len"
   ]
  },
  {
   "cell_type": "code",
   "execution_count": 39,
   "id": "dcfe57fc",
   "metadata": {},
   "outputs": [
    {
     "data": {
      "text/plain": [
       "12"
      ]
     },
     "execution_count": 39,
     "metadata": {},
     "output_type": "execute_result"
    }
   ],
   "source": [
    "a = 'hello, world'\n",
    "len(a)"
   ]
  },
  {
   "cell_type": "code",
   "execution_count": 42,
   "id": "f5f0cf5d",
   "metadata": {},
   "outputs": [
    {
     "data": {
      "text/plain": [
       "5"
      ]
     },
     "execution_count": 42,
     "metadata": {},
     "output_type": "execute_result"
    }
   ],
   "source": [
    "a = [1,2,3,4]\n",
    "b = [5,6,7]\n",
    "len(a)\n",
    "a.append(b)\n",
    "len(a)"
   ]
  },
  {
   "cell_type": "code",
   "execution_count": 43,
   "id": "939fd14a",
   "metadata": {},
   "outputs": [
    {
     "data": {
      "text/plain": [
       "7"
      ]
     },
     "execution_count": 43,
     "metadata": {},
     "output_type": "execute_result"
    }
   ],
   "source": [
    "a = [1,2,3,4]\n",
    "b = [5,6,7]\n",
    "len(a)\n",
    "a.extend(b)\n",
    "len(a)"
   ]
  },
  {
   "cell_type": "markdown",
   "id": "8dfd0a8e",
   "metadata": {},
   "source": [
    "### 2.2.4 index"
   ]
  },
  {
   "cell_type": "code",
   "execution_count": 46,
   "id": "9fa348dc",
   "metadata": {},
   "outputs": [
    {
     "ename": "ValueError",
     "evalue": "2023 is not in list",
     "output_type": "error",
     "traceback": [
      "\u001b[1;31m---------------------------------------------------------------------------\u001b[0m",
      "\u001b[1;31mValueError\u001b[0m                                Traceback (most recent call last)",
      "\u001b[1;32m~\\AppData\\Local\\Temp/ipykernel_9488/2000743753.py\u001b[0m in \u001b[0;36m<module>\u001b[1;34m\u001b[0m\n\u001b[0;32m      1\u001b[0m \u001b[0ma\u001b[0m \u001b[1;33m=\u001b[0m \u001b[1;33m[\u001b[0m\u001b[1;36m2022\u001b[0m\u001b[1;33m,\u001b[0m\u001b[1;36m2\u001b[0m\u001b[1;33m,\u001b[0m\u001b[1;36m28\u001b[0m\u001b[1;33m]\u001b[0m\u001b[1;33m\u001b[0m\u001b[1;33m\u001b[0m\u001b[0m\n\u001b[0;32m      2\u001b[0m \u001b[0ma\u001b[0m\u001b[1;33m.\u001b[0m\u001b[0mindex\u001b[0m\u001b[1;33m(\u001b[0m\u001b[1;36m2022\u001b[0m\u001b[1;33m)\u001b[0m\u001b[1;33m\u001b[0m\u001b[1;33m\u001b[0m\u001b[0m\n\u001b[1;32m----> 3\u001b[1;33m \u001b[0ma\u001b[0m\u001b[1;33m.\u001b[0m\u001b[0mindex\u001b[0m\u001b[1;33m(\u001b[0m\u001b[1;36m2023\u001b[0m\u001b[1;33m)\u001b[0m\u001b[1;33m\u001b[0m\u001b[1;33m\u001b[0m\u001b[0m\n\u001b[0m",
      "\u001b[1;31mValueError\u001b[0m: 2023 is not in list"
     ]
    }
   ],
   "source": [
    "a = [2022,2,28]\n",
    "a.index(2022)\n",
    "a.index(2023)"
   ]
  },
  {
   "cell_type": "markdown",
   "id": "f52294d9",
   "metadata": {},
   "source": [
    "### 2.2.5 del (不是函数)"
   ]
  },
  {
   "cell_type": "code",
   "execution_count": 48,
   "id": "35452f4d",
   "metadata": {},
   "outputs": [
    {
     "name": "stdout",
     "output_type": "stream",
     "text": [
      "[1, 2, 3, 5, 6]\n"
     ]
    }
   ],
   "source": [
    "ls = [1,2,3,4,5,6]\n",
    "del ls[3] # 删除指定下标位置的元素\n",
    "print(ls)"
   ]
  },
  {
   "cell_type": "markdown",
   "id": "bf4afa8e",
   "metadata": {},
   "source": [
    "### 2.2.6 remove"
   ]
  },
  {
   "cell_type": "code",
   "execution_count": 51,
   "id": "78d04972",
   "metadata": {},
   "outputs": [
    {
     "name": "stdout",
     "output_type": "stream",
     "text": [
      "[1, 2, 4, 5, 6, 3]\n"
     ]
    }
   ],
   "source": [
    "ls = [1,2,3,4,5,6,3]\n",
    "ls.remove(3) # 删除第一个该值\n",
    "print(ls)"
   ]
  },
  {
   "cell_type": "code",
   "execution_count": 3,
   "id": "6d69a891",
   "metadata": {},
   "outputs": [
    {
     "ename": "ValueError",
     "evalue": "list.remove(x): x not in list",
     "output_type": "error",
     "traceback": [
      "\u001b[1;31m---------------------------------------------------------------------------\u001b[0m",
      "\u001b[1;31mValueError\u001b[0m                                Traceback (most recent call last)",
      "\u001b[1;32m~\\AppData\\Local\\Temp/ipykernel_2200/3359562114.py\u001b[0m in \u001b[0;36m<module>\u001b[1;34m\u001b[0m\n\u001b[0;32m      1\u001b[0m \u001b[0mls\u001b[0m \u001b[1;33m=\u001b[0m \u001b[1;33m[\u001b[0m\u001b[1;36m1\u001b[0m\u001b[1;33m,\u001b[0m\u001b[1;36m2\u001b[0m\u001b[1;33m,\u001b[0m\u001b[1;36m3\u001b[0m\u001b[1;33m,\u001b[0m\u001b[1;36m4\u001b[0m\u001b[1;33m,\u001b[0m\u001b[1;36m5\u001b[0m\u001b[1;33m,\u001b[0m\u001b[1;36m6\u001b[0m\u001b[1;33m,\u001b[0m\u001b[1;36m3\u001b[0m\u001b[1;33m]\u001b[0m\u001b[1;33m\u001b[0m\u001b[1;33m\u001b[0m\u001b[0m\n\u001b[1;32m----> 2\u001b[1;33m \u001b[0mls\u001b[0m\u001b[1;33m.\u001b[0m\u001b[0mremove\u001b[0m\u001b[1;33m(\u001b[0m\u001b[1;36m100\u001b[0m\u001b[1;33m)\u001b[0m\u001b[1;33m\u001b[0m\u001b[1;33m\u001b[0m\u001b[0m\n\u001b[0m",
      "\u001b[1;31mValueError\u001b[0m: list.remove(x): x not in list"
     ]
    }
   ],
   "source": [
    "ls = [1,2,3,4,5,6,3]\n",
    "ls.remove(100)"
   ]
  },
  {
   "cell_type": "markdown",
   "id": "8a72eb3a",
   "metadata": {},
   "source": [
    "### 2.2.7 pop"
   ]
  },
  {
   "cell_type": "code",
   "execution_count": 7,
   "id": "554c4ad4",
   "metadata": {},
   "outputs": [
    {
     "name": "stdout",
     "output_type": "stream",
     "text": [
      "5\n"
     ]
    },
    {
     "data": {
      "text/plain": [
       "[1, 2, 3, 4]"
      ]
     },
     "execution_count": 7,
     "metadata": {},
     "output_type": "execute_result"
    }
   ],
   "source": [
    "ls = [1,2,3,4,5]\n",
    "a = ls.pop()\n",
    "print(a)\n",
    "ls"
   ]
  },
  {
   "cell_type": "code",
   "execution_count": 8,
   "id": "646d8a42",
   "metadata": {},
   "outputs": [
    {
     "data": {
      "text/plain": [
       "4"
      ]
     },
     "execution_count": 8,
     "metadata": {},
     "output_type": "execute_result"
    }
   ],
   "source": [
    "ls.pop()"
   ]
  },
  {
   "cell_type": "code",
   "execution_count": 9,
   "id": "8d7a0790",
   "metadata": {},
   "outputs": [
    {
     "data": {
      "text/plain": [
       "[1, 2, 3]"
      ]
     },
     "execution_count": 9,
     "metadata": {},
     "output_type": "execute_result"
    }
   ],
   "source": [
    "ls"
   ]
  },
  {
   "cell_type": "markdown",
   "id": "c43f6c2f",
   "metadata": {},
   "source": [
    "### sort 排序"
   ]
  },
  {
   "cell_type": "code",
   "execution_count": 20,
   "id": "c17d2657",
   "metadata": {},
   "outputs": [
    {
     "name": "stdout",
     "output_type": "stream",
     "text": [
      "[1, 2, 3, 3, 4, 5, 6, 7]\n",
      "[7, 6, 5, 4, 3, 3, 2, 1]\n"
     ]
    }
   ],
   "source": [
    "a = [4,3,2,5,6,7,1,3] \n",
    "a.sort()# sort 排序 默认为正序\n",
    "print(a)\n",
    "a.sort(reverse=True)# reverse 让sort倒序排序\n",
    "print(a)"
   ]
  },
  {
   "cell_type": "code",
   "execution_count": 15,
   "id": "2c2a0641",
   "metadata": {},
   "outputs": [],
   "source": [
    "a.sort?"
   ]
  },
  {
   "cell_type": "markdown",
   "id": "d06fbb94",
   "metadata": {},
   "source": [
    "## 2.3 列表的统计特征"
   ]
  },
  {
   "cell_type": "markdown",
   "id": "d2fe57ff",
   "metadata": {},
   "source": [
    "### 2.3.1 max"
   ]
  },
  {
   "cell_type": "code",
   "execution_count": 22,
   "id": "b7055807",
   "metadata": {},
   "outputs": [
    {
     "data": {
      "text/plain": [
       "55"
      ]
     },
     "execution_count": 22,
     "metadata": {},
     "output_type": "execute_result"
    }
   ],
   "source": [
    "sc = [32, 23, 44, 55,22, 11]\n",
    "max(sc)"
   ]
  },
  {
   "cell_type": "markdown",
   "id": "66fbab53",
   "metadata": {},
   "source": [
    "### 2.3.2 min"
   ]
  },
  {
   "cell_type": "code",
   "execution_count": 23,
   "id": "195a2118",
   "metadata": {},
   "outputs": [
    {
     "data": {
      "text/plain": [
       "11"
      ]
     },
     "execution_count": 23,
     "metadata": {},
     "output_type": "execute_result"
    }
   ],
   "source": [
    "sc = [32, 23, 44, 55,22, 11]\n",
    "min(sc)"
   ]
  },
  {
   "cell_type": "markdown",
   "id": "68c2005e",
   "metadata": {},
   "source": [
    "### 2.3.3 sum"
   ]
  },
  {
   "cell_type": "code",
   "execution_count": 24,
   "id": "fc83656f",
   "metadata": {},
   "outputs": [
    {
     "data": {
      "text/plain": [
       "187"
      ]
     },
     "execution_count": 24,
     "metadata": {},
     "output_type": "execute_result"
    }
   ],
   "source": [
    "sc = [32, 23, 44, 55,22, 11]\n",
    "sum(sc)"
   ]
  },
  {
   "cell_type": "markdown",
   "id": "cbce99ba",
   "metadata": {},
   "source": [
    "### 2.3.4 count"
   ]
  },
  {
   "cell_type": "code",
   "execution_count": 29,
   "id": "2bf95c43",
   "metadata": {},
   "outputs": [],
   "source": [
    "sc.count? # 统计字符串里某个字符或子字符串出现的次数"
   ]
  },
  {
   "cell_type": "code",
   "execution_count": 25,
   "id": "770eb9cb",
   "metadata": {},
   "outputs": [
    {
     "data": {
      "text/plain": [
       "1"
      ]
     },
     "execution_count": 25,
     "metadata": {},
     "output_type": "execute_result"
    }
   ],
   "source": [
    "sc.count(32)"
   ]
  },
  {
   "cell_type": "code",
   "execution_count": 26,
   "id": "8ffd28dc",
   "metadata": {},
   "outputs": [
    {
     "data": {
      "text/plain": [
       "0"
      ]
     },
     "execution_count": 26,
     "metadata": {},
     "output_type": "execute_result"
    }
   ],
   "source": [
    "sc.count(333)"
   ]
  },
  {
   "cell_type": "markdown",
   "id": "ea46a0f5",
   "metadata": {},
   "source": [
    "### 2.3.5 列表切片"
   ]
  },
  {
   "cell_type": "code",
   "execution_count": 27,
   "id": "cac1bbe2",
   "metadata": {},
   "outputs": [
    {
     "data": {
      "text/plain": [
       "[2, 4, 6]"
      ]
     },
     "execution_count": 27,
     "metadata": {},
     "output_type": "execute_result"
    }
   ],
   "source": [
    "ls = [1,2,3,4,5,6]\n",
    "ls[1:6:2]"
   ]
  },
  {
   "cell_type": "code",
   "execution_count": 31,
   "id": "83e5765c",
   "metadata": {},
   "outputs": [
    {
     "data": {
      "text/plain": [
       "[1, 2, 3, 4, 5, 6]"
      ]
     },
     "execution_count": 31,
     "metadata": {},
     "output_type": "execute_result"
    }
   ],
   "source": [
    "ls[:]"
   ]
  },
  {
   "cell_type": "markdown",
   "id": "8be367aa",
   "metadata": {},
   "source": [
    "## 2.4 列表的嵌套"
   ]
  },
  {
   "cell_type": "code",
   "execution_count": 33,
   "id": "25208df0",
   "metadata": {},
   "outputs": [
    {
     "name": "stdout",
     "output_type": "stream",
     "text": [
      "[['清华', '北大'], ['南邮', '南财']]\n"
     ]
    }
   ],
   "source": [
    "school = [['清华', '北大'], ['南邮','南财']]\n",
    "print(school)"
   ]
  },
  {
   "cell_type": "code",
   "execution_count": 35,
   "id": "5d4be0e5",
   "metadata": {},
   "outputs": [
    {
     "data": {
      "text/plain": [
       "['南邮', '南财']"
      ]
     },
     "execution_count": 35,
     "metadata": {},
     "output_type": "execute_result"
    }
   ],
   "source": [
    "school[1]"
   ]
  },
  {
   "cell_type": "code",
   "execution_count": 36,
   "id": "7dd75e42",
   "metadata": {},
   "outputs": [
    {
     "data": {
      "text/plain": [
       "'南财'"
      ]
     },
     "execution_count": 36,
     "metadata": {},
     "output_type": "execute_result"
    }
   ],
   "source": [
    "school[1][1]"
   ]
  },
  {
   "cell_type": "markdown",
   "id": "83046e8c",
   "metadata": {},
   "source": []
  }
 ],
 "metadata": {
  "kernelspec": {
   "display_name": "Python 3 (ipykernel)",
   "language": "python",
   "name": "python3"
  },
  "language_info": {
   "codemirror_mode": {
    "name": "ipython",
    "version": 3
   },
   "file_extension": ".py",
   "mimetype": "text/x-python",
   "name": "python",
   "nbconvert_exporter": "python",
   "pygments_lexer": "ipython3",
   "version": "3.9.7"
  }
 },
 "nbformat": 4,
 "nbformat_minor": 5
}
