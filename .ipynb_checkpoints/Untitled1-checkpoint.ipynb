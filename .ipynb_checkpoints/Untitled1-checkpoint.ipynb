{
 "cells": [
  {
   "cell_type": "markdown",
   "id": "2db396b9",
   "metadata": {},
   "source": [
    "# Panda"
   ]
  },
  {
   "cell_type": "markdown",
   "id": "e20875b2",
   "metadata": {},
   "source": [
    "## Serives系列"
   ]
  },
  {
   "cell_type": "code",
   "execution_count": 1,
   "id": "5bf2be4a",
   "metadata": {},
   "outputs": [],
   "source": [
    "import pandas as pd\n",
    "import numpy as np"
   ]
  },
  {
   "cell_type": "code",
   "execution_count": 2,
   "id": "665c648d",
   "metadata": {},
   "outputs": [
    {
     "name": "stdout",
     "output_type": "stream",
     "text": [
      "101    a\n",
      "102    b\n",
      "103    c\n",
      "104    d\n",
      "dtype: object\n"
     ]
    }
   ],
   "source": [
    "d = np.array(['a','b','c','d'])\n",
    "index = [101, 102, 103, 104]\n",
    "obj = pd.Series(data=d, index=index)\n",
    "print(obj)"
   ]
  },
  {
   "cell_type": "code",
   "execution_count": 4,
   "id": "21c994a6",
   "metadata": {},
   "outputs": [
    {
     "name": "stdout",
     "output_type": "stream",
     "text": [
      "A    a\n",
      "B    b\n",
      "C    c\n",
      "D    d\n",
      "dtype: object\n"
     ]
    }
   ],
   "source": [
    "d = np.array(['a','b','c','d'])\n",
    "index = ['A','B','C','D']\n",
    "obj = pd.Series(data=d, index=index)\n",
    "print(obj)"
   ]
  },
  {
   "cell_type": "markdown",
   "id": "d063553a",
   "metadata": {},
   "source": [
    "## DataFrame系列"
   ]
  },
  {
   "cell_type": "code",
   "execution_count": 5,
   "id": "c6cf9bbe",
   "metadata": {},
   "outputs": [
    {
     "data": {
      "text/html": [
       "<div>\n",
       "<style scoped>\n",
       "    .dataframe tbody tr th:only-of-type {\n",
       "        vertical-align: middle;\n",
       "    }\n",
       "\n",
       "    .dataframe tbody tr th {\n",
       "        vertical-align: top;\n",
       "    }\n",
       "\n",
       "    .dataframe thead th {\n",
       "        text-align: right;\n",
       "    }\n",
       "</style>\n",
       "<table border=\"1\" class=\"dataframe\">\n",
       "  <thead>\n",
       "    <tr style=\"text-align: right;\">\n",
       "      <th></th>\n",
       "      <th>Name</th>\n",
       "      <th>Age</th>\n",
       "    </tr>\n",
       "  </thead>\n",
       "  <tbody>\n",
       "    <tr>\n",
       "      <th>0</th>\n",
       "      <td>Tom</td>\n",
       "      <td>28</td>\n",
       "    </tr>\n",
       "    <tr>\n",
       "      <th>1</th>\n",
       "      <td>Jack</td>\n",
       "      <td>39</td>\n",
       "    </tr>\n",
       "    <tr>\n",
       "      <th>2</th>\n",
       "      <td>Steve</td>\n",
       "      <td>29</td>\n",
       "    </tr>\n",
       "    <tr>\n",
       "      <th>3</th>\n",
       "      <td>Ricky</td>\n",
       "      <td>12</td>\n",
       "    </tr>\n",
       "  </tbody>\n",
       "</table>\n",
       "</div>"
      ],
      "text/plain": [
       "    Name  Age\n",
       "0    Tom   28\n",
       "1   Jack   39\n",
       "2  Steve   29\n",
       "3  Ricky   12"
      ]
     },
     "execution_count": 5,
     "metadata": {},
     "output_type": "execute_result"
    }
   ],
   "source": [
    "d = {'Name':['Tom','Jack','Steve','Ricky'], 'Age':[28, 39, 29, 12]}\n",
    "df = pd.DataFrame(data=d)\n",
    "df"
   ]
  },
  {
   "cell_type": "code",
   "execution_count": 6,
   "id": "ffa4ee93",
   "metadata": {},
   "outputs": [
    {
     "data": {
      "text/html": [
       "<div>\n",
       "<style scoped>\n",
       "    .dataframe tbody tr th:only-of-type {\n",
       "        vertical-align: middle;\n",
       "    }\n",
       "\n",
       "    .dataframe tbody tr th {\n",
       "        vertical-align: top;\n",
       "    }\n",
       "\n",
       "    .dataframe thead th {\n",
       "        text-align: right;\n",
       "    }\n",
       "</style>\n",
       "<table border=\"1\" class=\"dataframe\">\n",
       "  <thead>\n",
       "    <tr style=\"text-align: right;\">\n",
       "      <th></th>\n",
       "      <th>Name</th>\n",
       "      <th>Age</th>\n",
       "    </tr>\n",
       "  </thead>\n",
       "  <tbody>\n",
       "    <tr>\n",
       "      <th>A</th>\n",
       "      <td>Tom</td>\n",
       "      <td>28</td>\n",
       "    </tr>\n",
       "    <tr>\n",
       "      <th>B</th>\n",
       "      <td>Jack</td>\n",
       "      <td>39</td>\n",
       "    </tr>\n",
       "    <tr>\n",
       "      <th>C</th>\n",
       "      <td>Steve</td>\n",
       "      <td>29</td>\n",
       "    </tr>\n",
       "    <tr>\n",
       "      <th>D</th>\n",
       "      <td>Ricky</td>\n",
       "      <td>12</td>\n",
       "    </tr>\n",
       "  </tbody>\n",
       "</table>\n",
       "</div>"
      ],
      "text/plain": [
       "    Name  Age\n",
       "A    Tom   28\n",
       "B   Jack   39\n",
       "C  Steve   29\n",
       "D  Ricky   12"
      ]
     },
     "execution_count": 6,
     "metadata": {},
     "output_type": "execute_result"
    }
   ],
   "source": [
    "d = {'Name':['Tom','Jack','Steve','Ricky'], 'Age':[28, 39, 29, 12]}\n",
    "df = pd.DataFrame(data=d, index=['A','B','C','D'])\n",
    "df"
   ]
  },
  {
   "cell_type": "code",
   "execution_count": 7,
   "id": "e645fc86",
   "metadata": {},
   "outputs": [
    {
     "data": {
      "text/html": [
       "<div>\n",
       "<style scoped>\n",
       "    .dataframe tbody tr th:only-of-type {\n",
       "        vertical-align: middle;\n",
       "    }\n",
       "\n",
       "    .dataframe tbody tr th {\n",
       "        vertical-align: top;\n",
       "    }\n",
       "\n",
       "    .dataframe thead th {\n",
       "        text-align: right;\n",
       "    }\n",
       "</style>\n",
       "<table border=\"1\" class=\"dataframe\">\n",
       "  <thead>\n",
       "    <tr style=\"text-align: right;\">\n",
       "      <th></th>\n",
       "      <th>0</th>\n",
       "      <th>1</th>\n",
       "    </tr>\n",
       "  </thead>\n",
       "  <tbody>\n",
       "    <tr>\n",
       "      <th>张三</th>\n",
       "      <td>95</td>\n",
       "      <td>92</td>\n",
       "    </tr>\n",
       "    <tr>\n",
       "      <th>李四</th>\n",
       "      <td>88</td>\n",
       "      <td>91</td>\n",
       "    </tr>\n",
       "  </tbody>\n",
       "</table>\n",
       "</div>"
      ],
      "text/plain": [
       "     0   1\n",
       "张三  95  92\n",
       "李四  88  91"
      ]
     },
     "execution_count": 7,
     "metadata": {},
     "output_type": "execute_result"
    }
   ],
   "source": [
    "data = [[95,92],[88, 91]]\n",
    "index = (\"张三\", \"李四\")\n",
    "columns = [\"语文\", \"数学\"]\n",
    "df = pd.DataFrame(data=data\n",
    "                  , index=index)\n",
    "# 注释快捷键: Ctrl + ?/\n",
    "df"
   ]
  },
  {
   "cell_type": "markdown",
   "id": "2ec3ae09",
   "metadata": {},
   "source": [
    "## 第七章 正则表达式"
   ]
  },
  {
   "cell_type": "markdown",
   "id": "c3841d49",
   "metadata": {},
   "source": [
    "## 1.match匹配"
   ]
  },
  {
   "cell_type": "markdown",
   "id": "c513c6ce",
   "metadata": {},
   "source": [
    "### 1.1匹配字符串"
   ]
  },
  {
   "cell_type": "code",
   "execution_count": 3,
   "id": "ff6aba25",
   "metadata": {},
   "outputs": [
    {
     "data": {
      "text/plain": [
       "<re.Match object; span=(0, 3), match='www'>"
      ]
     },
     "execution_count": 3,
     "metadata": {},
     "output_type": "execute_result"
    }
   ],
   "source": [
    "import re\n",
    "\n",
    "rst = re.match('www', 'www.baidu.com')\n",
    "rst"
   ]
  },
  {
   "cell_type": "code",
   "execution_count": 4,
   "id": "44257b3f",
   "metadata": {},
   "outputs": [
    {
     "data": {
      "text/plain": [
       "(0, 3)"
      ]
     },
     "execution_count": 4,
     "metadata": {},
     "output_type": "execute_result"
    }
   ],
   "source": [
    "rst.span()"
   ]
  },
  {
   "cell_type": "code",
   "execution_count": 5,
   "id": "90930e74",
   "metadata": {},
   "outputs": [
    {
     "data": {
      "text/plain": [
       "'www'"
      ]
     },
     "execution_count": 5,
     "metadata": {},
     "output_type": "execute_result"
    }
   ],
   "source": [
    "rst.group()"
   ]
  },
  {
   "cell_type": "code",
   "execution_count": 6,
   "id": "c021c0d8",
   "metadata": {},
   "outputs": [
    {
     "name": "stdout",
     "output_type": "stream",
     "text": [
      "匹配成功\n"
     ]
    }
   ],
   "source": [
    "if rst:\n",
    "    print(\"匹配成功\")\n",
    "else:\n",
    "    print(\"匹配失败\")"
   ]
  },
  {
   "cell_type": "code",
   "execution_count": 12,
   "id": "5b844f81",
   "metadata": {},
   "outputs": [
    {
     "name": "stdout",
     "output_type": "stream",
     "text": [
      "h\n",
      "(0, 1)\n"
     ]
    }
   ],
   "source": [
    "import re\n",
    "rst = re.match('[Hh]', 'hello world.')\n",
    "if rst:\n",
    "    print(rst.group())\n",
    "    print(rst.span())\n",
    "else:\n",
    "    print(\"匹配失败\")"
   ]
  },
  {
   "cell_type": "code",
   "execution_count": 14,
   "id": "0543f384",
   "metadata": {},
   "outputs": [
    {
     "name": "stdout",
     "output_type": "stream",
     "text": [
      "hello python\n"
     ]
    }
   ],
   "source": [
    "import re\n",
    "rst = re.match('Hello Python', 'hello python123', re.I) # re.I忽略大小写\n",
    "if rst:\n",
    "    print(rst.group())\n",
    "else:\n",
    "    print(\"匹配失败\")"
   ]
  },
  {
   "cell_type": "markdown",
   "id": "ed51965f",
   "metadata": {},
   "source": [
    "###  1.2 匹配数字"
   ]
  },
  {
   "cell_type": "code",
   "execution_count": 21,
   "id": "44e9dfda",
   "metadata": {},
   "outputs": [
    {
     "name": "stdout",
     "output_type": "stream",
     "text": [
      "713213213Hello\n",
      "(0, 14)\n"
     ]
    }
   ],
   "source": [
    "import re\n",
    "rst = re.match('[0-9]*Hello', '713213213Hello python') # 星号*表示前面的模式出现任意多个,0,1,2,3,...\n",
    "print(rst.group())\n",
    "print(rst.span())"
   ]
  },
  {
   "cell_type": "code",
   "execution_count": 23,
   "id": "3c97a073",
   "metadata": {},
   "outputs": [
    {
     "name": "stdout",
     "output_type": "stream",
     "text": [
      "222Hello\n",
      "(0, 8)\n"
     ]
    }
   ],
   "source": [
    "import re\n",
    "rst = re.match('[\\d]*Hello', '222Hello python') # '\\d' 代表一个数字\n",
    "print(rst.group())\n",
    "print(rst.span())"
   ]
  },
  {
   "cell_type": "code",
   "execution_count": 27,
   "id": "04a360bb",
   "metadata": {},
   "outputs": [
    {
     "name": "stdout",
     "output_type": "stream",
     "text": [
      "None\n"
     ]
    }
   ],
   "source": [
    "import re\n",
    "rst = re.match('[0-47-9]*Hello', '2052Hello Python')\n",
    "print(rst)"
   ]
  },
  {
   "cell_type": "code",
   "execution_count": 28,
   "id": "6d1269a6",
   "metadata": {},
   "outputs": [
    {
     "name": "stdout",
     "output_type": "stream",
     "text": [
      "神州123号\n"
     ]
    }
   ],
   "source": [
    "# +表示至少一次, 1,2,3,4,5......\n",
    "rst = re.match(\"神州\\d+号\", '神州123号发射')\n",
    "print(rst.group())"
   ]
  },
  {
   "cell_type": "code",
   "execution_count": 29,
   "id": "fb316d35",
   "metadata": {},
   "outputs": [
    {
     "data": {
      "text/plain": [
       "'\\n?   0或1次\\n(m)   m次\\n(m, n) m到n次\\n'"
      ]
     },
     "execution_count": 29,
     "metadata": {},
     "output_type": "execute_result"
    }
   ],
   "source": [
    "'''\n",
    "?   0或1次\n",
    "(m)   m次\n",
    "(m, n) m到n次\n",
    "'''"
   ]
  },
  {
   "cell_type": "code",
   "execution_count": 32,
   "id": "6db0e15d",
   "metadata": {},
   "outputs": [
    {
     "name": "stdout",
     "output_type": "stream",
     "text": [
      "<re.Match object; span=(0, 3), match='213'>\n",
      "213\n"
     ]
    }
   ],
   "source": [
    "import re\n",
    "rst = re.match('[1-9]?[\\d]?[\\d]', '21333')\n",
    "print(rst)\n",
    "print(rst.group())"
   ]
  },
  {
   "cell_type": "code",
   "execution_count": 35,
   "id": "209825a2",
   "metadata": {},
   "outputs": [
    {
     "name": "stdout",
     "output_type": "stream",
     "text": [
      "83\n",
      "95\n",
      "92\n",
      "61\n"
     ]
    }
   ],
   "source": [
    "import re\n",
    "ls = [58, 83, 95, 92, 61]\n",
    "for sc in ls:\n",
    "    rst = re.match('[6-9][0-9]', str(sc))\n",
    "    if rst:\n",
    "        print(sc)\n",
    "    "
   ]
  },
  {
   "cell_type": "code",
   "execution_count": 37,
   "id": "5c581e3d",
   "metadata": {},
   "outputs": [
    {
     "name": "stdout",
     "output_type": "stream",
     "text": [
      "<re.Match object; span=(0, 6), match='123dda'>\n"
     ]
    }
   ],
   "source": [
    "rst = re.match('[a-zA-Z0-9_]{6}', '123ddadASD312')\n",
    "print(rst)"
   ]
  },
  {
   "cell_type": "markdown",
   "id": "65fd6dfb",
   "metadata": {},
   "source": [
    "## complie"
   ]
  },
  {
   "cell_type": "code",
   "execution_count": 43,
   "id": "629d91d2",
   "metadata": {},
   "outputs": [
    {
     "name": "stdout",
     "output_type": "stream",
     "text": [
      "注册成功\n"
     ]
    }
   ],
   "source": [
    "import re\n",
    "p = re.compile('\\w{4,20}@(163|126|qq)\\.com$') # $表示以...结尾\n",
    "rst = p.match('test1234@163.com')\n",
    "if rst:\n",
    "    print('注册成功')\n",
    "else:\n",
    "    print(\"失败\")"
   ]
  },
  {
   "cell_type": "code",
   "execution_count": null,
   "id": "f56631db",
   "metadata": {},
   "outputs": [],
   "source": []
  },
  {
   "cell_type": "code",
   "execution_count": 42,
   "id": "cb4318bf",
   "metadata": {},
   "outputs": [
    {
     "name": "stdout",
     "output_type": "stream",
     "text": [
      "注册成功\n"
     ]
    }
   ],
   "source": []
  },
  {
   "cell_type": "code",
   "execution_count": null,
   "id": "7df29ced",
   "metadata": {},
   "outputs": [],
   "source": []
  }
 ],
 "metadata": {
  "kernelspec": {
   "display_name": "Python 3 (ipykernel)",
   "language": "python",
   "name": "python3"
  },
  "language_info": {
   "codemirror_mode": {
    "name": "ipython",
    "version": 3
   },
   "file_extension": ".py",
   "mimetype": "text/x-python",
   "name": "python",
   "nbconvert_exporter": "python",
   "pygments_lexer": "ipython3",
   "version": "3.9.7"
  }
 },
 "nbformat": 4,
 "nbformat_minor": 5
}
