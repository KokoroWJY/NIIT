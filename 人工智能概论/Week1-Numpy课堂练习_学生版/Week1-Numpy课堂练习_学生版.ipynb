{
 "cells": [
  {
   "cell_type": "markdown",
   "metadata": {
    "pycharm": {
     "name": "#%% md\n"
    }
   },
   "source": [
    "# WEEK01-Numpy课堂练习\n",
    "\n",
    "- 中文官网：https://www.numpy.org.cn/\n",
    "- 英文官网：http://www.numpy.org\n",
    "- 中文快速入门：https://www.numpy.org.cn/user/quickstart.html"
   ]
  },
  {
   "cell_type": "code",
   "execution_count": 2,
   "metadata": {
    "pycharm": {
     "name": "#%%\n"
    }
   },
   "outputs": [],
   "source": [
    "# 引入工具包  # 别名np\n",
    "import numpy as np"
   ]
  },
  {
   "cell_type": "markdown",
   "metadata": {
    "pycharm": {
     "name": "#%% md\n"
    }
   },
   "source": [
    "### 1. Numpy创建数组"
   ]
  },
  {
   "cell_type": "markdown",
   "metadata": {
    "pycharm": {
     "name": "#%% md\n"
    }
   },
   "source": [
    "#### 1.1 一维array创建：使用np.array()"
   ]
  },
  {
   "cell_type": "code",
   "execution_count": 8,
   "metadata": {
    "pycharm": {
     "name": "#%%\n"
    }
   },
   "outputs": [
    {
     "name": "stdout",
     "output_type": "stream",
     "text": [
      "[2 3 4]\n",
      "<class 'numpy.ndarray'>\n",
      "int32\n",
      "<class 'numpy.ndarray'>\n",
      "float64\n"
     ]
    }
   ],
   "source": [
    "# 创建数组[2,3,4]\n",
    "a = np.array([2,3,4])\n",
    "print(a)\n",
    "print(type(a))  # 查看a的类型\n",
    "print(a.dtype)  # 查看数据类型\n",
    "\n",
    "# 创建数组[1.2, 3.5, 5.1]\n",
    "b = np.array([2.5,4,8])\n",
    "print(type(b))\n",
    "print(b.dtype)  # 查看数据类型"
   ]
  },
  {
   "cell_type": "code",
   "execution_count": 10,
   "metadata": {
    "pycharm": {
     "name": "#%%\n"
    }
   },
   "outputs": [],
   "source": [
    "# 找错误\n",
    "a = np.array([1,2,3,4])    \n",
    "a = np.array([1,2,3,4])  "
   ]
  },
  {
   "cell_type": "markdown",
   "metadata": {
    "pycharm": {
     "name": "#%% md\n"
    }
   },
   "source": [
    "**也可以在创建时显式指定数组的类型：dtype参数**"
   ]
  },
  {
   "cell_type": "code",
   "execution_count": 15,
   "metadata": {
    "pycharm": {
     "name": "#%%\n"
    }
   },
   "outputs": [
    {
     "name": "stdout",
     "output_type": "stream",
     "text": [
      "[2. 3. 4.]\n",
      "float64\n"
     ]
    }
   ],
   "source": [
    "# 创建数组时，指定数据类型：dtype参数\n",
    "a = np.array([2,3,4], dtype=np.float64)\n",
    "print(a)\n",
    "print(a.dtype)"
   ]
  },
  {
   "cell_type": "markdown",
   "metadata": {
    "pycharm": {
     "name": "#%% md\n"
    }
   },
   "source": [
    "#### 1.2 多维array创建"
   ]
  },
  {
   "cell_type": "code",
   "execution_count": 24,
   "metadata": {
    "pycharm": {
     "name": "#%%\n"
    }
   },
   "outputs": [
    {
     "name": "stdout",
     "output_type": "stream",
     "text": [
      "[[2 3 4]\n",
      " [3 4 5]\n",
      " [7 4 5]]\n",
      "数组的行数、列数: (3, 3)\n"
     ]
    }
   ],
   "source": [
    "# 多维array\n",
    "a = np.array([[2,3,4],[3,4,5],[7,4,5]])\n",
    "print(a)\n",
    "\n",
    "# 查看数组的行数、列数 .shape\n",
    "print(\"数组的行数、列数:\", a.shape) "
   ]
  },
  {
   "cell_type": "markdown",
   "metadata": {
    "pycharm": {
     "name": "#%% md\n"
    }
   },
   "source": [
    "#### 1.3 创建全零数组: np.zeros"
   ]
  },
  {
   "cell_type": "code",
   "execution_count": 38,
   "metadata": {
    "pycharm": {
     "name": "#%%\n"
    }
   },
   "outputs": [
    {
     "name": "stdout",
     "output_type": "stream",
     "text": [
      "[[0. 0. 0. 0.]\n",
      " [0. 0. 0. 0.]\n",
      " [0. 0. 0. 0.]]\n",
      "float64\n"
     ]
    },
    {
     "ename": "TypeError",
     "evalue": "'float' object cannot be interpreted as an integer",
     "output_type": "error",
     "traceback": [
      "\u001B[1;31m---------------------------------------------------------------------------\u001B[0m",
      "\u001B[1;31mTypeError\u001B[0m                                 Traceback (most recent call last)",
      "\u001B[1;32m~\\AppData\\Local\\Temp/ipykernel_6352/3428750748.py\u001B[0m in \u001B[0;36m<module>\u001B[1;34m\u001B[0m\n\u001B[0;32m      5\u001B[0m \u001B[1;33m\u001B[0m\u001B[0m\n\u001B[0;32m      6\u001B[0m \u001B[1;31m# 设置int32\u001B[0m\u001B[1;33m\u001B[0m\u001B[1;33m\u001B[0m\u001B[0m\n\u001B[1;32m----> 7\u001B[1;33m \u001B[0ma\u001B[0m \u001B[1;33m=\u001B[0m \u001B[0mnp\u001B[0m\u001B[1;33m.\u001B[0m\u001B[0mzeros\u001B[0m\u001B[1;33m(\u001B[0m\u001B[1;33m(\u001B[0m\u001B[1;36m3.4\u001B[0m\u001B[1;33m)\u001B[0m\u001B[1;33m,\u001B[0m \u001B[0mdtype\u001B[0m\u001B[1;33m=\u001B[0m\u001B[0mnp\u001B[0m\u001B[1;33m.\u001B[0m\u001B[0mint32\u001B[0m\u001B[1;33m)\u001B[0m\u001B[1;33m\u001B[0m\u001B[1;33m\u001B[0m\u001B[0m\n\u001B[0m\u001B[0;32m      8\u001B[0m \u001B[0mprint\u001B[0m\u001B[1;33m(\u001B[0m\u001B[0ma\u001B[0m\u001B[1;33m)\u001B[0m \u001B[1;31m# 生成3行4列的全零矩阵\u001B[0m\u001B[1;33m\u001B[0m\u001B[1;33m\u001B[0m\u001B[0m\n\u001B[0;32m      9\u001B[0m \u001B[0mprint\u001B[0m\u001B[1;33m(\u001B[0m\u001B[0ma\u001B[0m\u001B[1;33m.\u001B[0m\u001B[0mdtype\u001B[0m\u001B[1;33m)\u001B[0m\u001B[1;33m\u001B[0m\u001B[1;33m\u001B[0m\u001B[0m\n",
      "\u001B[1;31mTypeError\u001B[0m: 'float' object cannot be interpreted as an integer"
     ]
    }
   ],
   "source": [
    "# 经常用在数组的初始化,默认dtype=float64\n",
    "a = np.zeros((3, 4))\n",
    "print(a) # 生成3行4列的全零矩阵\n",
    "print(a.dtype)\n",
    "\n",
    "# 设置int32\n",
    "a = np.zeros((3.4), dtype=np.int32)\n",
    "print(a) # 生成3行4列的全零矩阵\n",
    "print(a.dtype)"
   ]
  },
  {
   "cell_type": "markdown",
   "metadata": {
    "pycharm": {
     "name": "#%% md\n"
    }
   },
   "source": [
    "#### 1.4 创建全1数据: np.ones"
   ]
  },
  {
   "cell_type": "code",
   "execution_count": 30,
   "metadata": {
    "scrolled": true,
    "pycharm": {
     "name": "#%%\n"
    }
   },
   "outputs": [
    {
     "name": "stdout",
     "output_type": "stream",
     "text": [
      "[[1 1 1 1]\n",
      " [1 1 1 1]\n",
      " [1 1 1 1]]\n",
      "(3, 4)\n"
     ]
    }
   ],
   "source": [
    "# 创建全一数据，同时指定数据类型\n",
    "a = np.ones((3,4), dtype=np.int32)\n",
    "# np.int 等同np.int32\n",
    "print(a)\n",
    "print(a.shape)"
   ]
  },
  {
   "cell_type": "markdown",
   "metadata": {
    "pycharm": {
     "name": "#%% md\n"
    }
   },
   "source": [
    "#### 1.5 创建全空数组：np.empty"
   ]
  },
  {
   "cell_type": "code",
   "execution_count": 40,
   "metadata": {
    "pycharm": {
     "name": "#%%\n"
    }
   },
   "outputs": [
    {
     "name": "stdout",
     "output_type": "stream",
     "text": [
      "[[ 7.63813952e-312  7.16395186e-322  0.00000000e+000  0.00000000e+000]\n",
      " [ 7.61796489e-312  1.16095484e-028 -2.85639645e+181 -4.18516477e-026]\n",
      " [-3.49925557e-015 -3.06387316e+181 -7.61659224e-031 -1.86814240e-169]\n",
      " [-1.49061127e+181 -1.03249646e-237 -4.54923531e-179  4.07111566e+137]\n",
      " [ 5.28595592e-085  8.26482251e-048  4.11083805e+223  6.42899419e-109]\n",
      " [ 6.48224637e+170  3.67145870e+228  3.68351186e-033              nan]]\n"
     ]
    }
   ],
   "source": [
    "# 创建全空数组，其初始内容是随机的，取决于内存的状态\n",
    "a = np.empty((6,4))\n",
    "\n",
    "print(a)"
   ]
  },
  {
   "cell_type": "markdown",
   "metadata": {
    "pycharm": {
     "name": "#%% md\n"
    }
   },
   "source": [
    "#### 1.6 创建连续数组： np.arange"
   ]
  },
  {
   "cell_type": "code",
   "execution_count": 43,
   "metadata": {
    "pycharm": {
     "name": "#%%\n"
    }
   },
   "outputs": [
    {
     "name": "stdout",
     "output_type": "stream",
     "text": [
      "[10 11 12 13 14 15 16 17 18 19] (10,)\n",
      "[0 1 2 3 4 5 6 7 8 9] (10,)\n",
      "[ 1  3  5  7  9 11 13]\n"
     ]
    }
   ],
   "source": [
    "# 创建连续数组 arange\n",
    "# 10-20的数据，步长为1，不包含最后的数字\n",
    "a = np.arange(10, 20, 1)\n",
    "print(a, a.shape)\n",
    "\n",
    "# 简化场景：只写一个参数，从0开始\n",
    "# 10-20的数据，步长为1，不包含最后的数字\n",
    "b = np.arange(10)\n",
    "\n",
    "print(b, b.shape)\n",
    "\n",
    "# 练习：1,3,5,7,9,11,13\n",
    "x = np.arange(1, 14, 2)\n",
    "print(x)"
   ]
  },
  {
   "cell_type": "markdown",
   "metadata": {
    "pycharm": {
     "name": "#%% md\n"
    }
   },
   "source": [
    "#### 1.7 创建线段型数据 np.linspace"
   ]
  },
  {
   "cell_type": "code",
   "execution_count": 58,
   "metadata": {
    "scrolled": true,
    "pycharm": {
     "name": "#%%\n"
    }
   },
   "outputs": [
    {
     "name": "stdout",
     "output_type": "stream",
     "text": [
      "[ 1.   1.5  2.   2.5  3.   3.5  4.   4.5  5.   5.5  6.   6.5  7.   7.5\n",
      "  8.   8.5  9.   9.5 10. ] (19,)\n",
      "[ 0.   0.5  1.   1.5  2.   2.5  3.   3.5  4.   4.5  5.   5.5  6.   6.5\n",
      "  7.   7.5  8.   8.5  9.   9.5 10. ] (21,)\n",
      "[ 0.   0.5  1.   1.5  2.   2.5  3.   3.5  4.   4.5  5.   5.5  6.   6.5\n",
      "  7.   7.5  8.   8.5  9.   9.5 10. ] (21,)\n"
     ]
    }
   ],
   "source": [
    "# 创建线段型数据 linspace\n",
    "# 开始端1，结束端10，且分割成10个数据，生成线段\n",
    "a = np.linspace(1, 10, 19)\n",
    "print(a, a.shape)\n",
    "\n",
    "# linspace和arange的对比 0-10,分20等分\n",
    "b = np.arange(0, 10.5, 0.5)\n",
    "print(b, b.shape)\n",
    "c = np.linspace(0, 10, 21)\n",
    "print(c, c.shape)"
   ]
  },
  {
   "cell_type": "markdown",
   "metadata": {
    "pycharm": {
     "name": "#%% md\n"
    }
   },
   "source": [
    "### 2. 数组的基本属性"
   ]
  },
  {
   "cell_type": "code",
   "execution_count": 46,
   "metadata": {
    "scrolled": false,
    "pycharm": {
     "name": "#%%\n"
    }
   },
   "outputs": [
    {
     "name": "stdout",
     "output_type": "stream",
     "text": [
      "number of dim: 2 2\n",
      "shape: (2, 3)\n",
      "size: 6\n"
     ]
    }
   ],
   "source": [
    "a = np.array([[2,3,4],\n",
    "              [3,4,5]] , dtype = np.int)\n",
    "# 维度\n",
    "print('number of dim:', )\n",
    "\n",
    "# 行数和列数\n",
    "print('shape:',)\n",
    "\n",
    "# 元素个数\n",
    "print('size:',)"
   ]
  },
  {
   "cell_type": "markdown",
   "metadata": {
    "pycharm": {
     "name": "#%% md\n"
    }
   },
   "source": [
    "### 3.Numpy索引与切片"
   ]
  },
  {
   "cell_type": "code",
   "execution_count": 3,
   "metadata": {
    "pycharm": {
     "name": "#%%\n"
    }
   },
   "outputs": [
    {
     "name": "stdout",
     "output_type": "stream",
     "text": [
      "[10 11 12 13 14 15 16 17 18 19]\n",
      "[[  2   3   4   5   6]\n",
      " [ 20  30  40  50  60]\n",
      " [200 300 400 500 600]]\n"
     ]
    },
    {
     "name": "stderr",
     "output_type": "stream",
     "text": [
      "C:\\Users\\HP\\AppData\\Local\\Temp/ipykernel_1688/1451444470.py:5: DeprecationWarning: `np.int` is a deprecated alias for the builtin `int`. To silence this warning, use `int` by itself. Doing this will not modify any behavior and is safe. When replacing `np.int`, you may wish to use e.g. `np.int64` or `np.int32` to specify the precision. If you wish to review your current use, check the release note link for additional information.\n",
      "Deprecated in NumPy 1.20; for more details and guidance: https://numpy.org/devdocs/release/1.20.0-notes.html#deprecations\n",
      "  [200,300,400,500,600]] , dtype = np.int)\n"
     ]
    }
   ],
   "source": [
    "# 先创建两个数组\n",
    "a = np.arange(10,20,1)   # 不包含10\n",
    "b = np.array([[2,3,4,5,6],\n",
    "              [20,30,40,50,60],\n",
    "              [200,300,400,500,600]] , dtype = np.int)\n",
    "print(a)\n",
    "print(b)"
   ]
  },
  {
   "cell_type": "code",
   "execution_count": 9,
   "metadata": {
    "pycharm": {
     "name": "#%%\n"
    }
   },
   "outputs": [
    {
     "name": "stdout",
     "output_type": "stream",
     "text": [
      "10\n",
      "[10 11 12]\n",
      "19\n",
      "[11 12 13 14 15 16 17]\n"
     ]
    }
   ],
   "source": [
    "# 用[index]来选取某个元素，用：切片，同list\n",
    "print(a[0])\n",
    "print(a[0:3])\n",
    "print(a[-1])\n",
    "print(a[1:-2])"
   ]
  },
  {
   "cell_type": "code",
   "execution_count": 16,
   "metadata": {
    "pycharm": {
     "name": "#%%\n"
    }
   },
   "outputs": [
    {
     "name": "stdout",
     "output_type": "stream",
     "text": [
      "[20 30 40 50 60]\n",
      "40\n",
      "[20 30 40 50]\n"
     ]
    }
   ],
   "source": [
    "# 多维数组\n",
    "print(b[1])\n",
    "print(b[1][2])\n",
    "print(b[1, 0:-1]) # ,左边是行 右边是列"
   ]
  },
  {
   "cell_type": "code",
   "execution_count": 22,
   "metadata": {
    "pycharm": {
     "name": "#%%\n"
    }
   },
   "outputs": [
    {
     "name": "stdout",
     "output_type": "stream",
     "text": [
      "[  3  30 300]\n",
      "[[ 3  4]\n",
      " [30 40]]\n"
     ]
    }
   ],
   "source": [
    "# 练习：输出第二列；输出中间的3 4 30 40\n",
    "print(b[:,1])\n",
    "print(b[0:2, 1:3])"
   ]
  },
  {
   "cell_type": "markdown",
   "metadata": {
    "pycharm": {
     "name": "#%% md\n"
    }
   },
   "source": [
    "### 4. Numpy基本运算"
   ]
  },
  {
   "cell_type": "markdown",
   "metadata": {
    "pycharm": {
     "name": "#%% md\n"
    }
   },
   "source": [
    "#### 4.1 一维矩阵运算"
   ]
  },
  {
   "cell_type": "code",
   "execution_count": 25,
   "metadata": {
    "pycharm": {
     "name": "#%%\n"
    }
   },
   "outputs": [
    {
     "name": "stdout",
     "output_type": "stream",
     "text": [
      "[10 20 30 40] [1 2 3 4]\n"
     ]
    }
   ],
   "source": [
    "# 一维矩阵运算\n",
    "a = np.array([10,20,30,40])\n",
    "b = np.array([1,2,3,4])\n",
    "print(a,b)"
   ]
  },
  {
   "cell_type": "code",
   "execution_count": 29,
   "metadata": {
    "pycharm": {
     "name": "#%%\n"
    }
   },
   "outputs": [
    {
     "data": {
      "text/plain": [
       "array([12, 22, 32, 42])"
      ]
     },
     "execution_count": 29,
     "metadata": {},
     "output_type": "execute_result"
    }
   ],
   "source": [
    "# 矩阵和常数运算\n",
    "a + 2"
   ]
  },
  {
   "cell_type": "code",
   "execution_count": 30,
   "metadata": {
    "pycharm": {
     "name": "#%%\n"
    }
   },
   "outputs": [
    {
     "data": {
      "text/plain": [
       "array([20, 40, 60, 80])"
      ]
     },
     "execution_count": 30,
     "metadata": {},
     "output_type": "execute_result"
    }
   ],
   "source": [
    "a * 2"
   ]
  },
  {
   "cell_type": "code",
   "execution_count": 31,
   "metadata": {
    "pycharm": {
     "name": "#%%\n"
    }
   },
   "outputs": [
    {
     "name": "stdout",
     "output_type": "stream",
     "text": [
      "加法： [11 22 33 44]\n",
      "减法： [ 9 18 27 36]\n",
      "元素相乘： [ 10  40  90 160]\n",
      "元素相除： [10. 10. 10. 10.]\n"
     ]
    }
   ],
   "source": [
    "# 逐项加减乘除 需要有相同的shape\n",
    "print(\"加法：\", a + b)\n",
    "print(\"减法：\", a - b)\n",
    "print(\"元素相乘：\", a * b)\n",
    "print(\"元素相除：\", a / b)"
   ]
  },
  {
   "cell_type": "code",
   "execution_count": 32,
   "metadata": {
    "pycharm": {
     "name": "#%%\n"
    }
   },
   "outputs": [
    {
     "name": "stdout",
     "output_type": "stream",
     "text": [
      "[ 1  4  9 16]\n"
     ]
    }
   ],
   "source": [
    "# 在Numpy中，想要求出矩阵中各个元素的乘方需要依赖双星符号 **，以二次方举例，即：\n",
    "c = b ** 2\n",
    "print(c)"
   ]
  },
  {
   "cell_type": "code",
   "execution_count": 81,
   "metadata": {
    "pycharm": {
     "name": "#%%\n"
    }
   },
   "outputs": [
    {
     "name": "stdout",
     "output_type": "stream",
     "text": [
      "[-0.54402111  0.91294525 -0.98803162  0.74511316]\n",
      "[0.         0.69314718 1.09861229 1.38629436]\n"
     ]
    }
   ],
   "source": [
    "# Numpy中具有很多的数学函数工具\n",
    "print(np.sin(a))\n",
    "print(np.log(b))"
   ]
  },
  {
   "cell_type": "code",
   "execution_count": 33,
   "metadata": {
    "pycharm": {
     "name": "#%%\n"
    }
   },
   "outputs": [
    {
     "name": "stdout",
     "output_type": "stream",
     "text": [
      "[ True False False False]\n",
      "[ True False False False]\n"
     ]
    }
   ],
   "source": [
    "# 比较表达式，输出True False\n",
    "a = np.array([1,1,4,3])\n",
    "b = np.array([1,2,3,4])\n",
    "\n",
    "print(b<2)\n",
    "print(a==b)"
   ]
  },
  {
   "cell_type": "markdown",
   "metadata": {
    "pycharm": {
     "name": "#%% md\n"
    }
   },
   "source": [
    "#### 4.2 多维矩阵运算"
   ]
  },
  {
   "cell_type": "code",
   "execution_count": 86,
   "metadata": {
    "scrolled": false,
    "pycharm": {
     "name": "#%%\n"
    }
   },
   "outputs": [
    {
     "name": "stdout",
     "output_type": "stream",
     "text": [
      "[[1 1]\n",
      " [0 1]]\n",
      "[[1 2]\n",
      " [3 4]]\n"
     ]
    }
   ],
   "source": [
    "a = np.array([[1,1],\n",
    "              [0,1]])\n",
    "b = np.array([[1,2],\n",
    "              [3,4]])\n",
    "print(a)\n",
    "print(b)"
   ]
  },
  {
   "cell_type": "code",
   "execution_count": 37,
   "metadata": {
    "scrolled": true,
    "pycharm": {
     "name": "#%%\n"
    }
   },
   "outputs": [
    {
     "ename": "ValueError",
     "evalue": "operands could not be broadcast together with shapes (3,2) (2,1) ",
     "output_type": "error",
     "traceback": [
      "\u001B[1;31m---------------------------------------------------------------------------\u001B[0m",
      "\u001B[1;31mValueError\u001B[0m                                Traceback (most recent call last)",
      "\u001B[1;32m~\\AppData\\Local\\Temp/ipykernel_1688/4031001751.py\u001B[0m in \u001B[0;36m<module>\u001B[1;34m\u001B[0m\n\u001B[0;32m      1\u001B[0m \u001B[1;31m# 矩阵加法： 逐项相加,需要a，b 行数、列数是相同\u001B[0m\u001B[1;33m\u001B[0m\u001B[1;33m\u001B[0m\u001B[0m\n\u001B[0;32m      2\u001B[0m \u001B[1;31m# print(\"加法：\\n\", a + b)\u001B[0m\u001B[1;33m\u001B[0m\u001B[1;33m\u001B[0m\u001B[0m\n\u001B[1;32m----> 3\u001B[1;33m \u001B[0mprint\u001B[0m\u001B[1;33m(\u001B[0m\u001B[1;34m\"元素的逐项乘法：\\n\"\u001B[0m\u001B[1;33m,\u001B[0m \u001B[0ma\u001B[0m \u001B[1;33m*\u001B[0m \u001B[0mb\u001B[0m\u001B[1;33m)\u001B[0m   \u001B[1;31m# elementwise product\u001B[0m\u001B[1;33m\u001B[0m\u001B[1;33m\u001B[0m\u001B[0m\n\u001B[0m\u001B[0;32m      4\u001B[0m \u001B[0mprint\u001B[0m\u001B[1;33m(\u001B[0m\u001B[1;34m\"矩阵的乘法：\\n\"\u001B[0m\u001B[1;33m,\u001B[0m \u001B[0ma\u001B[0m \u001B[1;33m@\u001B[0m \u001B[0mb\u001B[0m\u001B[1;33m)\u001B[0m  \u001B[1;31m# matrix product\u001B[0m\u001B[1;33m\u001B[0m\u001B[1;33m\u001B[0m\u001B[0m\n\u001B[0;32m      5\u001B[0m \u001B[0mprint\u001B[0m\u001B[1;33m(\u001B[0m\u001B[1;34m\"矩阵的乘法（另一种写法）：\\n\"\u001B[0m\u001B[1;33m,\u001B[0m \u001B[0mnp\u001B[0m\u001B[1;33m.\u001B[0m\u001B[0mdot\u001B[0m\u001B[1;33m(\u001B[0m\u001B[0ma\u001B[0m\u001B[1;33m,\u001B[0m \u001B[0mb\u001B[0m\u001B[1;33m)\u001B[0m\u001B[1;33m)\u001B[0m\u001B[1;33m\u001B[0m\u001B[1;33m\u001B[0m\u001B[0m\n",
      "\u001B[1;31mValueError\u001B[0m: operands could not be broadcast together with shapes (3,2) (2,1) "
     ]
    }
   ],
   "source": [
    "# 矩阵加法： 逐项相加,需要a，b 行数、列数是相同\n",
    "print(\"加法：\\n\", a + b)\n",
    "print(\"元素的逐项乘法：\\n\", a * b)   # elementwise product\n",
    "print(\"矩阵的乘法：\\n\", a @ b)  # matrix product\n",
    "print(\"矩阵的乘法（另一种写法）：\\n\", np.dot(a, b))"
   ]
  },
  {
   "cell_type": "code",
   "execution_count": 34,
   "metadata": {
    "pycharm": {
     "name": "#%%\n"
    }
   },
   "outputs": [
    {
     "name": "stdout",
     "output_type": "stream",
     "text": [
      "[[1 1]\n",
      " [0 1]\n",
      " [2 2]]\n",
      "[[0]\n",
      " [1]]\n",
      "矩阵乘法：\n",
      " [[1]\n",
      " [1]\n",
      " [2]]\n"
     ]
    }
   ],
   "source": [
    "# 练习：矩阵乘法\n",
    "a = np.array([[1,1],[0,1],[2,2]])\n",
    "b = np.array([[0],[1]])\n",
    "print(a)\n",
    "print(b)\n",
    "print(\"矩阵乘法：\\n\", a@b)"
   ]
  },
  {
   "cell_type": "markdown",
   "metadata": {
    "pycharm": {
     "name": "#%% md\n"
    }
   },
   "source": [
    "#### 4.3 数据统计函数"
   ]
  },
  {
   "cell_type": "code",
   "execution_count": 43,
   "metadata": {
    "pycharm": {
     "name": "#%%\n"
    }
   },
   "outputs": [
    {
     "name": "stdout",
     "output_type": "stream",
     "text": [
      "[[34 36 30 70]\n",
      " [ 4 71 14 26]\n",
      " [53 90  5 12]]\n"
     ]
    }
   ],
   "source": [
    "# randint: 生成随机的整数\n",
    "a = np.random.randint(0, 100, size=(3,4))\n",
    "print(a)"
   ]
  },
  {
   "cell_type": "code",
   "execution_count": 45,
   "metadata": {
    "pycharm": {
     "name": "#%%\n"
    }
   },
   "outputs": [
    {
     "name": "stdout",
     "output_type": "stream",
     "text": [
      "总和   445\n",
      "平均数   37.083333333333336\n",
      "中位数   32.0\n",
      "标准差   27.013756783453047\n",
      "方差   729.7430555555555\n",
      "最小值   4\n",
      "最大值   90\n"
     ]
    }
   ],
   "source": [
    "print(\"总和  \", np.sum(a)) \n",
    "print(\"平均数  \", np.mean(a))\n",
    "print(\"中位数  \", np.median(a))  # 22，24，25，37，49，68，86，91\n",
    "print(\"标准差  \", np.std(a))  # 标准差、\n",
    "print(\"方差  \", np.var(a))   # 方差、\n",
    "print(\"最小值  \", np.min(a))\n",
    "print(\"最大值  \", np.max(a))"
   ]
  },
  {
   "cell_type": "code",
   "execution_count": 51,
   "metadata": {
    "pycharm": {
     "name": "#%%\n"
    }
   },
   "outputs": [
    {
     "name": "stdout",
     "output_type": "stream",
     "text": [
      "最小值的索引号： [2 0 2]\n",
      "最大值的索引号： [2 2 0 0]\n"
     ]
    }
   ],
   "source": [
    "print(\"最小值的索引号：\",  np.argmin(a, axis=1))\n",
    "print(\"最大值的索引号：\",  np.argmax(a, axis=0))"
   ]
  },
  {
   "cell_type": "markdown",
   "metadata": {
    "pycharm": {
     "name": "#%% md\n"
    }
   },
   "source": [
    "- 如果你需要对行或者列进行查找运算，就需要在上述代码中为 axis 进行赋值。\n",
    "- 当**axis=1**的时候，将会以**行**作为查找单元。\n",
    "- 当**axis=0**的时候，将会以**列**作为查找单元，"
   ]
  },
  {
   "cell_type": "code",
   "execution_count": 52,
   "metadata": {
    "pycharm": {
     "name": "#%%\n"
    }
   },
   "outputs": [
    {
     "name": "stdout",
     "output_type": "stream",
     "text": [
      "计算每行的和= [170 115 160]\n",
      "计算每列的和= [ 91 197  49 108]\n"
     ]
    }
   ],
   "source": [
    "# axis = 1  表示按行进行统计\n",
    "print(\"计算每行的和=\", np.sum(a, axis=1))\n",
    "print(\"计算每列的和=\", np.sum(a, axis=0))  "
   ]
  },
  {
   "cell_type": "code",
   "execution_count": 53,
   "metadata": {
    "pycharm": {
     "name": "#%%\n"
    }
   },
   "outputs": [
    {
     "name": "stdout",
     "output_type": "stream",
     "text": [
      "每列的最小值= [30  4  5]\n",
      "[ 4 36  5 12]\n"
     ]
    }
   ],
   "source": [
    "# 练习：计算每列的最小值，并标出最小元素索引\n",
    "print(\"每列的最小值=\", np.min(a,axis=1))  # 按列\n",
    "# 最小元素索引\n",
    "print(np.min(a, axis=0)) # # 按列"
   ]
  },
  {
   "cell_type": "code",
   "execution_count": 54,
   "metadata": {
    "pycharm": {
     "name": "#%%\n"
    }
   },
   "outputs": [
    {
     "name": "stdout",
     "output_type": "stream",
     "text": [
      "每行的最大值= [3 1 1]\n",
      "[1 0 2 2]\n"
     ]
    }
   ],
   "source": [
    "# 练习：计算每行的最大值，并标出最大元素索引\n",
    "print(\"每行的最大值=\", np.argmax(a, axis=1))  # 按行\n",
    "# 最大元素索引\n",
    "print(np.argmin(a, axis=0)) "
   ]
  },
  {
   "cell_type": "markdown",
   "metadata": {
    "pycharm": {
     "name": "#%% md\n"
    }
   },
   "source": [
    "### 5. 数组的操作"
   ]
  },
  {
   "cell_type": "markdown",
   "metadata": {
    "pycharm": {
     "name": "#%% md\n"
    }
   },
   "source": [
    "#### 5.1 数组整形  **reshape、flatten**"
   ]
  },
  {
   "cell_type": "code",
   "execution_count": 57,
   "metadata": {
    "pycharm": {
     "name": "#%%\n"
    }
   },
   "outputs": [
    {
     "name": "stdout",
     "output_type": "stream",
     "text": [
      "[10 11 12 13 14 15 16 17 18 19 20 21] (12,)\n"
     ]
    }
   ],
   "source": [
    "# 使用reshape改变上述数据的形状\n",
    "a = np.arange(10,22,1) # 10-20的数据，步长为2\n",
    "print(a, a.shape)"
   ]
  },
  {
   "cell_type": "code",
   "execution_count": 71,
   "metadata": {
    "pycharm": {
     "name": "#%%\n"
    }
   },
   "outputs": [
    {
     "name": "stdout",
     "output_type": "stream",
     "text": [
      "[[10 12 14 16 18 20]\n",
      " [11 13 15 17 19 21]]\n",
      "[[10 11 12 13]\n",
      " [14 15 16 17]\n",
      " [18 19 20 21]]\n"
     ]
    }
   ],
   "source": [
    "# 整形成2行6列，3行4列\n",
    " # 按列来整形的话 order = 'F'\n",
    "b = np.reshape(a, (2, 6), order='f') # 默认order=\"C\"\n",
    "c = a.reshape((-1, 4)) # -1不确定的方面用-1 自动排\n",
    "print(b)\n",
    "print(c)"
   ]
  },
  {
   "cell_type": "code",
   "execution_count": 66,
   "metadata": {
    "pycharm": {
     "name": "#%%\n"
    }
   },
   "outputs": [
    {
     "name": "stdout",
     "output_type": "stream",
     "text": [
      "[10 12 14 16 18 20 11 13 15 17 19 21]\n",
      "[10 11 12 13 14 15 16 17 18 19 20 21]\n"
     ]
    }
   ],
   "source": [
    "# 拍扁到一维，展平函数\n",
    "print(b.flatten())   \n",
    "print(c.flatten())"
   ]
  },
  {
   "cell_type": "markdown",
   "metadata": {
    "pycharm": {
     "name": "#%% md\n"
    }
   },
   "source": [
    "#### 5.2 数据转置 np.transpose"
   ]
  },
  {
   "cell_type": "code",
   "execution_count": 67,
   "metadata": {
    "pycharm": {
     "name": "#%%\n"
    }
   },
   "outputs": [
    {
     "name": "stdout",
     "output_type": "stream",
     "text": [
      "[[10 12 14 16 18 20]\n",
      " [11 13 15 17 19 21]] (2, 6)\n",
      "[[10 11]\n",
      " [12 13]\n",
      " [14 15]\n",
      " [16 17]\n",
      " [18 19]\n",
      " [20 21]] (6, 2)\n"
     ]
    }
   ],
   "source": [
    "# 矩阵转置\n",
    "print(b,b.shape)\n",
    "d = b.T\n",
    "print(d,d.shape)"
   ]
  },
  {
   "cell_type": "code",
   "execution_count": 68,
   "metadata": {
    "pycharm": {
     "name": "#%%\n"
    }
   },
   "outputs": [
    {
     "name": "stdout",
     "output_type": "stream",
     "text": [
      "[[10 11]\n",
      " [12 13]\n",
      " [14 15]\n",
      " [16 17]\n",
      " [18 19]\n",
      " [20 21]]\n"
     ]
    }
   ],
   "source": [
    "# 更常用的转置 a.T\n",
    "print(np.transpose(b))"
   ]
  },
  {
   "cell_type": "markdown",
   "metadata": {
    "pycharm": {
     "name": "#%% md\n"
    }
   },
   "source": [
    "#### 5.3 数组排序 np.sort"
   ]
  },
  {
   "cell_type": "code",
   "execution_count": 85,
   "metadata": {
    "pycharm": {
     "name": "#%%\n"
    }
   },
   "outputs": [
    {
     "name": "stdout",
     "output_type": "stream",
     "text": [
      "a:  [[36 44 82  5]\n",
      " [21 53 81 77]]\n",
      "排序后:  [[36 44 82  5]\n",
      " [21 53 81 77]]\n"
     ]
    }
   ],
   "source": [
    "# 生成随机整数，0-100之间 2行4列\n",
    "a = np.random.randint(0, 100, size=(2, 4))\n",
    "print(\"a: \",a)\n",
    "np.sort(a)\n",
    "print(\"排序后: \",a)"
   ]
  },
  {
   "cell_type": "code",
   "execution_count": 86,
   "metadata": {
    "pycharm": {
     "name": "#%%\n"
    }
   },
   "outputs": [
    {
     "name": "stdout",
     "output_type": "stream",
     "text": [
      "排序后：\n",
      " [[ 5 36 44 82]\n",
      " [21 53 77 81]]\n"
     ]
    }
   ],
   "source": [
    "print(\"排序后：\\n\", np.sort(a, axis=1))  # 默认是按照行来进行排序"
   ]
  },
  {
   "cell_type": "code",
   "execution_count": 87,
   "metadata": {
    "pycharm": {
     "name": "#%%\n"
    }
   },
   "outputs": [
    {
     "name": "stdout",
     "output_type": "stream",
     "text": [
      "按列排序后：\n",
      " [[21 44 81  5]\n",
      " [36 53 82 77]]\n"
     ]
    }
   ],
   "source": [
    "print(\"按列排序后：\\n\", np.sort(a, axis=0))  # 按列"
   ]
  },
  {
   "cell_type": "code",
   "execution_count": 88,
   "metadata": {
    "scrolled": true,
    "pycharm": {
     "name": "#%%\n"
    }
   },
   "outputs": [
    {
     "name": "stdout",
     "output_type": "stream",
     "text": [
      "倒序排序：\n",
      " [[82 44 36  5]\n",
      " [81 77 53 21]]\n"
     ]
    }
   ],
   "source": [
    "# np.sort不支持倒序排序，所以只能负负得正 \n",
    "print(\"倒序排序：\\n\", -np.sort(-a))"
   ]
  },
  {
   "cell_type": "markdown",
   "metadata": {
    "pycharm": {
     "name": "#%% md\n"
    }
   },
   "source": [
    "### 6. 组合数组\n",
    "- 使用hstack函数实现数组横向组合：np.hstack((arr1,arr2))\n",
    "- 使用vstack函数实现数组纵向组合：np.vstack((arr1,arr2))\n",
    "- 使用concatenate函数实现数组横向组合：np.concatenate((arr1,arr2),axis = 1))\n",
    "- 使用concatenate函数实现数组纵向组合：np.concatenate((arr1,arr2),axis = 0))\n"
   ]
  },
  {
   "cell_type": "code",
   "execution_count": 89,
   "metadata": {
    "scrolled": true,
    "pycharm": {
     "name": "#%%\n"
    }
   },
   "outputs": [
    {
     "name": "stdout",
     "output_type": "stream",
     "text": [
      "[[0 1 2 3 4]\n",
      " [5 6 7 8 9]]\n",
      "[[10 11 12 13 14]\n",
      " [15 16 17 18 19]]\n"
     ]
    }
   ],
   "source": [
    "a = np.arange(10).reshape(2, 5)\n",
    "b = np.arange(10,20,1).reshape(2, 5)\n",
    "print(a)\n",
    "print(b)"
   ]
  },
  {
   "cell_type": "code",
   "execution_count": 90,
   "metadata": {
    "pycharm": {
     "name": "#%%\n"
    }
   },
   "outputs": [
    {
     "data": {
      "text/plain": [
       "array([[ 0,  1,  2,  3,  4, 10, 11, 12, 13, 14],\n",
       "       [ 5,  6,  7,  8,  9, 15, 16, 17, 18, 19]])"
      ]
     },
     "execution_count": 90,
     "metadata": {},
     "output_type": "execute_result"
    }
   ],
   "source": [
    "  # 横向拼接，要求两个矩阵的行相同\n",
    "np.hstack((a, b))"
   ]
  },
  {
   "cell_type": "code",
   "execution_count": 91,
   "metadata": {
    "pycharm": {
     "name": "#%%\n"
    }
   },
   "outputs": [
    {
     "data": {
      "text/plain": [
       "array([[ 0,  1,  2,  3,  4],\n",
       "       [ 5,  6,  7,  8,  9],\n",
       "       [10, 11, 12, 13, 14],\n",
       "       [15, 16, 17, 18, 19]])"
      ]
     },
     "execution_count": 91,
     "metadata": {},
     "output_type": "execute_result"
    }
   ],
   "source": [
    "   # 纵向拼接，要求两个矩阵的列数相同\n",
    "np.vstack((a, b))"
   ]
  },
  {
   "cell_type": "code",
   "execution_count": 94,
   "metadata": {
    "pycharm": {
     "name": "#%%\n"
    }
   },
   "outputs": [
    {
     "data": {
      "text/plain": [
       "array([[ 0,  1,  2,  3,  4, 10, 11, 12, 13, 14],\n",
       "       [ 5,  6,  7,  8,  9, 15, 16, 17, 18, 19]])"
      ]
     },
     "execution_count": 94,
     "metadata": {},
     "output_type": "execute_result"
    }
   ],
   "source": [
    "  # 横向  == hstack\n",
    "np.concatenate((a,b), axis=1)"
   ]
  },
  {
   "cell_type": "code",
   "execution_count": 95,
   "metadata": {
    "pycharm": {
     "name": "#%%\n"
    }
   },
   "outputs": [
    {
     "data": {
      "text/plain": [
       "array([[ 0,  1,  2,  3,  4, 10, 11, 12, 13, 14],\n",
       "       [ 5,  6,  7,  8,  9, 15, 16, 17, 18, 19]])"
      ]
     },
     "execution_count": 95,
     "metadata": {},
     "output_type": "execute_result"
    }
   ],
   "source": [
    "   # 纵向 == vstack\n",
    "np.concatenate((a,b), axis=1)"
   ]
  },
  {
   "cell_type": "markdown",
   "metadata": {
    "pycharm": {
     "name": "#%% md\n"
    }
   },
   "source": [
    "### 7. 文件读写 np.savetxt  np.loadtxt"
   ]
  },
  {
   "cell_type": "code",
   "execution_count": 99,
   "metadata": {
    "pycharm": {
     "name": "#%%\n"
    }
   },
   "outputs": [
    {
     "name": "stdout",
     "output_type": "stream",
     "text": [
      "[[0.84633008 0.89864805 0.44811377 0.58146169 0.13542572]\n",
      " [0.28771426 0.81566369 0.75851313 0.1389316  0.23734225]]\n"
     ]
    }
   ],
   "source": [
    "a = np.random.random(10).reshape(2, 5)  # np.random.random 生成（0，1）之间的数据\n",
    "print(a)\n",
    "# 保存到/data/tmp1.txt中\n",
    "np.savetxt('data/tmp1.csv', a)\n",
    "np.savetxt('data/tmp1.csv', a)"
   ]
  },
  {
   "cell_type": "code",
   "execution_count": 98,
   "metadata": {
    "pycharm": {
     "name": "#%%\n"
    }
   },
   "outputs": [
    {
     "name": "stdout",
     "output_type": "stream",
     "text": [
      "[[0.11556675 0.93243202 0.6141953  0.18193695 0.6473246 ]\n",
      " [0.10636868 0.80406329 0.60622686 0.70323782 0.18474314]]\n"
     ]
    }
   ],
   "source": [
    "# 从/data/tmp1.txt中读取数据\n",
    "b = np.loadtxt('data/tmp1.text')\n",
    "print(b)"
   ]
  }
 ],
 "metadata": {
  "kernelspec": {
   "display_name": "Python 3 (ipykernel)",
   "language": "python",
   "name": "python3"
  },
  "language_info": {
   "codemirror_mode": {
    "name": "ipython",
    "version": 3
   },
   "file_extension": ".py",
   "mimetype": "text/x-python",
   "name": "python",
   "nbconvert_exporter": "python",
   "pygments_lexer": "ipython3",
   "version": "3.9.7"
  },
  "toc": {
   "base_numbering": 1,
   "nav_menu": {},
   "number_sections": false,
   "sideBar": true,
   "skip_h1_title": false,
   "title_cell": "Table of Contents",
   "title_sidebar": "Contents",
   "toc_cell": false,
   "toc_position": {
    "height": "calc(100% - 180px)",
    "left": "10px",
    "top": "150px",
    "width": "286.001px"
   },
   "toc_section_display": true,
   "toc_window_display": true
  },
  "varInspector": {
   "cols": {
    "lenName": 16,
    "lenType": 16,
    "lenVar": 40
   },
   "kernels_config": {
    "python": {
     "delete_cmd_postfix": "",
     "delete_cmd_prefix": "del ",
     "library": "var_list.py",
     "varRefreshCmd": "print(var_dic_list())"
    },
    "r": {
     "delete_cmd_postfix": ") ",
     "delete_cmd_prefix": "rm(",
     "library": "var_list.r",
     "varRefreshCmd": "cat(var_dic_list()) "
    }
   },
   "types_to_exclude": [
    "module",
    "function",
    "builtin_function_or_method",
    "instance",
    "_Feature"
   ],
   "window_display": false
  }
 },
 "nbformat": 4,
 "nbformat_minor": 2
}