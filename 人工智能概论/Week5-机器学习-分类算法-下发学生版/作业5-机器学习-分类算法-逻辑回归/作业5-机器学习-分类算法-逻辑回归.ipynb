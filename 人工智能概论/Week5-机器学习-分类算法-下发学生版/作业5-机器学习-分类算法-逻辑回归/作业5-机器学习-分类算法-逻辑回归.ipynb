{
 "cells": [
  {
   "cell_type": "markdown",
   "metadata": {
    "pycharm": {
     "name": "#%% md\n"
    }
   },
   "source": [
    "# 作业5：机器学习-分类算法-逻辑回归\n",
    "#### 要求：\n",
    "- 在Python Jupyter中回答，需运行出结果。\n",
    "- 网页-打印-另存为pdf，命名：作业5-班级-学号后两位-姓名.pdf\n",
    "- 按时上传职教云，过期不补。"
   ]
  },
  {
   "cell_type": "markdown",
   "metadata": {
    "pycharm": {
     "name": "#%% md\n"
    }
   },
   "source": [
    "### 任务一：逻辑回归可视化：是否录取模型（分类）\n",
    "- 数据：data/ex2data1.txt\n",
    "- 字段1：exam1，科目1成绩\n",
    "- 字段2：exam2，科目2成绩\n",
    "- 字段3：Admitted，是否被录取，1被录取，0未录取。"
   ]
  },
  {
   "cell_type": "code",
   "execution_count": 1,
   "metadata": {
    "pycharm": {
     "name": "#%%\n"
    }
   },
   "outputs": [],
   "source": [
    "# 导入必要的包\n",
    "import pandas as pd # 导入pandas\n",
    "import matplotlib.pyplot as plt\n",
    "from sklearn.model_selection import train_test_split # 训练集 测试集拆分\n",
    "from sklearn.linear_model import LogisticRegression# 逻辑回归\n",
    "from sklearn.preprocessing import StandardScaler\n",
    "from sklearn.metrics import confusion_matrix # 混淆矩阵\n",
    "from sklearn.metrics import classification_report # 分类报告：包含了精度，召回率和f1值"
   ]
  },
  {
   "cell_type": "markdown",
   "metadata": {
    "pycharm": {
     "name": "#%% md\n"
    }
   },
   "source": [
    "### 1. 数据加载"
   ]
  },
  {
   "cell_type": "code",
   "execution_count": 2,
   "metadata": {
    "pycharm": {
     "name": "#%%\n"
    }
   },
   "outputs": [
    {
     "data": {
      "text/html": [
       "<div>\n",
       "<style scoped>\n",
       "    .dataframe tbody tr th:only-of-type {\n",
       "        vertical-align: middle;\n",
       "    }\n",
       "\n",
       "    .dataframe tbody tr th {\n",
       "        vertical-align: top;\n",
       "    }\n",
       "\n",
       "    .dataframe thead th {\n",
       "        text-align: right;\n",
       "    }\n",
       "</style>\n",
       "<table border=\"1\" class=\"dataframe\">\n",
       "  <thead>\n",
       "    <tr style=\"text-align: right;\">\n",
       "      <th></th>\n",
       "      <th>exam1</th>\n",
       "      <th>exam2</th>\n",
       "      <th>Admitted</th>\n",
       "    </tr>\n",
       "  </thead>\n",
       "  <tbody>\n",
       "    <tr>\n",
       "      <th>0</th>\n",
       "      <td>34.623660</td>\n",
       "      <td>78.024693</td>\n",
       "      <td>0</td>\n",
       "    </tr>\n",
       "    <tr>\n",
       "      <th>1</th>\n",
       "      <td>30.286711</td>\n",
       "      <td>43.894998</td>\n",
       "      <td>0</td>\n",
       "    </tr>\n",
       "    <tr>\n",
       "      <th>2</th>\n",
       "      <td>35.847409</td>\n",
       "      <td>72.902198</td>\n",
       "      <td>0</td>\n",
       "    </tr>\n",
       "    <tr>\n",
       "      <th>3</th>\n",
       "      <td>60.182599</td>\n",
       "      <td>86.308552</td>\n",
       "      <td>1</td>\n",
       "    </tr>\n",
       "    <tr>\n",
       "      <th>4</th>\n",
       "      <td>79.032736</td>\n",
       "      <td>75.344376</td>\n",
       "      <td>1</td>\n",
       "    </tr>\n",
       "  </tbody>\n",
       "</table>\n",
       "</div>"
      ],
      "text/plain": [
       "       exam1      exam2  Admitted\n",
       "0  34.623660  78.024693         0\n",
       "1  30.286711  43.894998         0\n",
       "2  35.847409  72.902198         0\n",
       "3  60.182599  86.308552         1\n",
       "4  79.032736  75.344376         1"
      ]
     },
     "execution_count": 2,
     "metadata": {},
     "output_type": "execute_result"
    }
   ],
   "source": [
    "# 数据加载\n",
    "data = pd.read_csv('data/ex2data1.txt', header=None, names=[\"exam1\", \"exam2\", \"Admitted\"])\n",
    "data.head()"
   ]
  },
  {
   "cell_type": "code",
   "execution_count": 3,
   "metadata": {
    "scrolled": true,
    "pycharm": {
     "name": "#%%\n"
    }
   },
   "outputs": [
    {
     "name": "stdout",
     "output_type": "stream",
     "text": [
      "<class 'pandas.core.frame.DataFrame'>\n",
      "RangeIndex: 100 entries, 0 to 99\n",
      "Data columns (total 3 columns):\n",
      " #   Column    Non-Null Count  Dtype  \n",
      "---  ------    --------------  -----  \n",
      " 0   exam1     100 non-null    float64\n",
      " 1   exam2     100 non-null    float64\n",
      " 2   Admitted  100 non-null    int64  \n",
      "dtypes: float64(2), int64(1)\n",
      "memory usage: 2.5 KB\n"
     ]
    }
   ],
   "source": [
    "# 查看数据基本信息\n",
    "data.info()"
   ]
  },
  {
   "cell_type": "code",
   "execution_count": 4,
   "metadata": {
    "pycharm": {
     "name": "#%%\n"
    }
   },
   "outputs": [
    {
     "data": {
      "text/plain": [
       "1    60\n",
       "0    40\n",
       "Name: Admitted, dtype: int64"
      ]
     },
     "execution_count": 4,
     "metadata": {},
     "output_type": "execute_result"
    }
   ],
   "source": [
    "# 查看目标字段的数据分布\n",
    "data['Admitted'].value_counts()"
   ]
  },
  {
   "cell_type": "code",
   "execution_count": 5,
   "metadata": {
    "scrolled": true,
    "pycharm": {
     "name": "#%%\n"
    }
   },
   "outputs": [
    {
     "data": {
      "image/png": "[encoded data removed]",
      "text/plain": [
       "<Figure size 576x288 with 1 Axes>"
      ]
     },
     "metadata": {
      "needs_background": "light"
     },
     "output_type": "display_data"
    }
   ],
   "source": [
    "# 数据可视化：通过的用绿色o表示，未通过用红色x表示，观察数据\n",
    "plt.figure(figsize=(8, 4))\n",
    "\n",
    "x0 = data[data['Admitted'] == 0].drop(['exam2', 'Admitted'], axis=1)\n",
    "y0 = data[data['Admitted'] == 0].drop(['exam1', 'Admitted'], axis=1)\n",
    "\n",
    "x1 = data[data['Admitted'] == 1].drop(['exam2', 'Admitted'], axis=1)\n",
    "y1 = data[data['Admitted'] == 1].drop(['exam1', 'Admitted'], axis=1)\n",
    "\n",
    "plt.scatter(x0, y0, color='r', alpha=0.5, linewidths=3, marker='x', label='no')\n",
    "plt.scatter(x1, y1, color='g', alpha=0.5, linewidths=3, marker='o', label='yes')\n",
    "plt.legend()\n",
    "\n",
    "plt.xlabel('exam1-scro')\n",
    "plt.ylabel(\"exam2-scro\")\n",
    "\n",
    "\n",
    "plt.show()\n",
    "\n"
   ]
  },
  {
   "cell_type": "markdown",
   "metadata": {
    "pycharm": {
     "name": "#%% md\n"
    }
   },
   "source": [
    "### 2. 数据集拆分"
   ]
  },
  {
   "cell_type": "code",
   "execution_count": 6,
   "metadata": {
    "pycharm": {
     "name": "#%%\n"
    }
   },
   "outputs": [],
   "source": [
    "# 生成特征矩阵X，目标变量y\n",
    "X = data.drop(['Admitted'], axis=1)\n",
    "y = data['Admitted']"
   ]
  },
  {
   "cell_type": "code",
   "execution_count": 7,
   "metadata": {
    "pycharm": {
     "name": "#%%\n"
    }
   },
   "outputs": [
    {
     "data": {
      "text/plain": [
       "((80, 2), (20, 2), (80,), (20,))"
      ]
     },
     "execution_count": 7,
     "metadata": {},
     "output_type": "execute_result"
    }
   ],
   "source": [
    "# 拆分训练集和测试集，分别为0.8，0.2，随机种子666\n",
    "X_train, X_test, y_train, y_test = train_test_split(X, y, test_size=0.2, random_state=666)\n",
    "X_train.shape, X_test.shape, y_train.shape, y_test.shape"
   ]
  },
  {
   "cell_type": "markdown",
   "metadata": {
    "pycharm": {
     "name": "#%% md\n"
    }
   },
   "source": [
    "### 3. 数据处理（这里数据两个字段，范围接近，可以不做标准化）\n",
    "### 4. 构建模型"
   ]
  },
  {
   "cell_type": "code",
   "execution_count": 8,
   "metadata": {
    "pycharm": {
     "name": "#%%\n"
    }
   },
   "outputs": [
    {
     "name": "stdout",
     "output_type": "stream",
     "text": [
      "逻辑回归的参数w和b分别是： [[0.22756937 0.19779402]] [-25.85537181]\n"
     ]
    }
   ],
   "source": [
    "# 构建逻辑回归模型\n",
    "lgr = LogisticRegression()\n",
    "# 用训练数据 训练模型\n",
    "lgr.fit(X_train, y_train)\n",
    "# 输出模型参数\n",
    "print('逻辑回归的参数w和b分别是：',  lgr.coef_, lgr.intercept_)"
   ]
  },
  {
   "cell_type": "markdown",
   "metadata": {
    "pycharm": {
     "name": "#%% md\n"
    }
   },
   "source": [
    "### 5. 模型评估"
   ]
  },
  {
   "cell_type": "code",
   "execution_count": 9,
   "metadata": {
    "pycharm": {
     "name": "#%%\n"
    }
   },
   "outputs": [
    {
     "name": "stdout",
     "output_type": "stream",
     "text": [
      "测试集上的混淆矩阵：\n",
      " [[27  4]\n",
      " [ 3 46]]\n",
      "\n",
      "训练集上的分类报告：\n",
      "               precision    recall  f1-score   support\n",
      "\n",
      "           0       0.90      0.87      0.89        31\n",
      "           1       0.92      0.94      0.93        49\n",
      "\n",
      "    accuracy                           0.91        80\n",
      "   macro avg       0.91      0.90      0.91        80\n",
      "weighted avg       0.91      0.91      0.91        80\n",
      "\n"
     ]
    }
   ],
   "source": [
    "# 模型评估\n",
    "# 混淆矩阵\n",
    "# 分类报告：包含了精度，召回率和f1值\n",
    "# 在训练集上的效果\n",
    "y_train_pred = lgr.predict(X_train)\n",
    "print('测试集上的混淆矩阵：\\n', confusion_matrix(y_train, y_train_pred))\n",
    "print('\\n训练集上的分类报告：\\n', classification_report(y_train, y_train_pred))"
   ]
  },
  {
   "cell_type": "code",
   "execution_count": 10,
   "metadata": {
    "scrolled": false,
    "pycharm": {
     "name": "#%%\n"
    }
   },
   "outputs": [
    {
     "name": "stdout",
     "output_type": "stream",
     "text": [
      "训练集上的混淆矩阵：\n",
      " [[ 7  2]\n",
      " [ 0 11]]\n",
      "\n",
      "训练集上的分类报告：\n",
      "               precision    recall  f1-score   support\n",
      "\n",
      "           0       1.00      0.78      0.88         9\n",
      "           1       0.85      1.00      0.92        11\n",
      "\n",
      "    accuracy                           0.90        20\n",
      "   macro avg       0.92      0.89      0.90        20\n",
      "weighted avg       0.92      0.90      0.90        20\n",
      "\n"
     ]
    }
   ],
   "source": [
    "# 在测试集上的效果\n",
    "y_test_pred = lgr.predict(X_test)\n",
    "print('训练集上的混淆矩阵：\\n', confusion_matrix(y_test, y_test_pred))\n",
    "print('\\n训练集上的分类报告：\\n', classification_report(y_test, y_test_pred))"
   ]
  },
  {
   "cell_type": "markdown",
   "metadata": {
    "pycharm": {
     "name": "#%% md\n"
    }
   },
   "source": [
    "### 6. 模型可视化（选做）\n",
    "#### 画出模型的边界线，以及训练集和测试集的数据。  边界线：w1x1+w2x2+b = 0， x2 = -（w1x1+b）/w2\n",
    "#### 对照上面的训练集和测试集的分类报告，找到对应关系。"
   ]
  },
  {
   "cell_type": "code",
   "execution_count": 15,
   "metadata": {
    "pycharm": {
     "name": "#%%\n"
    }
   },
   "outputs": [
    {
     "data": {
      "image/png": "[encoded data removed]",
      "text/plain": [
       "<Figure size 576x360 with 1 Axes>"
      ]
     },
     "metadata": {
      "needs_background": "light"
     },
     "output_type": "display_data"
    }
   ],
   "source": [
    "plt.figure(figsize=(8,5))\n",
    "df_train = pd.concat([X_train, y_train], axis=1)\n",
    "# train_no\n",
    "df_train_no_exam1 = df_train[df_train['Admitted']==0].drop([\"Admitted\", \"exam2\"],axis=1)\n",
    "# X_train[y_train == 1]\n",
    "df_train_no_exam2 = df_train[df_train['Admitted']==0].drop([\"Admitted\", \"exam1\"],axis=1)\n",
    "plt.scatter(df_train_no_exam1,df_train_no_exam2, color='r', alpha=0.5, linewidths=3, marker='x', label='train_no')\n",
    "\n",
    "# train_yes\n",
    "df_train_yes_exam1 = df_train[df_train['Admitted']==1].drop([\"Admitted\", \"exam2\"],axis=1)\n",
    "df_train_yes_exam2 = df_train[df_train['Admitted']==1].drop([\"Admitted\", \"exam1\"],axis=1)\n",
    "plt.scatter(df_train_yes_exam1,df_train_yes_exam2, color='g', alpha=0.5, linewidths=3, marker='o', label='train_yes')\n",
    "\n",
    "# test_no\n",
    "df_test = pd.concat([X_test, y_test], axis=1)\n",
    "df_test_no_exam1 = df_test[df_test['Admitted']==0].drop([\"Admitted\", \"exam2\"],axis=1)\n",
    "df_test_no_exam2 = df_test[df_test['Admitted']==0].drop([\"Admitted\", \"exam1\"],axis=1)\n",
    "plt.scatter(df_test_no_exam1,df_test_no_exam2, color='#800080', alpha=0.5, linewidths=3, marker='x', label='test_no')\n",
    "\n",
    "# test_yes\n",
    "df_test = pd.concat([X_test, y_test], axis=1)\n",
    "df_test_yes_exam1 = df_test[df_test['Admitted']==1].drop([\"Admitted\", \"exam2\"],axis=1)\n",
    "df_test_yes_exam2 = df_test[df_test['Admitted']==1].drop([\"Admitted\", \"exam1\"],axis=1)\n",
    "plt.scatter(df_test_yes_exam1,df_test_yes_exam2, color='b', alpha=0.5, linewidths=3, marker='o', label='test_yes')\n",
    "\n",
    "# boundary 这个不会画\n",
    "import numpy as np\n",
    "w1 = lgr.coef_[0][0]\n",
    "w2 = lgr.coef_[0][1]\n",
    "b = lgr.intercept_[0]\n",
    "boundary_x = np.linspace(20, 100, 100)\n",
    "boundary_y = -(w1 * boundary_x + b) / w2\n",
    "plt.plot(boundary_x, boundary_y, label='boundary')\n",
    "\n",
    "plt.xlabel('exam1-scro')\n",
    "plt.ylabel(\"exam2-scro\")\n",
    "plt.legend()\n",
    "plt.show()"
   ]
  },
  {
   "cell_type": "code",
   "execution_count": null,
   "metadata": {
    "pycharm": {
     "name": "#%%\n"
    }
   },
   "outputs": [],
   "source": []
  },
  {
   "cell_type": "code",
   "execution_count": 38,
   "metadata": {
    "pycharm": {
     "name": "#%%\n"
    }
   },
   "outputs": [
    {
     "data": {
      "text/plain": [
       "Text(0, 0.5, 'Exam2-score')"
      ]
     },
     "execution_count": 38,
     "metadata": {},
     "output_type": "execute_result"
    },
    {
     "data": {
      "image/png": "[encoded data removed]",
      "text/plain": [
       "<Figure size 720x432 with 1 Axes>"
      ]
     },
     "metadata": {
      "needs_background": "light"
     },
     "output_type": "display_data"
    }
   ],
   "source": [
    "# 画出模型的分界线，以及训练集和测试集的数据\n",
    "\n",
    "\n"
   ]
  },
  {
   "cell_type": "code",
   "execution_count": null,
   "metadata": {
    "pycharm": {
     "name": "#%%\n"
    }
   },
   "outputs": [],
   "source": []
  },
  {
   "cell_type": "code",
   "execution_count": null,
   "metadata": {
    "pycharm": {
     "name": "#%%\n"
    }
   },
   "outputs": [],
   "source": []
  }
 ],
 "metadata": {
  "kernelspec": {
   "display_name": "Python 3 (ipykernel)",
   "language": "python",
   "name": "python3"
  },
  "language_info": {
   "codemirror_mode": {
    "name": "ipython",
    "version": 3
   },
   "file_extension": ".py",
   "mimetype": "text/x-python",
   "name": "python",
   "nbconvert_exporter": "python",
   "pygments_lexer": "ipython3",
   "version": "3.9.7"
  },
  "varInspector": {
   "cols": {
    "lenName": 16,
    "lenType": 16,
    "lenVar": 40
   },
   "kernels_config": {
    "python": {
     "delete_cmd_postfix": "",
     "delete_cmd_prefix": "del ",
     "library": "var_list.py",
     "varRefreshCmd": "print(var_dic_list())"
    },
    "r": {
     "delete_cmd_postfix": ") ",
     "delete_cmd_prefix": "rm(",
     "library": "var_list.r",
     "varRefreshCmd": "cat(var_dic_list()) "
    }
   },
   "types_to_exclude": [
    "module",
    "function",
    "builtin_function_or_method",
    "instance",
    "_Feature"
   ],
   "window_display": false
  }
 },
 "nbformat": 4,
 "nbformat_minor": 4
}