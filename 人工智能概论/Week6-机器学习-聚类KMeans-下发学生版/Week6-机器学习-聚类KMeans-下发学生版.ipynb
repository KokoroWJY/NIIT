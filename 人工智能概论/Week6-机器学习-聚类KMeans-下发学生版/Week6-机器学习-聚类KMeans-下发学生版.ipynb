{
 "cells": [
  {
   "cell_type": "markdown",
   "metadata": {
    "pycharm": {
     "name": "#%% md\n"
    }
   },
   "source": [
    "# Week6-机器学习-聚类-KMeans实战\n",
    "- sklearn 中文社区： https://scikit-learn.org.cn/\n",
    "- KMeans聚类：https://scikit-learn.org.cn/view/383.html\n",
    "- 英文官网：https://scikit-learn.org/stable/"
   ]
  },
  {
   "cell_type": "markdown",
   "metadata": {
    "pycharm": {
     "name": "#%% md\n"
    }
   },
   "source": [
    "## 案例描述\n",
    "一个黑暗的小屋里，一个黑箱子中有一堆水果，但看不到有什么，那怎么能知道有几种水果，哪几个水果是同一种呢？\n",
    "1. 对于人类我们可以伸手去摸，通过水果的大小、形状，来猜测不同的水果类别，并根据经验，说明水果的名称。\n",
    "2. 对于机器学习算法而言，只要知道每一个水果的大小、形状的数据，就可以归纳出一些规律，即可把同一类水果挑出来。"
   ]
  },
  {
   "cell_type": "markdown",
   "metadata": {
    "pycharm": {
     "name": "#%% md\n"
    }
   },
   "source": [
    "## 实训目标\n",
    "- 了解聚类要做什么\n",
    "- 学会使用Kmeans构建模型\n",
    "- 学会聚类的评价指标"
   ]
  },
  {
   "cell_type": "markdown",
   "metadata": {
    "pycharm": {
     "name": "#%% md\n"
    }
   },
   "source": [
    "### K-Means的算法如下：\n",
    "    1. 随机选取K个簇中心点。\n",
    "    2. 分簇：将每个点，计算该点到K个中心的距离，将其分配到最近的簇，形成K个簇。 \n",
    "    3. 计算新的簇中心：对于上一步聚类的结果，进行平均计算，得出该簇的新的聚类中心。 \n",
    "    4. 重复上述两步/直到迭代结束：簇中心（质心）不再发生变化。"
   ]
  },
  {
   "cell_type": "markdown",
   "metadata": {
    "pycharm": {
     "name": "#%% md\n"
    }
   },
   "source": [
    "## 实训步骤\n",
    "1. 加载数据集\n",
    "2. 数据预处理\n",
    "3. 构建模型\n",
    "4. 评价模型"
   ]
  },
  {
   "cell_type": "code",
   "execution_count": 3,
   "metadata": {
    "pycharm": {
     "name": "#%%\n"
    }
   },
   "outputs": [],
   "source": [
    "# 导入包\n",
    "import numpy as np\n",
    "import pandas as pd\n",
    "import matplotlib.pyplot as plt"
   ]
  },
  {
   "cell_type": "markdown",
   "metadata": {
    "pycharm": {
     "name": "#%% md\n"
    }
   },
   "source": [
    "### 1. 数据加载"
   ]
  },
  {
   "cell_type": "code",
   "execution_count": 8,
   "metadata": {
    "pycharm": {
     "name": "#%%\n"
    }
   },
   "outputs": [
    {
     "data": {
      "text/html": [
       "<div>\n",
       "<style scoped>\n",
       "    .dataframe tbody tr th:only-of-type {\n",
       "        vertical-align: middle;\n",
       "    }\n",
       "\n",
       "    .dataframe tbody tr th {\n",
       "        vertical-align: top;\n",
       "    }\n",
       "\n",
       "    .dataframe thead th {\n",
       "        text-align: right;\n",
       "    }\n",
       "</style>\n",
       "<table border=\"1\" class=\"dataframe\">\n",
       "  <thead>\n",
       "    <tr style=\"text-align: right;\">\n",
       "      <th></th>\n",
       "      <th>x1</th>\n",
       "      <th>x2</th>\n",
       "    </tr>\n",
       "  </thead>\n",
       "  <tbody>\n",
       "    <tr>\n",
       "      <th>0</th>\n",
       "      <td>1.658985</td>\n",
       "      <td>4.285136</td>\n",
       "    </tr>\n",
       "    <tr>\n",
       "      <th>1</th>\n",
       "      <td>-3.453687</td>\n",
       "      <td>3.424321</td>\n",
       "    </tr>\n",
       "    <tr>\n",
       "      <th>2</th>\n",
       "      <td>4.838138</td>\n",
       "      <td>-1.151539</td>\n",
       "    </tr>\n",
       "    <tr>\n",
       "      <th>3</th>\n",
       "      <td>-5.379713</td>\n",
       "      <td>-3.362104</td>\n",
       "    </tr>\n",
       "    <tr>\n",
       "      <th>4</th>\n",
       "      <td>0.972564</td>\n",
       "      <td>2.924086</td>\n",
       "    </tr>\n",
       "  </tbody>\n",
       "</table>\n",
       "</div>"
      ],
      "text/plain": [
       "         x1        x2\n",
       "0  1.658985  4.285136\n",
       "1 -3.453687  3.424321\n",
       "2  4.838138 -1.151539\n",
       "3 -5.379713 -3.362104\n",
       "4  0.972564  2.924086"
      ]
     },
     "execution_count": 8,
     "metadata": {},
     "output_type": "execute_result"
    }
   ],
   "source": [
    "# ./data/testSet.txt'\n",
    "data = pd.read_csv(\"./data/testSet.txt\", names=['x1', 'x2'], header=None, sep='\\t')\n",
    "data.head()"
   ]
  },
  {
   "cell_type": "code",
   "execution_count": 9,
   "metadata": {
    "pycharm": {
     "name": "#%%\n"
    }
   },
   "outputs": [
    {
     "name": "stdout",
     "output_type": "stream",
     "text": [
      "<class 'pandas.core.frame.DataFrame'>\n",
      "RangeIndex: 80 entries, 0 to 79\n",
      "Data columns (total 2 columns):\n",
      " #   Column  Non-Null Count  Dtype  \n",
      "---  ------  --------------  -----  \n",
      " 0   x1      80 non-null     float64\n",
      " 1   x2      80 non-null     float64\n",
      "dtypes: float64(2)\n",
      "memory usage: 1.4 KB\n"
     ]
    }
   ],
   "source": [
    "data.info()"
   ]
  },
  {
   "cell_type": "code",
   "execution_count": 10,
   "metadata": {
    "pycharm": {
     "name": "#%%\n"
    }
   },
   "outputs": [
    {
     "data": {
      "text/html": [
       "<div>\n",
       "<style scoped>\n",
       "    .dataframe tbody tr th:only-of-type {\n",
       "        vertical-align: middle;\n",
       "    }\n",
       "\n",
       "    .dataframe tbody tr th {\n",
       "        vertical-align: top;\n",
       "    }\n",
       "\n",
       "    .dataframe thead th {\n",
       "        text-align: right;\n",
       "    }\n",
       "</style>\n",
       "<table border=\"1\" class=\"dataframe\">\n",
       "  <thead>\n",
       "    <tr style=\"text-align: right;\">\n",
       "      <th></th>\n",
       "      <th>x1</th>\n",
       "      <th>x2</th>\n",
       "    </tr>\n",
       "  </thead>\n",
       "  <tbody>\n",
       "    <tr>\n",
       "      <th>count</th>\n",
       "      <td>80.000000</td>\n",
       "      <td>80.000000</td>\n",
       "    </tr>\n",
       "    <tr>\n",
       "      <th>mean</th>\n",
       "      <td>-0.103613</td>\n",
       "      <td>0.054301</td>\n",
       "    </tr>\n",
       "    <tr>\n",
       "      <th>std</th>\n",
       "      <td>3.037579</td>\n",
       "      <td>3.053647</td>\n",
       "    </tr>\n",
       "    <tr>\n",
       "      <th>min</th>\n",
       "      <td>-5.379713</td>\n",
       "      <td>-4.232586</td>\n",
       "    </tr>\n",
       "    <tr>\n",
       "      <th>25%</th>\n",
       "      <td>-2.836842</td>\n",
       "      <td>-3.012599</td>\n",
       "    </tr>\n",
       "    <tr>\n",
       "      <th>50%</th>\n",
       "      <td>0.029122</td>\n",
       "      <td>0.152819</td>\n",
       "    </tr>\n",
       "    <tr>\n",
       "      <th>75%</th>\n",
       "      <td>2.635250</td>\n",
       "      <td>2.940614</td>\n",
       "    </tr>\n",
       "    <tr>\n",
       "      <th>max</th>\n",
       "      <td>4.838138</td>\n",
       "      <td>5.190400</td>\n",
       "    </tr>\n",
       "  </tbody>\n",
       "</table>\n",
       "</div>"
      ],
      "text/plain": [
       "              x1         x2\n",
       "count  80.000000  80.000000\n",
       "mean   -0.103613   0.054301\n",
       "std     3.037579   3.053647\n",
       "min    -5.379713  -4.232586\n",
       "25%    -2.836842  -3.012599\n",
       "50%     0.029122   0.152819\n",
       "75%     2.635250   2.940614\n",
       "max     4.838138   5.190400"
      ]
     },
     "execution_count": 10,
     "metadata": {},
     "output_type": "execute_result"
    }
   ],
   "source": [
    "data.describe()"
   ]
  },
  {
   "cell_type": "code",
   "execution_count": 16,
   "metadata": {
    "scrolled": true,
    "pycharm": {
     "name": "#%%\n"
    }
   },
   "outputs": [
    {
     "data": {
      "image/png": "[encoded data removed]",
      "text/plain": [
       "<Figure size 432x288 with 1 Axes>"
      ]
     },
     "metadata": {
      "needs_background": "light"
     },
     "output_type": "display_data"
    }
   ],
   "source": [
    "# 原始数据可视化\n",
    "plt.figure(figsize=(6,4))\n",
    "plt.scatter(data['x1'], data['x2'])\n",
    "plt.show()"
   ]
  },
  {
   "cell_type": "markdown",
   "metadata": {
    "pycharm": {
     "name": "#%% md\n"
    }
   },
   "source": [
    "### 2. 数据预处理（此案例中数据没有缺失值，且不用标准化，可略）\n",
    "### 3. 构建KMeans模型 \n",
    "- KMeans聚类：https://scikit-learn.org.cn/view/383.html"
   ]
  },
  {
   "cell_type": "code",
   "execution_count": 29,
   "metadata": {
    "pycharm": {
     "name": "#%%\n"
    }
   },
   "outputs": [
    {
     "name": "stdout",
     "output_type": "stream",
     "text": [
      "计算得到的3个簇的中心分别是：\n",
      " [[ 2.8692781  -2.54779119]\n",
      " [-0.02298687  2.99472915]\n",
      " [-3.38237045 -2.9473363 ]]\n",
      "共计迭代次数: 3\n",
      "样本到其最近的聚类中心的平方距离之和: 405.13810196190354\n",
      "每个样本所属的簇：\n",
      " [1 1 0 2 1 1 0 2 1 1 0 2 1 1 0 2 1 1 0 2 1 1 0 2 1 1 0 2 1 1 0 2 1 1 0 2 1\n",
      " 1 0 2 1 1 0 2 1 1 0 2 1 1 0 2 1 1 0 2 1 1 0 2 1 1 0 2 1 1 0 2 1 1 0 2 0 1\n",
      " 0 2 1 1 0 2]\n"
     ]
    }
   ],
   "source": [
    "# 加载KMeans\n",
    "from sklearn.cluster import KMeans\n",
    "\n",
    "# （1）初始化聚类器，指定分簇的数量K=3\n",
    "km3 = KMeans(n_clusters=3) # 必须手动设置\n",
    "\n",
    "# （2）训练数据\n",
    "km3.fit(data) # 无监督学习只需要传入x\n",
    "\n",
    "# （3）得到簇中心向量\n",
    "print('计算得到的3个簇的中心分别是：\\n', km3.cluster_centers_)\n",
    "print('共计迭代次数:', km3.n_iter_)\n",
    "print('样本到其最近的聚类中心的平方距离之和:', km3.inertia_) # 表示簇内样本凝聚程度, 值越小, 凝聚力越高\n",
    "\n",
    "# （4）每个样本所属的类\n",
    "label3 = km3.labels_\n",
    "print('每个样本所属的簇：\\n', label3)"
   ]
  },
  {
   "cell_type": "code",
   "execution_count": 28,
   "metadata": {
    "pycharm": {
     "name": "#%%\n"
    }
   },
   "outputs": [
    {
     "data": {
      "image/png": "[encoded data removed]",
      "text/plain": [
       "<Figure size 432x288 with 1 Axes>"
      ]
     },
     "metadata": {
      "needs_background": "light"
     },
     "output_type": "display_data"
    }
   ],
   "source": [
    "# 将二维数据点画图显示出来\n",
    "plt.figure(figsize=(6,4))\n",
    "plt.scatter(data['x1'][label3==0], data['x2'][label3==0], color='b')\n",
    "plt.scatter(data['x1'][label3==1], data['x2'][label3==1], color='g')\n",
    "plt.scatter(data['x1'][label3==2], data['x2'][label3==2], color='c')\n",
    "plt.scatter(km3.cluster_centers_[:,0], km3.cluster_centers_[:,1], color='r', marker='v', s=100)\n",
    "plt.show()"
   ]
  },
  {
   "cell_type": "markdown",
   "metadata": {
    "pycharm": {
     "name": "#%% md\n"
    }
   },
   "source": [
    "### 试试K= 4"
   ]
  },
  {
   "cell_type": "code",
   "execution_count": 44,
   "metadata": {
    "pycharm": {
     "name": "#%%\n"
    }
   },
   "outputs": [
    {
     "name": "stdout",
     "output_type": "stream",
     "text": [
      "计算得到的4个簇的中心分别是：\n",
      " [[-3.38237045 -2.9473363 ]\n",
      " [ 2.80293085 -2.7315146 ]\n",
      " [-2.46154315  2.78737555]\n",
      " [ 2.6265299   3.10868015]]\n",
      "共计迭代次数: 3\n",
      "\n",
      "每个样本所属的簇：\n",
      " [3 2 1 0 3 2 1 0 3 2 1 0 3 2 1 0 3 2 1 0 3 2 1 0 3 2 1 0 3 2 1 0 3 2 1 0 3\n",
      " 2 1 0 3 2 1 0 3 2 1 0 3 2 1 0 3 2 1 0 3 2 1 0 3 2 1 0 3 2 1 0 3 2 1 0 3 2\n",
      " 1 0 3 2 1 0]\n"
     ]
    }
   ],
   "source": [
    "km4 = KMeans(n_clusters=4)\n",
    "km4.fit(data)\n",
    "print('计算得到的4个簇的中心分别是：\\n', km4.cluster_centers_)\n",
    "print('共计迭代次数:', km4.n_iter_)\n",
    "\n",
    "\n",
    "label4 = km4.labels_\n",
    "print('\\n每个样本所属的簇：\\n', label4)"
   ]
  },
  {
   "cell_type": "code",
   "execution_count": 48,
   "metadata": {
    "pycharm": {
     "name": "#%%\n"
    }
   },
   "outputs": [
    {
     "data": {
      "text/plain": [
       "<matplotlib.collections.PathCollection at 0x170cb81ca60>"
      ]
     },
     "execution_count": 48,
     "metadata": {},
     "output_type": "execute_result"
    },
    {
     "data": {
      "image/png": "[encoded data removed]",
      "text/plain": [
       "<Figure size 576x360 with 1 Axes>"
      ]
     },
     "metadata": {
      "needs_background": "light"
     },
     "output_type": "display_data"
    }
   ],
   "source": [
    "# 将二维数据点画图显示出来 简写法\n",
    "color_list = np.array(['c','b','g','y'])\n",
    "plt.figure(figsize=(8,5))\n",
    "plt.scatter(data['x1'], data['x2'], color=color_list[label4]) # 通过label来取颜色\n",
    "plt.scatter(km4.cluster_centers_[:, 0], km4.cluster_centers_[:, 1], color='r', marker='v', s=100)"
   ]
  },
  {
   "cell_type": "markdown",
   "metadata": {
    "pycharm": {
     "name": "#%% md\n"
    }
   },
   "source": [
    "# 4. 模型评价及选择"
   ]
  },
  {
   "cell_type": "markdown",
   "metadata": {
    "pycharm": {
     "name": "#%% md\n"
    }
   },
   "source": [
    "### 聚类评估常用指标\n",
    "\n",
    "**1.轮廓系数（Silhouette Coefficient ）**\n",
    "- https://scikit-learn.org/stable/modules/generated/sklearn.metrics.silhouette_score.html\n",
    "- si接近1，则说明样本i聚类合理\n",
    "- si接近-1，则说明样本i更应该分类到另外的簇\n",
    "- 若si 近似为0，则说明样本i在两个簇的边界上。\n",
    "\n",
    "**2.簇内平方和 WCSS （Within Clustering Sum Squarts）**\n",
    "- KMeans.inertia_\n",
    "- 缺点：这个评价参数表示的是簇中某一个点到聚类中心的平方距离之和，这种方法虽然在评估参数最小时表现了聚类的精细性，但是这种情况会出现划分过于精细的状况，并且未考虑和簇外点的距离最大化，因此，更推荐使用轮廓系数，可搭配使用。"
   ]
  },
  {
   "cell_type": "code",
   "execution_count": 49,
   "metadata": {
    "pycharm": {
     "name": "#%%\n"
    }
   },
   "outputs": [
    {
     "name": "stdout",
     "output_type": "stream",
     "text": [
      "k=3, 轮廓系数=  0.5412898780057389\n",
      "k=4, 轮廓系数=  0.6558213071798628\n"
     ]
    }
   ],
   "source": [
    "# 轮廓系数：silhouette_score 约接近1越好\n",
    "from sklearn.metrics import silhouette_score # 轮廓系数\n",
    "print('k=3, 轮廓系数= ', silhouette_score(data, label3))\n",
    "print('k=4, 轮廓系数= ', silhouette_score(data, label4))\n",
    "# 结论: k=4优于k=3"
   ]
  },
  {
   "cell_type": "code",
   "execution_count": 51,
   "metadata": {
    "pycharm": {
     "name": "#%%\n"
    }
   },
   "outputs": [
    {
     "name": "stdout",
     "output_type": "stream",
     "text": [
      "K=3时, 簇内平方和= 405.13810196190354\n",
      "K=4时，簇内平方和= 149.95430467642635\n"
     ]
    }
   ],
   "source": [
    "# 样本到聚类中心的平方距离之和 # 越小越好\n",
    "print(\"K=3时, 簇内平方和= {}\\nK=4时，簇内平方和= {}\".format(km3.inertia_, km4.inertia_))"
   ]
  },
  {
   "cell_type": "markdown",
   "metadata": {
    "pycharm": {
     "name": "#%% md\n"
    }
   },
   "source": [
    "### 通过以上指标，很容易得出4个分簇，优于3个分簇。那么4个就是最优解了吗？\n",
    "- 尝试K=2,3,4,...,10试试看，找到效果最好的方案"
   ]
  },
  {
   "cell_type": "code",
   "execution_count": 53,
   "metadata": {
    "pycharm": {
     "name": "#%%\n"
    }
   },
   "outputs": [
    {
     "name": "stdout",
     "output_type": "stream",
     "text": [
      "轮廓系数结果:  [0.4573186176810804, 0.5412898780057389, 0.6558213071798628, 0.6098979828032716, 0.6025509668684299, 0.5330917994449569, 0.44985582679291747, 0.46300247502545455, 0.3612489698639795]\n",
      "簇内平方和分别是： [792.9168565373269, 405.13810196190354, 149.95430467642635, 123.99203711409866, 108.29261715351157, 93.79300348386928, 79.70761684310011, 74.62102803542169, 62.669904595334465]\n"
     ]
    }
   ],
   "source": [
    "sc = [] # 轮廓系数\n",
    "wcss = [] # 簇内距离平方和\n",
    "\n",
    "for i in np.arange(2, 11):\n",
    "    km = KMeans(n_clusters=i)\n",
    "    km.fit(data)\n",
    "    sc.append(silhouette_score(data, km.labels_))\n",
    "    wcss.append(km.inertia_)\n",
    "print('轮廓系数结果: ', sc)\n",
    "print('簇内平方和分别是：', wcss)"
   ]
  },
  {
   "cell_type": "code",
   "execution_count": 62,
   "metadata": {
    "pycharm": {
     "name": "#%%\n"
    }
   },
   "outputs": [
    {
     "data": {
      "text/plain": [
       "Text(0, 0.5, 'Within Clustering Sum Squarts')"
      ]
     },
     "execution_count": 62,
     "metadata": {},
     "output_type": "execute_result"
    },
    {
     "data": {
      "image/png": "[encoded data removed]",
      "text/plain": [
       "<Figure size 864x288 with 2 Axes>"
      ]
     },
     "metadata": {
      "needs_background": "light"
     },
     "output_type": "display_data"
    }
   ],
   "source": [
    "# 轮廓系数和簇内平方和的可视化\n",
    "plt.figure(figsize=(12, 4))\n",
    "\n",
    "x = np.arange(2,11)\n",
    "\n",
    "plt.subplot(1, 2, 1)\n",
    "plt.plot(x, sc, marker='o')\n",
    "plt.xlabel(\"Number of K \")\n",
    "plt.ylabel(\"Sihouette Score\")\n",
    "\n",
    "\n",
    "plt.subplot(1, 2, 2)\n",
    "plt.plot(x, wcss, marker='o')\n",
    "\n",
    "\n",
    "plt.xlabel(\"Number of K \")\n",
    "plt.ylabel(\"Within Clustering Sum Squarts\")"
   ]
  },
  {
   "cell_type": "code",
   "execution_count": 15,
   "metadata": {
    "pycharm": {
     "name": "#%%\n"
    }
   },
   "outputs": [
    {
     "data": {
      "text/plain": [
       "Text(0, 0.5, 'Within Clustering Sum Squarts')"
      ]
     },
     "execution_count": 15,
     "metadata": {},
     "output_type": "execute_result"
    },
    {
     "data": {
      "image/png": "[encoded data removed]",
      "text/plain": [
       "<Figure size 864x288 with 2 Axes>"
      ]
     },
     "metadata": {
      "needs_background": "light"
     },
     "output_type": "display_data"
    }
   ],
   "source": [
    "# 轮廓系数和簇内平方和的可视化\n",
    "plt.figuer(figsize=(8, 4))\n",
    "\n",
    "x = np.arange(2,11)\n",
    "\n",
    "plt.subplot(1, 2, 1)\n",
    "plt.plot(x, sc)\n",
    "\n",
    "plt.xlabel(\"Number of K \")\n",
    "plt.ylabel(\"Sihouette Score\")\n",
    "\n",
    "\n",
    "plt.xlabel(\"Number of K \")\n",
    "plt.ylabel(\"Within Clustering Sum Squarts\")"
   ]
  },
  {
   "cell_type": "markdown",
   "metadata": {
    "pycharm": {
     "name": "#%% md\n"
    }
   },
   "source": [
    "### 根据拐点选定K为最佳类别数，此案例中K=4\n",
    "---"
   ]
  },
  {
   "cell_type": "code",
   "execution_count": null,
   "metadata": {
    "pycharm": {
     "name": "#%%\n"
    }
   },
   "outputs": [],
   "source": []
  }
 ],
 "metadata": {
  "kernelspec": {
   "display_name": "Python 3 (ipykernel)",
   "language": "python",
   "name": "python3"
  },
  "language_info": {
   "codemirror_mode": {
    "name": "ipython",
    "version": 3
   },
   "file_extension": ".py",
   "mimetype": "text/x-python",
   "name": "python",
   "nbconvert_exporter": "python",
   "pygments_lexer": "ipython3",
   "version": "3.9.7"
  },
  "varInspector": {
   "cols": {
    "lenName": 16,
    "lenType": 16,
    "lenVar": 40
   },
   "kernels_config": {
    "python": {
     "delete_cmd_postfix": "",
     "delete_cmd_prefix": "del ",
     "library": "var_list.py",
     "varRefreshCmd": "print(var_dic_list())"
    },
    "r": {
     "delete_cmd_postfix": ") ",
     "delete_cmd_prefix": "rm(",
     "library": "var_list.r",
     "varRefreshCmd": "cat(var_dic_list()) "
    }
   },
   "types_to_exclude": [
    "module",
    "function",
    "builtin_function_or_method",
    "instance",
    "_Feature"
   ],
   "window_display": false
  }
 },
 "nbformat": 4,
 "nbformat_minor": 4
}