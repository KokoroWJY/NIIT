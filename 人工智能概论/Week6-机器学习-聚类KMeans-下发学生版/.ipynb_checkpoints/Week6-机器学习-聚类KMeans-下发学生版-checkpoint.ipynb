{
 "cells": [
  {
   "cell_type": "markdown",
   "metadata": {},
   "source": [
    "# Week6-机器学习-聚类-KMeans实战\n",
    "- sklearn 中文社区： https://scikit-learn.org.cn/\n",
    "- KMeans聚类：https://scikit-learn.org.cn/view/383.html\n",
    "- 英文官网：https://scikit-learn.org/stable/"
   ]
  },
  {
   "cell_type": "markdown",
   "metadata": {},
   "source": [
    "## 案例描述\n",
    "一个黑暗的小屋里，一个黑箱子中有一堆水果，但看不到有什么，那怎么能知道有几种水果，哪几个水果是同一种呢？\n",
    "1. 对于人类我们可以伸手去摸，通过水果的大小、形状，来猜测不同的水果类别，并根据经验，说明水果的名称。\n",
    "2. 对于机器学习算法而言，只要知道每一个水果的大小、形状的数据，就可以归纳出一些规律，即可把同一类水果挑出来。"
   ]
  },
  {
   "cell_type": "markdown",
   "metadata": {},
   "source": [
    "## 实训目标\n",
    "- 了解聚类要做什么\n",
    "- 学会使用Kmeans构建模型\n",
    "- 学会聚类的评价指标"
   ]
  },
  {
   "cell_type": "markdown",
   "metadata": {},
   "source": [
    "### K-Means的算法如下：\n",
    "    1. 随机选取K个簇中心点。\n",
    "    2. 分簇：将每个点，计算该点到K个中心的距离，将其分配到最近的簇，形成K个簇。 \n",
    "    3. 计算新的簇中心：对于上一步聚类的结果，进行平均计算，得出该簇的新的聚类中心。 \n",
    "    4. 重复上述两步/直到迭代结束：簇中心（质心）不再发生变化。"
   ]
  },
  {
   "cell_type": "markdown",
   "metadata": {},
   "source": [
    "## 实训步骤\n",
    "1. 加载数据集\n",
    "2. 数据预处理\n",
    "3. 构建模型\n",
    "4. 评价模型"
   ]
  },
  {
   "cell_type": "code",
   "execution_count": 1,
   "metadata": {},
   "outputs": [],
   "source": [
    "# 导入包\n",
    "import"
   ]
  },
  {
   "cell_type": "markdown",
   "metadata": {},
   "source": [
    "### 1. 数据加载"
   ]
  },
  {
   "cell_type": "code",
   "execution_count": 2,
   "metadata": {},
   "outputs": [
    {
     "data": {
      "text/html": [
       "<div>\n",
       "<style scoped>\n",
       "    .dataframe tbody tr th:only-of-type {\n",
       "        vertical-align: middle;\n",
       "    }\n",
       "\n",
       "    .dataframe tbody tr th {\n",
       "        vertical-align: top;\n",
       "    }\n",
       "\n",
       "    .dataframe thead th {\n",
       "        text-align: right;\n",
       "    }\n",
       "</style>\n",
       "<table border=\"1\" class=\"dataframe\">\n",
       "  <thead>\n",
       "    <tr style=\"text-align: right;\">\n",
       "      <th></th>\n",
       "      <th>x1</th>\n",
       "      <th>x2</th>\n",
       "    </tr>\n",
       "  </thead>\n",
       "  <tbody>\n",
       "    <tr>\n",
       "      <th>0</th>\n",
       "      <td>1.658985</td>\n",
       "      <td>4.285136</td>\n",
       "    </tr>\n",
       "    <tr>\n",
       "      <th>1</th>\n",
       "      <td>-3.453687</td>\n",
       "      <td>3.424321</td>\n",
       "    </tr>\n",
       "    <tr>\n",
       "      <th>2</th>\n",
       "      <td>4.838138</td>\n",
       "      <td>-1.151539</td>\n",
       "    </tr>\n",
       "    <tr>\n",
       "      <th>3</th>\n",
       "      <td>-5.379713</td>\n",
       "      <td>-3.362104</td>\n",
       "    </tr>\n",
       "    <tr>\n",
       "      <th>4</th>\n",
       "      <td>0.972564</td>\n",
       "      <td>2.924086</td>\n",
       "    </tr>\n",
       "  </tbody>\n",
       "</table>\n",
       "</div>"
      ],
      "text/plain": [
       "         x1        x2\n",
       "0  1.658985  4.285136\n",
       "1 -3.453687  3.424321\n",
       "2  4.838138 -1.151539\n",
       "3 -5.379713 -3.362104\n",
       "4  0.972564  2.924086"
      ]
     },
     "execution_count": 2,
     "metadata": {},
     "output_type": "execute_result"
    }
   ],
   "source": [
    "# ./data/testSet.txt'\n"
   ]
  },
  {
   "cell_type": "code",
   "execution_count": 3,
   "metadata": {},
   "outputs": [
    {
     "name": "stdout",
     "output_type": "stream",
     "text": [
      "<class 'pandas.core.frame.DataFrame'>\n",
      "RangeIndex: 80 entries, 0 to 79\n",
      "Data columns (total 2 columns):\n",
      " #   Column  Non-Null Count  Dtype  \n",
      "---  ------  --------------  -----  \n",
      " 0   x1      80 non-null     float64\n",
      " 1   x2      80 non-null     float64\n",
      "dtypes: float64(2)\n",
      "memory usage: 1.4 KB\n"
     ]
    }
   ],
   "source": []
  },
  {
   "cell_type": "code",
   "execution_count": 4,
   "metadata": {},
   "outputs": [
    {
     "data": {
      "text/html": [
       "<div>\n",
       "<style scoped>\n",
       "    .dataframe tbody tr th:only-of-type {\n",
       "        vertical-align: middle;\n",
       "    }\n",
       "\n",
       "    .dataframe tbody tr th {\n",
       "        vertical-align: top;\n",
       "    }\n",
       "\n",
       "    .dataframe thead th {\n",
       "        text-align: right;\n",
       "    }\n",
       "</style>\n",
       "<table border=\"1\" class=\"dataframe\">\n",
       "  <thead>\n",
       "    <tr style=\"text-align: right;\">\n",
       "      <th></th>\n",
       "      <th>x1</th>\n",
       "      <th>x2</th>\n",
       "    </tr>\n",
       "  </thead>\n",
       "  <tbody>\n",
       "    <tr>\n",
       "      <th>count</th>\n",
       "      <td>80.000000</td>\n",
       "      <td>80.000000</td>\n",
       "    </tr>\n",
       "    <tr>\n",
       "      <th>mean</th>\n",
       "      <td>-0.103613</td>\n",
       "      <td>0.054301</td>\n",
       "    </tr>\n",
       "    <tr>\n",
       "      <th>std</th>\n",
       "      <td>3.037579</td>\n",
       "      <td>3.053647</td>\n",
       "    </tr>\n",
       "    <tr>\n",
       "      <th>min</th>\n",
       "      <td>-5.379713</td>\n",
       "      <td>-4.232586</td>\n",
       "    </tr>\n",
       "    <tr>\n",
       "      <th>25%</th>\n",
       "      <td>-2.836842</td>\n",
       "      <td>-3.012599</td>\n",
       "    </tr>\n",
       "    <tr>\n",
       "      <th>50%</th>\n",
       "      <td>0.029122</td>\n",
       "      <td>0.152819</td>\n",
       "    </tr>\n",
       "    <tr>\n",
       "      <th>75%</th>\n",
       "      <td>2.635251</td>\n",
       "      <td>2.940614</td>\n",
       "    </tr>\n",
       "    <tr>\n",
       "      <th>max</th>\n",
       "      <td>4.838138</td>\n",
       "      <td>5.190400</td>\n",
       "    </tr>\n",
       "  </tbody>\n",
       "</table>\n",
       "</div>"
      ],
      "text/plain": [
       "              x1         x2\n",
       "count  80.000000  80.000000\n",
       "mean   -0.103613   0.054301\n",
       "std     3.037579   3.053647\n",
       "min    -5.379713  -4.232586\n",
       "25%    -2.836842  -3.012599\n",
       "50%     0.029122   0.152819\n",
       "75%     2.635251   2.940614\n",
       "max     4.838138   5.190400"
      ]
     },
     "execution_count": 4,
     "metadata": {},
     "output_type": "execute_result"
    }
   ],
   "source": []
  },
  {
   "cell_type": "code",
   "execution_count": 5,
   "metadata": {
    "scrolled": true
   },
   "outputs": [
    {
     "data": {
      "image/png": "[encoded data removed]",
      "text/plain": [
       "<Figure size 432x288 with 1 Axes>"
      ]
     },
     "metadata": {
      "needs_background": "light"
     },
     "output_type": "display_data"
    }
   ],
   "source": [
    "# 原始数据可视化\n"
   ]
  },
  {
   "cell_type": "markdown",
   "metadata": {},
   "source": [
    "### 2. 数据预处理（此案例中数据没有缺失值，且不用标准化，可略）\n",
    "### 3. 构建KMeans模型 \n",
    "- KMeans聚类：https://scikit-learn.org.cn/view/383.html"
   ]
  },
  {
   "cell_type": "code",
   "execution_count": 6,
   "metadata": {},
   "outputs": [
    {
     "name": "stdout",
     "output_type": "stream",
     "text": [
      "计算得到的3个簇的中心分别是：\n",
      " [[ 2.8692781  -2.54779119]\n",
      " [-3.38237045 -2.9473363 ]\n",
      " [-0.02298687  2.99472915]]\n",
      "共计迭代次数: 4\n",
      "样本到其最近的聚类中心的平方距离之和: 405.1381019619036\n"
     ]
    }
   ],
   "source": [
    "# 加载KMeans\n",
    "\n",
    "\n",
    "# （1）初始化聚类器，指定分簇的数量K=3\n",
    "\n",
    "\n",
    "# （2）训练数据\n",
    "\n",
    "\n",
    "# （3）得到簇中心向量\n",
    "print('计算得到的3个簇的中心分别是：\\n', )\n",
    "print('共计迭代次数:', )\n",
    "print('样本到其最近的聚类中心的平方距离之和:', )"
   ]
  },
  {
   "cell_type": "code",
   "execution_count": 7,
   "metadata": {
    "scrolled": true
   },
   "outputs": [
    {
     "name": "stdout",
     "output_type": "stream",
     "text": [
      "每个样本所属的簇：\n",
      " [2 2 0 1 2 2 0 1 2 2 0 1 2 2 0 1 2 2 0 1 2 2 0 1 2 2 0 1 2 2 0 1 2 2 0 1 2\n",
      " 2 0 1 2 2 0 1 2 2 0 1 2 2 0 1 2 2 0 1 2 2 0 1 2 2 0 1 2 2 0 1 2 2 0 1 0 2\n",
      " 0 1 2 2 0 1]\n"
     ]
    }
   ],
   "source": [
    "# （4）每个样本所属的类\n",
    "\n",
    "print('每个样本所属的簇：\\n', )"
   ]
  },
  {
   "cell_type": "code",
   "execution_count": 8,
   "metadata": {},
   "outputs": [
    {
     "data": {
      "image/png": "[encoded data removed]",
      "text/plain": [
       "<Figure size 576x360 with 1 Axes>"
      ]
     },
     "metadata": {
      "needs_background": "light"
     },
     "output_type": "display_data"
    }
   ],
   "source": [
    "# 将二维数据点画图显示出来\n"
   ]
  },
  {
   "cell_type": "markdown",
   "metadata": {},
   "source": [
    "### 试试K= 4"
   ]
  },
  {
   "cell_type": "code",
   "execution_count": 9,
   "metadata": {},
   "outputs": [
    {
     "name": "stdout",
     "output_type": "stream",
     "text": [
      "计算得到的4个簇的中心分别是：\n",
      " [[-3.38237045 -2.9473363 ]\n",
      " [ 2.6265299   3.10868015]\n",
      " [ 2.80293085 -2.7315146 ]\n",
      " [-2.46154315  2.78737555]]\n",
      "共计迭代次数: 3\n"
     ]
    }
   ],
   "source": [
    "\n",
    "print('计算得到的4个簇的中心分别是：\\n',)\n",
    "print('共计迭代次数:',)\n"
   ]
  },
  {
   "cell_type": "code",
   "execution_count": 11,
   "metadata": {},
   "outputs": [
    {
     "data": {
      "image/png": "[encoded data removed]",
      "text/plain": [
       "<Figure size 576x360 with 1 Axes>"
      ]
     },
     "metadata": {
      "needs_background": "light"
     },
     "output_type": "display_data"
    }
   ],
   "source": [
    "# 将二维数据点画图显示出来\n"
   ]
  },
  {
   "cell_type": "markdown",
   "metadata": {},
   "source": [
    "### 4. 模型评价及选择"
   ]
  },
  {
   "cell_type": "markdown",
   "metadata": {},
   "source": [
    "### 聚类评估常用指标\n",
    "\n",
    "**1.轮廓系数（Silhouette Coefficient ）**\n",
    "- https://scikit-learn.org/stable/modules/generated/sklearn.metrics.silhouette_score.html\n",
    "- si接近1，则说明样本i聚类合理\n",
    "- si接近-1，则说明样本i更应该分类到另外的簇\n",
    "- 若si 近似为0，则说明样本i在两个簇的边界上。\n",
    "\n",
    "**2.簇内平方和 WCSS （Within Clustering Sum Squarts）**\n",
    "- KMeans.inertia_\n",
    "- 缺点：这个评价参数表示的是簇中某一个点到聚类中心的平方距离之和，这种方法虽然在评估参数最小时表现了聚类的精细性，但是这种情况会出现划分过于精细的状况，并且未考虑和簇外点的距离最大化，因此，更推荐使用轮廓系数，可搭配使用。"
   ]
  },
  {
   "cell_type": "code",
   "execution_count": 12,
   "metadata": {},
   "outputs": [
    {
     "name": "stdout",
     "output_type": "stream",
     "text": [
      "K=3时，轮廓系数= 0.5412898780057389\n",
      "K=4时，轮廓系数= 0.6558213071798628\n"
     ]
    }
   ],
   "source": [
    "# 轮廓系数：silhouette_score\n"
   ]
  },
  {
   "cell_type": "code",
   "execution_count": 13,
   "metadata": {},
   "outputs": [
    {
     "name": "stdout",
     "output_type": "stream",
     "text": [
      "K=3时，簇内平方和= 405.1381019619036\n",
      "K=4时，簇内平方和= 149.95430467642632\n"
     ]
    }
   ],
   "source": [
    "# 样本到聚类中心的平方距离之和\n"
   ]
  },
  {
   "cell_type": "markdown",
   "metadata": {},
   "source": [
    "### 通过以上指标，很容易得出4个分簇，优于3个分簇。那么4个就是最优解了吗？\n",
    "- 尝试K=2,3,4,...,10试试看，找到效果最好的方案"
   ]
  },
  {
   "cell_type": "code",
   "execution_count": 14,
   "metadata": {},
   "outputs": [
    {
     "name": "stdout",
     "output_type": "stream",
     "text": [
      "轮廓系数分别是： [0.4573186176810804, 0.5412898780057389, 0.6558213071798628, 0.6098979828032716, 0.5296441201038743, 0.45137569731704924, 0.42993635716502554, 0.34388016645265645, 0.3685964096722614]\n",
      "簇内平方和分别是： [792.9168565373268, 405.1381019619036, 149.95430467642632, 123.99203711409866, 110.18360156449305, 96.171240138341, 82.48903446010327, 72.65157943747641, 62.43645188575762]\n"
     ]
    }
   ],
   "source": []
  },
  {
   "cell_type": "code",
   "execution_count": 15,
   "metadata": {},
   "outputs": [
    {
     "data": {
      "text/plain": [
       "Text(0, 0.5, 'Within Clustering Sum Squarts')"
      ]
     },
     "execution_count": 15,
     "metadata": {},
     "output_type": "execute_result"
    },
    {
     "data": {
      "image/png": "[encoded data removed]",
      "text/plain": [
       "<Figure size 864x288 with 2 Axes>"
      ]
     },
     "metadata": {
      "needs_background": "light"
     },
     "output_type": "display_data"
    }
   ],
   "source": [
    "# 轮廓系数和簇内平方和的可视化\n",
    "\n",
    "x = np.arange(2,11)\n",
    "\n",
    "\n",
    "plt.xlabel(\"Number of K \")\n",
    "plt.ylabel(\"Sihouette Score\")\n",
    "\n",
    "\n",
    "plt.xlabel(\"Number of K \")\n",
    "plt.ylabel(\"Within Clustering Sum Squarts\")"
   ]
  },
  {
   "cell_type": "markdown",
   "metadata": {},
   "source": [
    "### 根据拐点选定K为最佳类别数，此案例中K=4\n",
    "---"
   ]
  },
  {
   "cell_type": "code",
   "execution_count": null,
   "metadata": {},
   "outputs": [],
   "source": []
  }
 ],
 "metadata": {
  "kernelspec": {
   "display_name": "Python 3 (ipykernel)",
   "language": "python",
   "name": "python3"
  },
  "language_info": {
   "codemirror_mode": {
    "name": "ipython",
    "version": 3
   },
   "file_extension": ".py",
   "mimetype": "text/x-python",
   "name": "python",
   "nbconvert_exporter": "python",
   "pygments_lexer": "ipython3",
   "version": "3.9.7"
  },
  "varInspector": {
   "cols": {
    "lenName": 16,
    "lenType": 16,
    "lenVar": 40
   },
   "kernels_config": {
    "python": {
     "delete_cmd_postfix": "",
     "delete_cmd_prefix": "del ",
     "library": "var_list.py",
     "varRefreshCmd": "print(var_dic_list())"
    },
    "r": {
     "delete_cmd_postfix": ") ",
     "delete_cmd_prefix": "rm(",
     "library": "var_list.r",
     "varRefreshCmd": "cat(var_dic_list()) "
    }
   },
   "types_to_exclude": [
    "module",
    "function",
    "builtin_function_or_method",
    "instance",
    "_Feature"
   ],
   "window_display": false
  }
 },
 "nbformat": 4,
 "nbformat_minor": 4
}
