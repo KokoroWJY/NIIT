{
 "cells": [
  {
   "cell_type": "markdown",
   "id": "812a4d62",
   "metadata": {},
   "source": [
    "# 数据读取-图像：\n",
    "    1.cv2.IMREAD_COLOR: 彩色图像\n",
    "    2.cv2.IMREAD_GRAYSCALE: 灰度图像"
   ]
  },
  {
   "cell_type": "code",
   "execution_count": 23,
   "id": "5a0f6413",
   "metadata": {},
   "outputs": [],
   "source": [
    "import cv2\n",
    "import matplotlib.pyplot as plt\n",
    "import numpy as np\n",
    "%matplotlib inline\n",
    "\n",
    "img = cv2.imread(\"photo/opencv2.jpg\")"
   ]
  },
  {
   "cell_type": "code",
   "execution_count": 24,
   "id": "29793cc8",
   "metadata": {},
   "outputs": [
    {
     "data": {
      "text/plain": [
       "array([[[122, 222, 246],\n",
       "        [122, 219, 245],\n",
       "        [132, 225, 255],\n",
       "        ...,\n",
       "        [ 34,  46,  46],\n",
       "        [ 35,  45,  45],\n",
       "        [ 39,  49,  49]],\n",
       "\n",
       "       [[133, 231, 255],\n",
       "        [129, 226, 252],\n",
       "        [131, 223, 252],\n",
       "        ...,\n",
       "        [ 22,  34,  34],\n",
       "        [ 23,  33,  33],\n",
       "        [ 27,  37,  37]],\n",
       "\n",
       "       [[133, 229, 252],\n",
       "        [134, 227, 252],\n",
       "        [137, 226, 253],\n",
       "        ...,\n",
       "        [ 23,  35,  37],\n",
       "        [ 25,  34,  37],\n",
       "        [ 30,  39,  42]],\n",
       "\n",
       "       ...,\n",
       "\n",
       "       [[ 31,  49,  80],\n",
       "        [ 22,  40,  71],\n",
       "        [ 19,  39,  70],\n",
       "        ...,\n",
       "        [ 20,  29,  42],\n",
       "        [ 21,  30,  43],\n",
       "        [ 29,  38,  51]],\n",
       "\n",
       "       [[ 30,  48,  79],\n",
       "        [ 22,  40,  71],\n",
       "        [ 21,  39,  70],\n",
       "        ...,\n",
       "        [ 21,  30,  43],\n",
       "        [ 22,  31,  44],\n",
       "        [ 30,  39,  52]],\n",
       "\n",
       "       [[ 40,  58,  89],\n",
       "        [ 32,  50,  81],\n",
       "        [ 31,  49,  80],\n",
       "        ...,\n",
       "        [ 33,  42,  55],\n",
       "        [ 34,  43,  56],\n",
       "        [ 43,  52,  65]]], dtype=uint8)"
      ]
     },
     "execution_count": 24,
     "metadata": {},
     "output_type": "execute_result"
    }
   ],
   "source": [
    "img"
   ]
  },
  {
   "cell_type": "code",
   "execution_count": 25,
   "id": "c09af519",
   "metadata": {},
   "outputs": [],
   "source": [
    "cv2.imshow('窗口名字', img)\n",
    "cv2.waitKey(0) #等待时间 毫秒级 0表示关闭\n",
    "cv2.destroyAllWindows()"
   ]
  },
  {
   "cell_type": "code",
   "execution_count": 28,
   "id": "57069f01",
   "metadata": {},
   "outputs": [],
   "source": [
    "def cv_show(name, img):\n",
    "    cv2.imshow(name, img);\n",
    "    cv2.waitKey(0)\n",
    "    cv2.destroyAllWindows()"
   ]
  },
  {
   "cell_type": "code",
   "execution_count": 5,
   "id": "e463af4d",
   "metadata": {},
   "outputs": [
    {
     "data": {
      "text/plain": [
       "(574, 760, 3)"
      ]
     },
     "execution_count": 5,
     "metadata": {},
     "output_type": "execute_result"
    }
   ],
   "source": [
    "img.shape"
   ]
  },
  {
   "cell_type": "code",
   "execution_count": 6,
   "id": "a5b5d97c",
   "metadata": {},
   "outputs": [
    {
     "data": {
      "text/plain": [
       "array([[218, 216, 224, ...,  45,  44,  48],\n",
       "       [227, 223, 221, ...,  33,  32,  36],\n",
       "       [225, 224, 224, ...,  34,  34,  39],\n",
       "       ...,\n",
       "       [ 56,  47,  46, ...,  32,  33,  41],\n",
       "       [ 55,  47,  46, ...,  33,  34,  42],\n",
       "       [ 65,  57,  56, ...,  45,  46,  55]], dtype=uint8)"
      ]
     },
     "execution_count": 6,
     "metadata": {},
     "output_type": "execute_result"
    }
   ],
   "source": [
    "img = cv2.imread(\"photo/opencv2.jpg\", cv2.IMREAD_GRAYSCALE)\n",
    "img"
   ]
  },
  {
   "cell_type": "code",
   "execution_count": 7,
   "id": "fa422355",
   "metadata": {},
   "outputs": [
    {
     "data": {
      "text/plain": [
       "(574, 760)"
      ]
     },
     "execution_count": 7,
     "metadata": {},
     "output_type": "execute_result"
    }
   ],
   "source": [
    "img.shape"
   ]
  },
  {
   "cell_type": "code",
   "execution_count": 11,
   "id": "40b252b2",
   "metadata": {},
   "outputs": [],
   "source": [
    "cv2.imshow('grayscale', img)\n",
    "cv2.waitKey(0)\n",
    "cv2.destroyAllWindows()"
   ]
  },
  {
   "cell_type": "code",
   "execution_count": 13,
   "id": "2e16bfd6",
   "metadata": {},
   "outputs": [
    {
     "data": {
      "text/plain": [
       "True"
      ]
     },
     "execution_count": 13,
     "metadata": {},
     "output_type": "execute_result"
    }
   ],
   "source": [
    "# 保存\n",
    "cv2.imwrite('photo/grayscale_opencv2.jpg', img)"
   ]
  },
  {
   "cell_type": "code",
   "execution_count": 14,
   "id": "eb9f3d74",
   "metadata": {},
   "outputs": [
    {
     "data": {
      "text/plain": [
       "numpy.ndarray"
      ]
     },
     "execution_count": 14,
     "metadata": {},
     "output_type": "execute_result"
    }
   ],
   "source": [
    "type(img)"
   ]
  },
  {
   "cell_type": "code",
   "execution_count": 15,
   "id": "2c9b3e06",
   "metadata": {},
   "outputs": [
    {
     "data": {
      "text/plain": [
       "436240"
      ]
     },
     "execution_count": 15,
     "metadata": {},
     "output_type": "execute_result"
    }
   ],
   "source": [
    "img.size # 像素点个数"
   ]
  },
  {
   "cell_type": "code",
   "execution_count": 17,
   "id": "6f5a2812",
   "metadata": {},
   "outputs": [
    {
     "data": {
      "text/plain": [
       "dtype('uint8')"
      ]
     },
     "execution_count": 17,
     "metadata": {},
     "output_type": "execute_result"
    }
   ],
   "source": [
    "img.dtype # 数据类型"
   ]
  },
  {
   "cell_type": "markdown",
   "id": "35006a55",
   "metadata": {},
   "source": [
    "# 数据读取-视频\n",
    "    1. cv2.VideoCapture 可以捕获摄像头, 用数字来控制不同设备. 例如:0, 1\n",
    "    2. 如果是视频文件直接指定路径即可\n",
    "   "
   ]
  },
  {
   "cell_type": "code",
   "execution_count": 18,
   "id": "3276dccd",
   "metadata": {},
   "outputs": [],
   "source": [
    "vc = cv2.VideoCapture(\"video/2.mp4\")\n",
    "# cv2.imshow(\"1\", vc)"
   ]
  },
  {
   "cell_type": "code",
   "execution_count": 19,
   "id": "6d69155b",
   "metadata": {},
   "outputs": [],
   "source": [
    "# 检查是否打开正确\n",
    "if vc.isOpened():\n",
    "    open, frame = vc.read()\n",
    "else:\n",
    "    open = False"
   ]
  },
  {
   "cell_type": "code",
   "execution_count": 20,
   "id": "bc6c76e7",
   "metadata": {},
   "outputs": [],
   "source": [
    "while open:\n",
    "    ret, frame = vc.read()\n",
    "    if frame is None:\n",
    "        break\n",
    "    if ret == True:\n",
    "        gray = cv2.cvtColor(frame, cv2.COLOR_BGR2GRAY)\n",
    "        cv2.imshow('result', gray)\n",
    "        if cv2.waitKey(1) & 0xFF == 27:\n",
    "            break\n",
    "vc.release() # 释放\n",
    "cv2.destroyAllWindows()"
   ]
  },
  {
   "cell_type": "markdown",
   "id": "62785f92",
   "metadata": {},
   "source": [
    "# 截取部分图像数据"
   ]
  },
  {
   "cell_type": "code",
   "execution_count": 29,
   "id": "02066d7d",
   "metadata": {},
   "outputs": [],
   "source": [
    "img = cv2.imread(\"photo/opencv2.jpg\")\n",
    "photo = img[0:200, 0:200]\n",
    "cv_show('photo', photo)"
   ]
  },
  {
   "cell_type": "code",
   "execution_count": null,
   "id": "0ac6387d",
   "metadata": {},
   "outputs": [],
   "source": []
  }
 ],
 "metadata": {
  "kernelspec": {
   "display_name": "Python 3 (ipykernel)",
   "language": "python",
   "name": "python3"
  },
  "language_info": {
   "codemirror_mode": {
    "name": "ipython",
    "version": 3
   },
   "file_extension": ".py",
   "mimetype": "text/x-python",
   "name": "python",
   "nbconvert_exporter": "python",
   "pygments_lexer": "ipython3",
   "version": "3.9.7"
  }
 },
 "nbformat": 4,
 "nbformat_minor": 5
}
