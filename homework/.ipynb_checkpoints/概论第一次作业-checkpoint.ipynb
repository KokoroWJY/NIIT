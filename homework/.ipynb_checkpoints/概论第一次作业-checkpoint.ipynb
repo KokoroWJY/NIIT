{
 "cells": [
  {
   "cell_type": "markdown",
   "id": "b1d2c27a",
   "metadata": {},
   "source": [
    "### 创建从0到9的一维数组，0，1，2，3，4，5，6，7，8，9（不能直接定义）"
   ]
  },
  {
   "cell_type": "code",
   "execution_count": 2,
   "id": "42b3caef",
   "metadata": {},
   "outputs": [],
   "source": [
    "import numpy as np"
   ]
  },
  {
   "cell_type": "code",
   "execution_count": 2,
   "id": "778d821d",
   "metadata": {},
   "outputs": [
    {
     "name": "stdout",
     "output_type": "stream",
     "text": [
      "[0 1 2 3 4 5 6 7 8 9]\n"
     ]
    }
   ],
   "source": [
    "a = np.arange(0, 10)\n",
    "print(a)"
   ]
  },
  {
   "cell_type": "markdown",
   "id": "7bfb9fcd",
   "metadata": {},
   "source": [
    "### 创建一个3×3的二维数组，值为：11，13，15，17，19，21，23，25，27（不能直接定义"
   ]
  },
  {
   "cell_type": "code",
   "execution_count": 43,
   "id": "20bdd2e7",
   "metadata": {},
   "outputs": [
    {
     "name": "stdout",
     "output_type": "stream",
     "text": [
      "[[11 13 15]\n",
      " [17 19 21]\n",
      " [23 25 27]]\n"
     ]
    }
   ],
   "source": [
    "a = np.arange(11, 28, 2).reshape(3,3)\n",
    "print(a)"
   ]
  },
  {
   "cell_type": "markdown",
   "id": "c950a815",
   "metadata": {},
   "source": [
    "### 自定义两个数组，进行水平和垂直堆叠"
   ]
  },
  {
   "cell_type": "code",
   "execution_count": 37,
   "id": "515e8a31",
   "metadata": {},
   "outputs": [
    {
     "name": "stdout",
     "output_type": "stream",
     "text": [
      "a=[[10 24]\n",
      " [91 42]]\n",
      "b=[[82 52]\n",
      " [66 20]]\n",
      "横向=[[10 24 82 52]\n",
      " [91 42 66 20]]\n",
      "纵向=[[10 24]\n",
      " [91 42]\n",
      " [82 52]\n",
      " [66 20]]\n"
     ]
    }
   ],
   "source": [
    "a = np.random.randint(0, 100, size=(2,2))\n",
    "b = np.random.randint(0, 100, size=(2,2))\n",
    "print(\"a={}\\nb={}\".format(a, b))\n",
    "c = np.hstack((a, b)) # 横向\n",
    "d = np.vstack((a, b)) # 纵向\n",
    "print(\"横向={}\\n纵向={}\".format(c, d))"
   ]
  },
  {
   "cell_type": "markdown",
   "id": "996ecab0",
   "metadata": {},
   "source": [
    "### 找出二维数组np.arange(9).reshape(3,3)每一行中的最大值，及最大值的下标"
   ]
  },
  {
   "cell_type": "code",
   "execution_count": 46,
   "id": "3a602bb6",
   "metadata": {},
   "outputs": [
    {
     "name": "stdout",
     "output_type": "stream",
     "text": [
      "a= [[0 1 2]\n",
      " [3 4 5]\n",
      " [6 7 8]]\n",
      "[2 5 8]\n",
      "[0 3 6]\n"
     ]
    }
   ],
   "source": [
    "a = np.arange(9).reshape(3,3)\n",
    "print(\"a=\",a)\n",
    "print(np.max(a, axis=1))\n",
    "print(np.min(a, axis=1))"
   ]
  },
  {
   "cell_type": "markdown",
   "id": "1ddc0d7f",
   "metadata": {},
   "source": [
    "### 鸢尾花数据处理"
   ]
  },
  {
   "cell_type": "code",
   "execution_count": 5,
   "id": "c6917f71",
   "metadata": {},
   "outputs": [
    {
     "name": "stdout",
     "output_type": "stream",
     "text": [
      " [4.3, 4.4, 4.5, 4.6, 4.7, 4.8, 4.9, 5.0, 5.1, 5.2, 5.3, 5.4, 5.5, 5.6, 5.7, 5.8, 5.9, 6.0, 6.1, 6.2, 6.3, 6.4, 6.5, 6.6, 6.7, 6.8, 6.9, 7.0, 7.1, 7.2, 7.3, 7.4, 7.6, 7.7, 7.9]\n"
     ]
    }
   ],
   "source": [
    "a = np.loadtxt(\"../data/iris_sepal_length.csv\")\n",
    "print(\"去重, 排序后: \", sorted(set(a)))"
   ]
  },
  {
   "cell_type": "code",
   "execution_count": 7,
   "id": "d4fa2525",
   "metadata": {},
   "outputs": [
    {
     "name": "stdout",
     "output_type": "stream",
     "text": [
      "和:876.5, 均值:5.843333333333334, 标准差:0.8253012917851409, 方差:0.6811222222222223, 最小值:4.3, 最大值:7.9\n"
     ]
    }
   ],
   "source": [
    "print(\"和:{}, 均值:{}, 标准差:{}, 方差:{}, 最小值:{}, 最大值:{}\".format(np.sum(a), np.mean(a), np.std(a), np.var(a), np.min(a), np.max(a)))"
   ]
  },
  {
   "cell_type": "code",
   "execution_count": 21,
   "id": "1f83c534",
   "metadata": {},
   "outputs": [
    {
     "name": "stdout",
     "output_type": "stream",
     "text": [
      "[[5.1 4.9 4.7 4.6 5. ]\n",
      " [5.4 4.6 5.  4.4 4.9]\n",
      " [5.4 4.8 4.8 4.3 5.8]\n",
      " [5.7 5.4 5.1 5.7 5.1]\n",
      " [5.4 5.1 4.6 5.1 4.8]\n",
      " [5.  5.  5.2 5.2 4.7]\n",
      " [4.8 5.4 5.2 5.5 4.9]\n",
      " [5.  5.5 4.9 4.4 5.1]\n",
      " [5.  4.5 4.4 5.  5.1]\n",
      " [4.8 5.1 4.6 5.3 5. ]\n",
      " [7.  6.4 6.9 5.5 6.5]\n",
      " [5.7 6.3 4.9 6.6 5.2]\n",
      " [5.  5.9 6.  6.1 5.6]\n",
      " [6.7 5.6 5.8 6.2 5.6]\n",
      " [5.9 6.1 6.3 6.1 6.4]\n",
      " [6.6 6.8 6.7 6.  5.7]\n",
      " [5.5 5.5 5.8 6.  5.4]\n",
      " [6.  6.7 6.3 5.6 5.5]\n",
      " [5.5 6.1 5.8 5.  5.6]\n",
      " [5.7 5.7 6.2 5.1 5.7]\n",
      " [6.3 5.8 7.1 6.3 6.5]\n",
      " [7.6 4.9 7.3 6.7 7.2]\n",
      " [6.5 6.4 6.8 5.7 5.8]\n",
      " [6.4 6.5 7.7 7.7 6. ]\n",
      " [6.9 5.6 7.7 6.3 6.7]\n",
      " [7.2 6.2 6.1 6.4 7.2]\n",
      " [7.4 7.9 6.4 6.3 6.1]\n",
      " [7.7 6.3 6.4 6.  6.9]\n",
      " [6.7 6.9 5.8 6.8 6.7]\n",
      " [6.7 6.3 6.5 6.2 5.9]]\n"
     ]
    }
   ],
   "source": [
    "b = np.reshape(a, (-1,5))\n",
    "print(b)"
   ]
  },
  {
   "cell_type": "code",
   "execution_count": 20,
   "id": "1b8af818",
   "metadata": {},
   "outputs": [
    {
     "name": "stdout",
     "output_type": "stream",
     "text": [
      "[[4.8 4.8 4.3 5.8]\n",
      " [5.4 5.1 5.7 5.1]]\n"
     ]
    }
   ],
   "source": [
    "print(b[2:4, 1:5])\n",
    "np.savetxt('../data/tmp2.csv', b[2:4, 1:5])"
   ]
  },
  {
   "cell_type": "code",
   "execution_count": null,
   "id": "ca7f831b",
   "metadata": {},
   "outputs": [],
   "source": []
  }
 ],
 "metadata": {
  "kernelspec": {
   "display_name": "Python 3 (ipykernel)",
   "language": "python",
   "name": "python3"
  },
  "language_info": {
   "codemirror_mode": {
    "name": "ipython",
    "version": 3
   },
   "file_extension": ".py",
   "mimetype": "text/x-python",
   "name": "python",
   "nbconvert_exporter": "python",
   "pygments_lexer": "ipython3",
   "version": "3.9.7"
  }
 },
 "nbformat": 4,
 "nbformat_minor": 5
}
